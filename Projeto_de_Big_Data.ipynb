{
  "cells": [
    {
      "cell_type": "markdown",
      "metadata": {
        "id": "view-in-github",
        "colab_type": "text"
      },
      "source": [
        "<a href=\"https://colab.research.google.com/github/pedro00pt/Projeto-de-Big-Data/blob/main/Projeto_de_Big_Data.ipynb\" target=\"_parent\"><img src=\"https://colab.research.google.com/assets/colab-badge.svg\" alt=\"Open In Colab\"/></a>"
      ]
    },
    {
      "cell_type": "markdown",
      "source": [
        "![ESTB.png](data:image/png;base64,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)\n",
        "\n",
        "**Projeto de Big Data**\n",
        "\n",
        "**Realizado por:**\n",
        "**Pedro Peixoto nº202000221** **e**\n",
        "**João Yanga nº202000167**"
      ],
      "metadata": {
        "id": "cPVEL21nZjf5"
      }
    },
    {
      "cell_type": "markdown",
      "source": [
        "# **Índice**\n",
        " \n",
        "\n",
        "*   Introdução\n",
        "*   Instalação e configuração do Pyspark\n",
        "*   Exploração e tratamento de dados\n",
        "*   Implementação dos modelos\n",
        "*   Conclusão\n",
        "*   Bibliografia\n",
        "\n",
        "\n",
        "\n",
        "\n"
      ],
      "metadata": {
        "id": "Gdh2DfpYnm_1"
      }
    },
    {
      "cell_type": "markdown",
      "source": [
        "# **Introdução**"
      ],
      "metadata": {
        "id": "NL0i1FDuo0b_"
      }
    },
    {
      "cell_type": "markdown",
      "source": [
        "No projeto final da unidade curricular de Big Data foi proposta a escolha de um dataset com a finalidade de aplicar as funcionalidades do Pyspark. O dataset escolhido trata-se de um conjunto de dados que consiste em mais de 1 milhão de transações feitas por cerca de 800 mil clientes de um banco indiano. O dataset tem 9 colunas com informações do ID do cliente, ID da transação, data de nascimento do cliente, localização, género, saldo da conta no momento da transação, data da transação, tempo de realização da transação e valor da transação.\n",
        "O objetivo deste projeto foi usar o modelo K-means e uma regressão linear para entender possíveis padrões entre os saldos bancários dos clientes e os seus respetivos valores de transação. Pretende-se também comparar os resultados dos modelos."
      ],
      "metadata": {
        "id": "KGiEtKRrpvHJ"
      }
    },
    {
      "cell_type": "markdown",
      "source": [
        "# **Instalação e configuração do Pyspark**"
      ],
      "metadata": {
        "id": "O-LfMYDEpvrH"
      }
    },
    {
      "cell_type": "markdown",
      "source": [
        "Instalação do pyspark"
      ],
      "metadata": {
        "id": "TO1InYyOZrne"
      }
    },
    {
      "cell_type": "code",
      "execution_count": null,
      "metadata": {
        "colab": {
          "base_uri": "https://localhost:8080/"
        },
        "id": "GBq8jZnqcsWX",
        "outputId": "72059495-00a3-4298-d7fc-f294ea2ec2ce"
      },
      "outputs": [
        {
          "output_type": "stream",
          "name": "stdout",
          "text": [
            "Looking in indexes: https://pypi.org/simple, https://us-python.pkg.dev/colab-wheels/public/simple/\n",
            "Collecting pyspark\n",
            "  Downloading pyspark-3.3.1.tar.gz (281.4 MB)\n",
            "\u001b[2K     \u001b[90m━━━━━━━━━━━━━━━━━━━━━━━━━━━━━━━━━━━━━━━\u001b[0m \u001b[32m281.4/281.4 MB\u001b[0m \u001b[31m3.1 MB/s\u001b[0m eta \u001b[36m0:00:00\u001b[0m\n",
            "\u001b[?25h  Preparing metadata (setup.py) ... \u001b[?25l\u001b[?25hdone\n",
            "Collecting py4j==0.10.9.5\n",
            "  Downloading py4j-0.10.9.5-py2.py3-none-any.whl (199 kB)\n",
            "\u001b[2K     \u001b[90m━━━━━━━━━━━━━━━━━━━━━━━━━━━━━━━━━━━━━━\u001b[0m \u001b[32m199.7/199.7 KB\u001b[0m \u001b[31m10.6 MB/s\u001b[0m eta \u001b[36m0:00:00\u001b[0m\n",
            "\u001b[?25hBuilding wheels for collected packages: pyspark\n",
            "  Building wheel for pyspark (setup.py) ... \u001b[?25l\u001b[?25hdone\n",
            "  Created wheel for pyspark: filename=pyspark-3.3.1-py2.py3-none-any.whl size=281845512 sha256=d1cad868fe8adf20bd260d4642f545803d2f631c9a072a1ae83d6e711901658c\n",
            "  Stored in directory: /root/.cache/pip/wheels/43/dc/11/ec201cd671da62fa9c5cc77078235e40722170ceba231d7598\n",
            "Successfully built pyspark\n",
            "Installing collected packages: py4j, pyspark\n",
            "Successfully installed py4j-0.10.9.5 pyspark-3.3.1\n",
            "Looking in indexes: https://pypi.org/simple, https://us-python.pkg.dev/colab-wheels/public/simple/\n",
            "Collecting findspark\n",
            "  Downloading findspark-2.0.1-py2.py3-none-any.whl (4.4 kB)\n",
            "Installing collected packages: findspark\n",
            "Successfully installed findspark-2.0.1\n"
          ]
        }
      ],
      "source": [
        "!pip install pyspark\n",
        "!pip install findspark"
      ]
    },
    {
      "cell_type": "markdown",
      "source": [
        "Importação das bibliotecas necessárias para o nosso projeto"
      ],
      "metadata": {
        "id": "p4ZCnSQ3Z5xQ"
      }
    },
    {
      "cell_type": "code",
      "execution_count": null,
      "metadata": {
        "id": "R-tH7vGKcsWa"
      },
      "outputs": [],
      "source": [
        "from pyspark.sql.functions import col, udf, count, asc, desc\n",
        "from pyspark.sql.types import DoubleType, IntegerType, DateType, FloatType\n",
        "from pyspark.sql.functions import *\n",
        "from pyspark.sql.types import *\n",
        "from pyspark.sql.functions import isnan, when, count\n",
        "from pyspark.ml.feature import VectorAssembler\n",
        "from pyspark.ml.feature import StandardScaler\n",
        "from pyspark.ml.clustering import KMeans\n",
        "from pyspark.ml.evaluation import ClusteringEvaluator"
      ]
    },
    {
      "cell_type": "markdown",
      "source": [
        "Inicialização de uma SparkSession.\n",
        "Atribuiu-se o nome à nossa aplicação: Projeto de Big Data. "
      ],
      "metadata": {
        "id": "pRcZW4QYiY35"
      }
    },
    {
      "cell_type": "code",
      "execution_count": null,
      "metadata": {
        "id": "r9lX9OHNcsWc",
        "colab": {
          "base_uri": "https://localhost:8080/",
          "height": 219
        },
        "outputId": "2a1ffc25-fcd2-4ac4-d652-a5d26e38fb51"
      },
      "outputs": [
        {
          "output_type": "execute_result",
          "data": {
            "text/plain": [
              "<pyspark.sql.session.SparkSession at 0x7f18fea1a760>"
            ],
            "text/html": [
              "\n",
              "            <div>\n",
              "                <p><b>SparkSession - in-memory</b></p>\n",
              "                \n",
              "        <div>\n",
              "            <p><b>SparkContext</b></p>\n",
              "\n",
              "            <p><a href=\"http://3e6a40fa7b17:4040\">Spark UI</a></p>\n",
              "\n",
              "            <dl>\n",
              "              <dt>Version</dt>\n",
              "                <dd><code>v3.3.1</code></dd>\n",
              "              <dt>Master</dt>\n",
              "                <dd><code>local[*]</code></dd>\n",
              "              <dt>AppName</dt>\n",
              "                <dd><code>Projeto de Big Data</code></dd>\n",
              "            </dl>\n",
              "        </div>\n",
              "        \n",
              "            </div>\n",
              "        "
            ]
          },
          "metadata": {},
          "execution_count": 3
        }
      ],
      "source": [
        "from pyspark.sql import SparkSession\n",
        "import findspark\n",
        "\n",
        "findspark.init()\n",
        "\n",
        "spark = SparkSession.builder.appName(\"Projeto de Big Data\")\\\n",
        "                    .config(\"spark.memory.offHeap.enabled\",\"true\")\\\n",
        "                    .config(\"spark.memory.offHeap.size\",\"10g\")\\\n",
        "                    .getOrCreate()\n",
        "\n",
        "\n",
        "\n",
        "\n",
        "spark"
      ]
    },
    {
      "cell_type": "markdown",
      "source": [
        "Leitura do ficheiro csv dos dados bancários"
      ],
      "metadata": {
        "id": "0H5TINP4kzUq"
      }
    },
    {
      "cell_type": "code",
      "execution_count": null,
      "metadata": {
        "colab": {
          "base_uri": "https://localhost:8080/"
        },
        "id": "51MTGEQKcsWd",
        "outputId": "de3b4b57-b51f-4630-c20b-6311211f7cc8"
      },
      "outputs": [
        {
          "output_type": "stream",
          "name": "stdout",
          "text": [
            "  % Total    % Received % Xferd  Average Speed   Time    Time     Time  Current\n",
            "                                 Dload  Upload   Total   Spent    Left  Speed\n",
            "100 66.8M  100 66.8M    0     0  59.5M      0  0:00:01  0:00:01 --:--:-- 59.5M\n"
          ]
        }
      ],
      "source": [
        "!curl https://raw.githubusercontent.com/pedro00pt/Projeto-de-Big-Data/main/bank_transactions-colunas_alinhadas.csv >> bank_transactions-colunas_alinhadas.csv\n",
        "df = spark.read.csv('bank_transactions-colunas_alinhadas.csv',header=True,sep=\";\")"
      ]
    },
    {
      "cell_type": "markdown",
      "source": [
        "Retorna as 10 primeiras linhas do dataframe"
      ],
      "metadata": {
        "id": "Kk1SIvCQlgj-"
      }
    },
    {
      "cell_type": "code",
      "execution_count": null,
      "metadata": {
        "colab": {
          "base_uri": "https://localhost:8080/"
        },
        "id": "ieymG8FscsWe",
        "outputId": "aefeb0d1-fb30-4770-e6e5-32900154e264"
      },
      "outputs": [
        {
          "output_type": "execute_result",
          "data": {
            "text/plain": [
              "[Row(TransactionID='T1', CustomerID='C5841053', CustomerDOB='10/1/94', CustGender='F', CustLocation='JAMSHEDPUR', CustAccountBalance='17819.05', TransactionDate='02/08/2016', TransactionTime='143207', TransactionAmount (INR)='25'),\n",
              " Row(TransactionID='T2', CustomerID='C2142763', CustomerDOB='4/4/57', CustGender='M', CustLocation='JHAJJAR', CustAccountBalance='2270.69', TransactionDate='02/08/2016', TransactionTime='141858', TransactionAmount (INR)='27999'),\n",
              " Row(TransactionID='T3', CustomerID='C4417068', CustomerDOB='26/11/96', CustGender='F', CustLocation='MUMBAI', CustAccountBalance='17874.44', TransactionDate='02/08/2016', TransactionTime='142712', TransactionAmount (INR)='459'),\n",
              " Row(TransactionID='T4', CustomerID='C5342380', CustomerDOB='14/9/73', CustGender='F', CustLocation='MUMBAI', CustAccountBalance='866503.21', TransactionDate='02/08/2016', TransactionTime='142714', TransactionAmount (INR)='2060'),\n",
              " Row(TransactionID='T5', CustomerID='C9031234', CustomerDOB='24/3/88', CustGender='F', CustLocation='NAVI MUMBAI', CustAccountBalance='6714.43', TransactionDate='02/08/2016', TransactionTime='181156', TransactionAmount (INR)='1762.5'),\n",
              " Row(TransactionID='T6', CustomerID='C1536588', CustomerDOB='8/10/72', CustGender='F', CustLocation='ITANAGAR', CustAccountBalance='53609.2', TransactionDate='02/08/2016', TransactionTime='173940', TransactionAmount (INR)='676'),\n",
              " Row(TransactionID='T7', CustomerID='C7126560', CustomerDOB='26/1/92', CustGender='F', CustLocation='MUMBAI', CustAccountBalance='973.46', TransactionDate='02/08/2016', TransactionTime='173806', TransactionAmount (INR)='566'),\n",
              " Row(TransactionID='T8', CustomerID='C1220223', CustomerDOB='27/1/82', CustGender='M', CustLocation='MUMBAI', CustAccountBalance='95075.54', TransactionDate='02/08/2016', TransactionTime='170537', TransactionAmount (INR)='148'),\n",
              " Row(TransactionID='T9', CustomerID='C8536061', CustomerDOB='19/4/88', CustGender='F', CustLocation='GURGAON', CustAccountBalance='14906.96', TransactionDate='02/08/2016', TransactionTime='192825', TransactionAmount (INR)='833'),\n",
              " Row(TransactionID='T10', CustomerID='C6638934', CustomerDOB='22/6/84', CustGender='M', CustLocation='MUMBAI', CustAccountBalance='4279.22', TransactionDate='02/08/2016', TransactionTime='192446', TransactionAmount (INR)='289.11')]"
            ]
          },
          "metadata": {},
          "execution_count": 5
        }
      ],
      "source": [
        "df.head(10)"
      ]
    },
    {
      "cell_type": "markdown",
      "source": [
        "Mostra as 5 primeiras linhas do dataframe no formato de uma tabela com linhas e colunas"
      ],
      "metadata": {
        "id": "fCIdNYKymN8h"
      }
    },
    {
      "cell_type": "code",
      "execution_count": null,
      "metadata": {
        "colab": {
          "base_uri": "https://localhost:8080/"
        },
        "id": "kteZhI3ucsWf",
        "outputId": "ad06197c-cc77-4557-83e1-570d4f07e342"
      },
      "outputs": [
        {
          "output_type": "stream",
          "name": "stdout",
          "text": [
            "+-------------+----------+-----------+----------+------------+------------------+---------------+---------------+-----------------------+\n",
            "|TransactionID|CustomerID|CustomerDOB|CustGender|CustLocation|CustAccountBalance|TransactionDate|TransactionTime|TransactionAmount (INR)|\n",
            "+-------------+----------+-----------+----------+------------+------------------+---------------+---------------+-----------------------+\n",
            "|T1           |C5841053  |10/1/94    |F         |JAMSHEDPUR  |17819.05          |02/08/2016     |143207         |25                     |\n",
            "|T2           |C2142763  |4/4/57     |M         |JHAJJAR     |2270.69           |02/08/2016     |141858         |27999                  |\n",
            "|T3           |C4417068  |26/11/96   |F         |MUMBAI      |17874.44          |02/08/2016     |142712         |459                    |\n",
            "|T4           |C5342380  |14/9/73    |F         |MUMBAI      |866503.21         |02/08/2016     |142714         |2060                   |\n",
            "|T5           |C9031234  |24/3/88    |F         |NAVI MUMBAI |6714.43           |02/08/2016     |181156         |1762.5                 |\n",
            "+-------------+----------+-----------+----------+------------+------------------+---------------+---------------+-----------------------+\n",
            "only showing top 5 rows\n",
            "\n"
          ]
        }
      ],
      "source": [
        "df.show(5,0)"
      ]
    },
    {
      "cell_type": "markdown",
      "source": [
        "# **Exploração e Tratamento de dados**"
      ],
      "metadata": {
        "id": "o0dGyEwWlo4P"
      }
    },
    {
      "cell_type": "markdown",
      "source": [
        "Informações gerais do dataframe:\n",
        "*   Número de linhas\n",
        "*   Número total de transações\n",
        "*   Número total de clientes\n",
        "\n",
        "Verificou-se que várias colunas eram do tipo string quando não o deveriam ser, visto que se tratam de dados bancários como o saldo da conta e o montante de transação. Fizeram-se então as devidas alterações dos tipos de dados.\n",
        "Viu-se de seguida se as colunas do dataframe contêm valores nulos e na's."
      ],
      "metadata": {
        "id": "-1Rp68eRnVCm"
      }
    },
    {
      "cell_type": "code",
      "source": [
        "df.count()"
      ],
      "metadata": {
        "colab": {
          "base_uri": "https://localhost:8080/"
        },
        "id": "XwdJSo2-rnHr",
        "outputId": "0a6b745c-a5f9-4874-f5a5-0b22e3680540"
      },
      "execution_count": null,
      "outputs": [
        {
          "output_type": "execute_result",
          "data": {
            "text/plain": [
              "1046198"
            ]
          },
          "metadata": {},
          "execution_count": 64
        }
      ]
    },
    {
      "cell_type": "code",
      "source": [
        "df.select('TransactionID').distinct().count()"
      ],
      "metadata": {
        "colab": {
          "base_uri": "https://localhost:8080/"
        },
        "id": "TD-EebE1rxVg",
        "outputId": "ed62d8e0-e9ab-4243-be08-8c2679b50489"
      },
      "execution_count": null,
      "outputs": [
        {
          "output_type": "execute_result",
          "data": {
            "text/plain": [
              "1048567"
            ]
          },
          "metadata": {},
          "execution_count": 7
        }
      ]
    },
    {
      "cell_type": "code",
      "source": [
        "df.select('CustomerID').distinct().count()"
      ],
      "metadata": {
        "colab": {
          "base_uri": "https://localhost:8080/"
        },
        "id": "l0dbhfFMrxen",
        "outputId": "11647145-74cb-4bc7-d9fb-8863bf53c145"
      },
      "execution_count": null,
      "outputs": [
        {
          "output_type": "execute_result",
          "data": {
            "text/plain": [
              "884265"
            ]
          },
          "metadata": {},
          "execution_count": 8
        }
      ]
    },
    {
      "cell_type": "code",
      "execution_count": null,
      "metadata": {
        "id": "m8A5UmoycsWg"
      },
      "outputs": [],
      "source": [
        "df = df \\\n",
        "    .withColumn('CustomerDOB', col('CustomerDOB').cast(DateType())) \\\n",
        "    .withColumn('CustAccountBalance', col('CustAccountBalance').cast(FloatType())) \\\n",
        "    .withColumn('TransactionDate', col('TransactionDate').cast(DateType())) \\\n",
        "    .withColumn('TransactionTime', col('TransactionTime').cast(IntegerType())) \\\n",
        "    .withColumn('TransactionAmount (INR)', col('TransactionAmount (INR)').cast(FloatType()))"
      ]
    },
    {
      "cell_type": "code",
      "execution_count": null,
      "metadata": {
        "colab": {
          "base_uri": "https://localhost:8080/"
        },
        "id": "BEyCPqIucsWi",
        "outputId": "a2c1915c-343d-42d8-a3d5-8bee23cb1027"
      },
      "outputs": [
        {
          "output_type": "stream",
          "name": "stdout",
          "text": [
            "+-------------+----------+----------+------------+------------------+---------------+-----------------------+\n",
            "|TransactionID|CustomerID|CustGender|CustLocation|CustAccountBalance|TransactionTime|TransactionAmount (INR)|\n",
            "+-------------+----------+----------+------------+------------------+---------------+-----------------------+\n",
            "|            0|         0|      1100|         151|              2369|              0|                      0|\n",
            "+-------------+----------+----------+------------+------------------+---------------+-----------------------+\n",
            "\n"
          ]
        }
      ],
      "source": [
        "df_Columns=[\"TransactionID\",\"CustomerID\",\"CustGender\",\"CustLocation\",\"CustAccountBalance\",\"TransactionTime\",\"TransactionAmount (INR)\"]\n",
        "df.select([count(when(col(c).isNull(), c)).alias(c) for c in df_Columns]).show()"
      ]
    },
    {
      "cell_type": "code",
      "execution_count": null,
      "metadata": {
        "colab": {
          "base_uri": "https://localhost:8080/"
        },
        "id": "5_IJAM8wcsWj",
        "outputId": "c74f651f-b7d4-4da3-d3a0-9734e1671b2d"
      },
      "outputs": [
        {
          "output_type": "stream",
          "name": "stdout",
          "text": [
            "+-------------+----------+----------+------------+------------------+---------------+-----------------------+\n",
            "|TransactionID|CustomerID|CustGender|CustLocation|CustAccountBalance|TransactionTime|TransactionAmount (INR)|\n",
            "+-------------+----------+----------+------------+------------------+---------------+-----------------------+\n",
            "|            0|         0|         0|           0|                 0|              0|                      0|\n",
            "+-------------+----------+----------+------------+------------------+---------------+-----------------------+\n",
            "\n"
          ]
        }
      ],
      "source": [
        "df_Columns=[\"TransactionID\",\"CustomerID\",\"CustGender\",\"CustLocation\",\"CustAccountBalance\",\"TransactionTime\",\"TransactionAmount (INR)\"]\n",
        "df.select([count(when(isnan(c), c)).alias(c) for c in df_Columns]).show()"
      ]
    },
    {
      "cell_type": "markdown",
      "source": [
        "Foram retirados os valores nulos das colunas CustAccountBalance e TransactionAmount (INR).\n",
        "Foram obtidos valores para parâmetros estatísticos para cada uma das colunas do dataframe, excluindo as colunas CustomerDOB e TransactionDate que são do tipo data.\n",
        "Imprimiram-se as informações das colunas do dataframe para verficar se as alterações foram feitas corretamente."
      ],
      "metadata": {
        "id": "hD20Ne7-s06h"
      }
    },
    {
      "cell_type": "code",
      "execution_count": null,
      "metadata": {
        "id": "J_ZFPk6WcsWk"
      },
      "outputs": [],
      "source": [
        "from pyspark.sql.functions import col\n",
        "\n",
        "df = df.filter(col(\"CustAccountBalance\").isNotNull())"
      ]
    },
    {
      "cell_type": "code",
      "execution_count": null,
      "metadata": {
        "id": "igdPiAOicsWk"
      },
      "outputs": [],
      "source": [
        "from pyspark.sql.functions import col\n",
        "\n",
        "df = df.filter(col(\"TransactionAmount (INR)\").isNotNull())"
      ]
    },
    {
      "cell_type": "code",
      "execution_count": null,
      "metadata": {
        "id": "SSVS_QmYcsWl",
        "colab": {
          "base_uri": "https://localhost:8080/"
        },
        "outputId": "8e31f158-99be-4e69-ab8c-433972427098"
      },
      "outputs": [
        {
          "output_type": "stream",
          "name": "stdout",
          "text": [
            "+-------+-------------+----------+----------+--------------------+------------------+------------------+-----------------------+\n",
            "|summary|TransactionID|CustomerID|CustGender|        CustLocation|CustAccountBalance|   TransactionTime|TransactionAmount (INR)|\n",
            "+-------+-------------+----------+----------+--------------------+------------------+------------------+-----------------------+\n",
            "|  count|      1046198|   1046198|   1045098|             1046047|           1046198|           1046198|                1046198|\n",
            "|   mean|         null|      null|      null|            400012.0|115403.54003532871|157093.97752911015|     1573.2668660781317|\n",
            "| stddev|         null|      null|      null|                 0.0| 846485.3813218848|51262.217088456826|      6569.715131284188|\n",
            "|    min|           T1|  C1010011|         F|(154) BHASKOLA FA...|               0.0|                 0|                    0.0|\n",
            "|    max|      T999999|  C9099956|         T|           ZUNHEBOTO|      1.15035496E8|            235959|              1560035.0|\n",
            "+-------+-------------+----------+----------+--------------------+------------------+------------------+-----------------------+\n",
            "\n"
          ]
        }
      ],
      "source": [
        "df.describe().show()"
      ]
    },
    {
      "cell_type": "code",
      "execution_count": null,
      "metadata": {
        "colab": {
          "base_uri": "https://localhost:8080/"
        },
        "id": "-PY4zYvZcsWm",
        "outputId": "d465c6d0-5789-4781-ab3e-9335addbb844"
      },
      "outputs": [
        {
          "output_type": "stream",
          "name": "stdout",
          "text": [
            "root\n",
            " |-- TransactionID: string (nullable = true)\n",
            " |-- CustomerID: string (nullable = true)\n",
            " |-- CustomerDOB: date (nullable = true)\n",
            " |-- CustGender: string (nullable = true)\n",
            " |-- CustLocation: string (nullable = true)\n",
            " |-- CustAccountBalance: float (nullable = true)\n",
            " |-- TransactionDate: date (nullable = true)\n",
            " |-- TransactionTime: integer (nullable = true)\n",
            " |-- TransactionAmount (INR): float (nullable = true)\n",
            "\n"
          ]
        }
      ],
      "source": [
        "df.printSchema()"
      ]
    },
    {
      "cell_type": "markdown",
      "source": [
        "Aplicaram-se algumas transformações ao dataframe original para um melhor entendimento dos dados:\n",
        "\n",
        "*   Dataframe que apresenta as 10 primeiras linhas referentes aos clientes que contêm um saldo bancário superior a 5000 rupias indianas.  \n",
        "*   Dataframe que apresenta as 10 primeiras linhas referentes às transações que demoraram menos de 500 segundos a serem feitas.\n",
        "*   Dataframe que mostra o número de clientes por género. \n",
        "*   Top 10 dos locais com maior número de clientes.\n",
        "*   Top 80 dos clientes com maior saldo bancário, com informação do género e dos locais.\n",
        "*   Top 10 dos locais com maior saldo bancário médio."
      ],
      "metadata": {
        "id": "zJ2VLzSN4baT"
      }
    },
    {
      "cell_type": "code",
      "execution_count": null,
      "metadata": {
        "colab": {
          "base_uri": "https://localhost:8080/"
        },
        "id": "eztpHWincsWq",
        "outputId": "14312855-461a-4513-a055-f773d702e0b9"
      },
      "outputs": [
        {
          "output_type": "stream",
          "name": "stdout",
          "text": [
            "+-------------+----------+-----------+----------+------------+------------------+---------------+---------------+-----------------------+\n",
            "|TransactionID|CustomerID|CustomerDOB|CustGender|CustLocation|CustAccountBalance|TransactionDate|TransactionTime|TransactionAmount (INR)|\n",
            "+-------------+----------+-----------+----------+------------+------------------+---------------+---------------+-----------------------+\n",
            "|           T1|  C5841053|       null|         F|  JAMSHEDPUR|          17819.05|           null|         143207|                   25.0|\n",
            "|           T3|  C4417068|       null|         F|      MUMBAI|          17874.44|           null|         142712|                  459.0|\n",
            "|           T4|  C5342380|       null|         F|      MUMBAI|          866503.2|           null|         142714|                 2060.0|\n",
            "|           T5|  C9031234|       null|         F| NAVI MUMBAI|           6714.43|           null|         181156|                 1762.5|\n",
            "|           T6|  C1536588|       null|         F|    ITANAGAR|           53609.2|           null|         173940|                  676.0|\n",
            "|           T8|  C1220223|       null|         M|      MUMBAI|          95075.54|           null|         170537|                  148.0|\n",
            "|           T9|  C8536061|       null|         F|     GURGAON|          14906.96|           null|         192825|                  833.0|\n",
            "|          T11|  C5430833|       null|         M|      MOHALI|          48429.49|           null|         204133|                  259.0|\n",
            "|          T12|  C6939838|       null|         M|      GUNTUR|          14613.46|           null|         205108|                  202.0|\n",
            "|          T13|  C6339347|       null|         M|   AHMEDABAD|          32274.78|           null|         203834|                12300.0|\n",
            "+-------------+----------+-----------+----------+------------+------------------+---------------+---------------+-----------------------+\n",
            "only showing top 10 rows\n",
            "\n"
          ]
        }
      ],
      "source": [
        "new_df_CustAccountBalanceBiggerThan5000 = df.filter(df.CustAccountBalance > 5000)\n",
        "new_df_CustAccountBalanceBiggerThan5000.show(10)"
      ]
    },
    {
      "cell_type": "code",
      "execution_count": null,
      "metadata": {
        "colab": {
          "base_uri": "https://localhost:8080/"
        },
        "id": "UGdFVXiycsWr",
        "outputId": "9dafb30e-e0fa-40b9-a085-901d26301e83"
      },
      "outputs": [
        {
          "output_type": "stream",
          "name": "stdout",
          "text": [
            "+-------------+----------+-----------+----------+------------+------------------+---------------+---------------+-----------------------+\n",
            "|TransactionID|CustomerID|CustomerDOB|CustGender|CustLocation|CustAccountBalance|TransactionDate|TransactionTime|TransactionAmount (INR)|\n",
            "+-------------+----------+-----------+----------+------------+------------------+---------------+---------------+-----------------------+\n",
            "|        T5126|  C1214190|       null|         F|        DURG|            401.44|           null|            400|                  110.0|\n",
            "|       T20397|  C3222875|       null|         M|  VIJAYAWADA|          16511.74|           null|             10|                  330.0|\n",
            "|       T21305|  C6228180|       null|         M|    DINDIGUL|             70.09|           null|            113|                   10.0|\n",
            "|       T35040|  C8916035|       null|         M|   BANGALORE|          19298.99|           null|            357|                1538.81|\n",
            "|       T35041|  C6432239|       null|         M|     HOOGHLY|         100242.39|           null|            333|                11994.0|\n",
            "|       T35042|  C6825027|       null|         M|      MEERUT|          20630.12|           null|            458|                4195.31|\n",
            "|       T35288|  C2519389|       null|         M|    LUDHIANA|         114200.69|           null|            101|                  245.0|\n",
            "|       T35289|  C4639926|       null|         M|     GURGAON|               0.0|           null|            321|                   57.0|\n",
            "|       T35290|  C6034517|       null|         F| NAVI MUMBAI|         125336.73|           null|              4|                   50.0|\n",
            "|       T35300|  C3424455|       null|         M|   NEW DELHI|           53674.1|           null|            222|                 6843.0|\n",
            "+-------------+----------+-----------+----------+------------+------------------+---------------+---------------+-----------------------+\n",
            "only showing top 10 rows\n",
            "\n"
          ]
        }
      ],
      "source": [
        "new_df_TransactionTimeLessThan500 = df.filter(df.TransactionTime < 500)\n",
        "new_df_TransactionTimeLessThan500.show(10)"
      ]
    },
    {
      "cell_type": "code",
      "execution_count": null,
      "metadata": {
        "colab": {
          "base_uri": "https://localhost:8080/"
        },
        "id": "p0bwxH17csWs",
        "outputId": "5070d6d9-51fc-479a-c46c-8f9fae4ea906"
      },
      "outputs": [
        {
          "output_type": "stream",
          "name": "stdout",
          "text": [
            "+----------+------+\n",
            "|CustGender| count|\n",
            "+----------+------+\n",
            "|         F|281272|\n",
            "|      null|  1100|\n",
            "|         M|763825|\n",
            "|         T|     1|\n",
            "+----------+------+\n",
            "\n"
          ]
        }
      ],
      "source": [
        "new_df_PessoasPorGenero = df.groupby('CustGender')\n",
        "new_df_PessoasPorGenero.count().show(10)"
      ]
    },
    {
      "cell_type": "code",
      "execution_count": null,
      "metadata": {
        "colab": {
          "base_uri": "https://localhost:8080/"
        },
        "id": "OhcSmZrEcsWt",
        "outputId": "86865f11-718e-4cf3-a870-0087cf9096d5"
      },
      "outputs": [
        {
          "output_type": "stream",
          "name": "stdout",
          "text": [
            "+------------+------+\n",
            "|CustLocation| count|\n",
            "+------------+------+\n",
            "|      MUMBAI|101473|\n",
            "|   NEW DELHI| 83371|\n",
            "|   BANGALORE| 80264|\n",
            "|     GURGAON| 72788|\n",
            "|       DELHI| 69870|\n",
            "|       NOIDA| 32493|\n",
            "|     CHENNAI| 29749|\n",
            "|        PUNE| 25632|\n",
            "|   HYDERABAD| 22889|\n",
            "|       THANE| 21336|\n",
            "+------------+------+\n",
            "only showing top 10 rows\n",
            "\n"
          ]
        }
      ],
      "source": [
        "df.groupBy('CustLocation').agg(countDistinct('CustomerID').alias('count')).orderBy(desc('count')).show(10)"
      ]
    },
    {
      "cell_type": "code",
      "execution_count": null,
      "metadata": {
        "colab": {
          "base_uri": "https://localhost:8080/"
        },
        "id": "dqB5dNuwcsWt",
        "outputId": "fa4d0c99-b499-4c3a-af77-eaaeaa404129"
      },
      "outputs": [
        {
          "output_type": "stream",
          "name": "stdout",
          "text": [
            "+----------+----------+------------+------------------+\n",
            "|CustomerID|CustGender|CustLocation|CustAccountBalance|\n",
            "+----------+----------+------------+------------------+\n",
            "|  C3316830|         M|    SHILLONG|      1.15035496E8|\n",
            "|  C6416825|         M|    SHILLONG|      1.15035496E8|\n",
            "|  C4316889|         M|    SHILLONG|      1.15035496E8|\n",
            "|  C2216823|         M|    SHILLONG|      1.15035496E8|\n",
            "|  C5916881|         M|    SHILLONG|      1.15035496E8|\n",
            "|  C5116828|         M|    SHILLONG|      1.15035496E8|\n",
            "|  C2916887|         M|    SHILLONG|      1.15035496E8|\n",
            "|  C7716886|         M|    SHILLONG|      1.15035496E8|\n",
            "|  C2916865|         M|    SHILLONG|      1.15035496E8|\n",
            "|  C8116818|         M|    SHILLONG|      1.15035496E8|\n",
            "|  C5914453|         F|     GURGAON|       8.2244632E7|\n",
            "|  C2514473|         F|     GURGAON|       8.2244632E7|\n",
            "|  C4014424|         F|     GURGAON|       8.2244632E7|\n",
            "|  C6914429|         F|     GURGAON|       8.2244632E7|\n",
            "|  C3414471|         F|     GURGAON|       8.2244632E7|\n",
            "|  C7614475|         F|     GURGAON|       8.2244632E7|\n",
            "|  C6914463|         F|     GURGAON|       8.2244632E7|\n",
            "|  C7914467|         F|     GURGAON|       8.2244632E7|\n",
            "|  C3314425|         F|     GURGAON|       8.2244632E7|\n",
            "|  C5014451|         F|     GURGAON|       8.2244632E7|\n",
            "|  C2014414|         F|     GURGAON|       8.2244632E7|\n",
            "|  C3114478|         F|     GURGAON|       8.2244632E7|\n",
            "|  C1014488|         F|     GURGAON|       8.2244632E7|\n",
            "|  C7214475|         F|     GURGAON|       8.2244632E7|\n",
            "|  C3514467|         F|     GURGAON|       8.2244632E7|\n",
            "|  C2414426|         F|     GURGAON|       8.2244632E7|\n",
            "|  C8114469|         F|     GURGAON|       8.2244632E7|\n",
            "|  C2014414|         F|     GURGAON|       8.2244632E7|\n",
            "|  C2414467|         F|     GURGAON|       8.2244632E7|\n",
            "|  C6826860|         M|     TIRUPUR|       6.9799328E7|\n",
            "|  C8226856|         M|     TIRUPUR|       6.9799328E7|\n",
            "|  C8826859|         M|     TIRUPUR|       6.9799328E7|\n",
            "|  C8426831|         M|     TIRUPUR|       6.9799328E7|\n",
            "|  C8217728|         M|      MUMBAI|       6.1382212E7|\n",
            "|  C1316438|         M|   HYDERABAD|       5.5369688E7|\n",
            "|  C7216483|         M|   HYDERABAD|       5.5369688E7|\n",
            "|  C6716431|         M|   HYDERABAD|       5.5369688E7|\n",
            "|  C6216465|         M|   HYDERABAD|       5.5369688E7|\n",
            "|  C6616465|         M|   HYDERABAD|       5.5369688E7|\n",
            "|  C5416474|         M|   HYDERABAD|       5.5369688E7|\n",
            "|  C2116492|         M|   HYDERABAD|       5.5369688E7|\n",
            "|  C6016430|         M|   HYDERABAD|       5.5369688E7|\n",
            "|  C3916481|         M|   HYDERABAD|       5.5369688E7|\n",
            "|  C8316441|         M|   HYDERABAD|       5.5369688E7|\n",
            "|  C8616411|         M|   HYDERABAD|       5.5369688E7|\n",
            "|  C7216446|         M|   HYDERABAD|       5.5369688E7|\n",
            "|  C4232365|         M|     GURGAON|       5.0999668E7|\n",
            "|  C6932375|         M|     GURGAON|       5.0999668E7|\n",
            "|  C5332358|         M|     GURGAON|       5.0999668E7|\n",
            "|  C9032378|         M|     GURGAON|       5.0999668E7|\n",
            "|  C4432324|         M|     GURGAON|       5.0999668E7|\n",
            "|  C4332323|         M|     GURGAON|       5.0999668E7|\n",
            "|  C3032349|         M|     GURGAON|       5.0999668E7|\n",
            "|  C4832362|         M|     GURGAON|       5.0999668E7|\n",
            "|  C6132345|         M|     GURGAON|       5.0999668E7|\n",
            "|  C3632390|         M|     GURGAON|       5.0999668E7|\n",
            "|  C4632331|         M|     GURGAON|       5.0999668E7|\n",
            "|  C4532384|         M|     GURGAON|       5.0999668E7|\n",
            "|  C1432392|         M|     GURGAON|       5.0999668E7|\n",
            "|  C8867086|         F|   NEW DELHI|       5.0107964E7|\n",
            "|  C8338953|         M|     GURGAON|       4.3165556E7|\n",
            "|  C1080761|         M|    AGARTALA|       4.3099848E7|\n",
            "|  C2837473|         M|   NEW DELHI|       4.2331376E7|\n",
            "|  C3737475|         M|   NEW DELHI|       4.2331376E7|\n",
            "|  C8337479|         M|   NEW DELHI|       4.2331376E7|\n",
            "|  C8037475|         M|   NEW DELHI|       4.2331376E7|\n",
            "|  C9037462|         M|   NEW DELHI|       4.2331376E7|\n",
            "|  C8937471|         M|   NEW DELHI|       4.2331376E7|\n",
            "|  C2613340|         M|      MOHALI|       3.8321148E7|\n",
            "|  C3213356|         M|      MOHALI|       3.8321148E7|\n",
            "|  C3513362|         M|      MOHALI|       3.8321148E7|\n",
            "|  C6613372|         M|      MOHALI|       3.8321148E7|\n",
            "|  C1613358|         M|      MOHALI|       3.8321148E7|\n",
            "|  C2315672|         M|   NEW DELHI|       3.7254856E7|\n",
            "|  C4415630|         M|   NEW DELHI|       3.7254856E7|\n",
            "|  C6715618|         M|   NEW DELHI|       3.7254856E7|\n",
            "|  C7115650|         M|   NEW DELHI|       3.7254856E7|\n",
            "|  C8115641|         M|   NEW DELHI|       3.7254856E7|\n",
            "|  C4315643|         M|   NEW DELHI|       3.7254856E7|\n",
            "|  C5915655|         M|   NEW DELHI|       3.7254856E7|\n",
            "+----------+----------+------------+------------------+\n",
            "only showing top 80 rows\n",
            "\n"
          ]
        }
      ],
      "source": [
        "df.createOrReplaceTempView(\"Top80AccountBalance\")\n",
        "query = '''SELECT CustomerID, CustGender, CustLocation, CustAccountBalance FROM Top80AccountBalance ORDER BY CustAccountBalance DESC'''\n",
        "spark.sql(query).show(80)"
      ]
    },
    {
      "cell_type": "code",
      "source": [
        "top10 = df.groupBy(\"CustLocation\").agg(avg(\"CustAccountBalance\")) \\\n",
        "          .orderBy(avg(\"CustAccountBalance\"), ascending=False) \\\n",
        "          .limit(10)\n",
        "top10.createOrReplaceTempView(\"temp_view\")\n",
        "top10.show()"
      ],
      "metadata": {
        "colab": {
          "base_uri": "https://localhost:8080/"
        },
        "id": "2yT4lBCoHJNT",
        "outputId": "f365618b-5d3e-4a15-9fe1-69accf825927"
      },
      "execution_count": null,
      "outputs": [
        {
          "output_type": "stream",
          "name": "stdout",
          "text": [
            "+--------------------+-----------------------+\n",
            "|        CustLocation|avg(CustAccountBalance)|\n",
            "+--------------------+-----------------------+\n",
            "|  PO BOX 28483 DUBAI|             2.169666E7|\n",
            "|              RENTON|            2.0773104E7|\n",
            "|   SULTANATE OF OMAN|            1.6599123E7|\n",
            "|MERCEDES SHOWROOM...|              7567497.5|\n",
            "|            SHILLONG|      7240424.006631125|\n",
            "|              AHMADI|              7090440.5|\n",
            "|SOMAJIGUDA HYDERABAD|              6503694.0|\n",
            "|       BORIVALI WEST|              6011185.5|\n",
            "|              SAKAKA|              5441524.5|\n",
            "|(W) NEAR RAMDEV M...|              5208462.5|\n",
            "+--------------------+-----------------------+\n",
            "\n"
          ]
        }
      ]
    },
    {
      "cell_type": "markdown",
      "source": [
        "Foi feita uma alteração do nome da coluna TransactionAmount (INR) para TransactionAmount. O printSchema() confirma a alteração.\n",
        "Aplicou-se ainda mais uma transformação:\n",
        "*   Top 50 dos maiores montantes transacionados, com informação do ID do cliente, género, local e saldo bancário. "
      ],
      "metadata": {
        "id": "fZfxd6xxAVEU"
      }
    },
    {
      "cell_type": "code",
      "execution_count": null,
      "metadata": {
        "id": "wpBizrJzcsWu"
      },
      "outputs": [],
      "source": [
        "df = df.withColumnRenamed('TransactionAmount (INR)', 'TransactionAmount')"
      ]
    },
    {
      "cell_type": "code",
      "execution_count": null,
      "metadata": {
        "colab": {
          "base_uri": "https://localhost:8080/"
        },
        "id": "98qNVPtJcsWu",
        "outputId": "3a11acbb-8f0a-4333-d1e8-fc22d4a0c1b9"
      },
      "outputs": [
        {
          "output_type": "stream",
          "name": "stdout",
          "text": [
            "root\n",
            " |-- TransactionID: string (nullable = true)\n",
            " |-- CustomerID: string (nullable = true)\n",
            " |-- CustomerDOB: date (nullable = true)\n",
            " |-- CustGender: string (nullable = true)\n",
            " |-- CustLocation: string (nullable = true)\n",
            " |-- CustAccountBalance: float (nullable = true)\n",
            " |-- TransactionDate: date (nullable = true)\n",
            " |-- TransactionTime: integer (nullable = true)\n",
            " |-- TransactionAmount: float (nullable = true)\n",
            "\n"
          ]
        }
      ],
      "source": [
        "df.printSchema()"
      ]
    },
    {
      "cell_type": "code",
      "source": [
        "df.createOrReplaceTempView(\"Top50TransactionAmount\")\n",
        "query = '''SELECT CustomerID, CustGender, CustLocation, CustAccountBalance, TransactionAmount FROM Top50TransactionAmount ORDER BY TransactionAmount DESC'''\n",
        "spark.sql(query).show(50)"
      ],
      "metadata": {
        "colab": {
          "base_uri": "https://localhost:8080/"
        },
        "id": "9P3pXdCdm92X",
        "outputId": "e9a13d4a-b919-4195-de6b-dcd4b7deeafd"
      },
      "execution_count": null,
      "outputs": [
        {
          "output_type": "stream",
          "name": "stdout",
          "text": [
            "+----------+----------+-----------------+------------------+-----------------+\n",
            "|CustomerID|CustGender|     CustLocation|CustAccountBalance|TransactionAmount|\n",
            "+----------+----------+-----------------+------------------+-----------------+\n",
            "|  C7319271|         M|          GURGAON|          42487.89|        1560035.0|\n",
            "|  C6677159|         F|             PUNE|          98660.33|        1380002.9|\n",
            "|  C4141768|         M|        NEW DELHI|           83608.1|        991132.25|\n",
            "|  C8217728|         M|           MUMBAI|       6.1382212E7|         724122.0|\n",
            "|  C1830891|         F|          KOLKATA|          14177.65|         720001.2|\n",
            "|  C6549785|         F|            NOIDA|          29198.46|         600008.3|\n",
            "|  C5036642|         M|        NEW DELHI|          136294.6|        600003.44|\n",
            "|  C4328064|         F|            DELHI|          38735.17|        569500.25|\n",
            "|  C1425138|         M|           MUMBAI|           9324.35|         561001.0|\n",
            "|  C5833636|         M|PALAKKARAI TRICHY|         143883.69|        557000.75|\n",
            "|  C3528755|         M|            DELHI|           9462.34|         550004.3|\n",
            "|  C7549492|         F|           MUMBAI|         1629701.8|         543699.4|\n",
            "|  C6515348|         M|        NEW DELHI|         471847.16|         536035.1|\n",
            "|  C1115779|         M|        NEW DELHI|          38329.46|         525003.8|\n",
            "|  C5938826|         M|            NOIDA|           13357.2|        520009.88|\n",
            "|  C8755262|         M|         LUDHIANA|         320344.56|         514320.0|\n",
            "|  C7730454|         F|        NEW DELHI|          39127.54|        510005.16|\n",
            "|  C5720892|         M|        BANGALORE|         223274.03|         500000.0|\n",
            "|  C7621341|         M|           MUMBAI|         235434.86|         499866.0|\n",
            "|  C2195882|         M|        NEW DELHI|          580004.1|         465633.0|\n",
            "|  C7367184|         M| GATE NO 4 MUMBAI|         798753.94|         455122.0|\n",
            "|  C6836340|         M|        JALANDHAR|          23225.27|         452400.0|\n",
            "|  C7525532|         M|        HYDERABAD|          279814.9|         450000.0|\n",
            "|  C8935180|         M|     SECUNDERABAD|         1386219.2|         448458.0|\n",
            "|  C6922551|         M|        NEW DELHI|          66143.38|        429006.66|\n",
            "|  C5133852|         M|          MUNCHEN|          689001.6|         400000.0|\n",
            "|  C5727148|         M| JAIPUR DURGAPURA|          90123.52|        378415.47|\n",
            "|  C6741078|         M|           RAIPUR|          38151.87|        378006.06|\n",
            "|  C8349478|         F|           MUMBAI|         1629701.8|        370883.28|\n",
            "|  C3849467|         F|           MUMBAI|         1629701.8|        370883.28|\n",
            "|  C3912568|         M|             PUNE|         292574.53|         352000.0|\n",
            "|  C4881650|         M|          GURGAON|         1129798.1|         350000.0|\n",
            "|  C6514935|         F|        BANGALORE|          25898.05|         346003.9|\n",
            "|  C5140623|         M|            ANAND|         220065.73|         326510.0|\n",
            "|  C4114892|         M|          GURGAON|           53887.4|         314694.1|\n",
            "|  C4037656|         M|    MOSQUE COCHIN|          16704.94|         314000.0|\n",
            "|  C2345913|         M|        HYDERABAD|           1190.02|        310002.84|\n",
            "|  C3521982|         M|           MUMBAI|           8090.14|         300000.0|\n",
            "|  C8429762|         M|           MUMBAI|         260336.62|         300000.0|\n",
            "|  C9067184|         M| GATE NO 4 MUMBAI|         798753.94|         300000.0|\n",
            "|  C2746130|         M|        BANGALORE|          116501.2|        299009.97|\n",
            "|  C5017087|         M|          GURGAON|          34943.07|         292001.6|\n",
            "|  C1625456|         M|           MUMBAI|          132790.1|        286100.12|\n",
            "|  C3845684|         M|      NAVI MUMBAI|         143747.56|         278800.2|\n",
            "|  C3334259|         M|          GURGAON|         258480.19|        274584.06|\n",
            "|  C3834275|         M|          GURGAON|         258480.19|        274584.06|\n",
            "|  C3036741|         M|          GURGAON|          34161.46|         270007.7|\n",
            "|  C3332391|         M|          CHENNAI|         260971.53|         265414.0|\n",
            "|  C6020568|         F|        NEW DELHI|         492165.12|         263950.0|\n",
            "|  C8742337|         M|           MUMBAI|          841724.9|         256000.0|\n",
            "+----------+----------+-----------------+------------------+-----------------+\n",
            "only showing top 50 rows\n",
            "\n"
          ]
        }
      ]
    },
    {
      "cell_type": "markdown",
      "source": [
        "Gráfico circular relativo ao género dos clientes:"
      ],
      "metadata": {
        "id": "wAV0iYCOqiHS"
      }
    },
    {
      "cell_type": "code",
      "source": [
        "from pyspark.sql.functions import col\n",
        "import matplotlib.pyplot as plt\n",
        "\n",
        "# Agrupa as contagens dos géneros\n",
        "gender_counts = df.groupBy(\"CustGender\").count()\n",
        "\n",
        "# Extrai os dados como listas\n",
        "genders = gender_counts.select(\"CustGender\").rdd.flatMap(lambda x: x).collect()\n",
        "counts = gender_counts.select(\"count\").rdd.flatMap(lambda x: x).collect()\n",
        "\n",
        "# Cria o gráfico circular\n",
        "plt.pie(counts, labels=genders, autopct='%1.5f%%')\n",
        "plt.axis('equal')\n",
        "plt.show()\n"
      ],
      "metadata": {
        "colab": {
          "base_uri": "https://localhost:8080/",
          "height": 248
        },
        "id": "hPfqvFMGmfGJ",
        "outputId": "46a5e371-6565-4905-8e4a-1b2b2a534953"
      },
      "execution_count": null,
      "outputs": [
        {
          "output_type": "display_data",
          "data": {
            "text/plain": [
              "<Figure size 432x288 with 1 Axes>"
            ],
            "image/png": "[encoded data removed]"
          },
          "metadata": {}
        }
      ]
    },
    {
      "cell_type": "markdown",
      "source": [
        "Os valores que perfazem 0.1% são nulos. 73% dos clientes do banco são do sexo masculino, 26.9% são do sexo feminino. A letra T no gráfico é relativo aos clientes do banco que não se identificam com nenhum dos dois géneros mencionados acima. \n",
        "Verifica-se uma diferença significativa entre a proporção dos clientes que são do sexo feminino e do sexo masculino, sendo que os clientes deste banco são predominantemente homens."
      ],
      "metadata": {
        "id": "RHFnptAaMbWM"
      }
    },
    {
      "cell_type": "markdown",
      "source": [
        "# **Implementação dos modelos**"
      ],
      "metadata": {
        "id": "KXV2vIP1oj2J"
      }
    },
    {
      "cell_type": "markdown",
      "source": [
        "**Algoritmo de K-means**"
      ],
      "metadata": {
        "id": "QpC1NOWFWcYJ"
      }
    },
    {
      "cell_type": "code",
      "execution_count": null,
      "metadata": {
        "colab": {
          "base_uri": "https://localhost:8080/"
        },
        "id": "JpULlVKGcsWx",
        "outputId": "2a92d472-8508-4e56-d18d-f4fb5edf4dfd"
      },
      "outputs": [
        {
          "output_type": "stream",
          "name": "stdout",
          "text": [
            "+------------------+-----------------+----------+\n",
            "|CustAccountBalance|TransactionAmount|prediction|\n",
            "+------------------+-----------------+----------+\n",
            "|          17819.05|             25.0|         0|\n",
            "|           2270.69|          27999.0|         0|\n",
            "|          17874.44|            459.0|         0|\n",
            "|          866503.2|           2060.0|         0|\n",
            "|           6714.43|           1762.5|         0|\n",
            "|           53609.2|            676.0|         0|\n",
            "|            973.46|            566.0|         0|\n",
            "|          95075.54|            148.0|         0|\n",
            "|          14906.96|            833.0|         0|\n",
            "|           4279.22|           289.11|         0|\n",
            "|          48429.49|            259.0|         0|\n",
            "|          14613.46|            202.0|         0|\n",
            "|          32274.78|          12300.0|         0|\n",
            "|          59950.44|             50.0|         0|\n",
            "|          10100.84|            338.0|         0|\n",
            "|           1283.12|            250.0|         0|\n",
            "|          77495.15|          1423.11|         0|\n",
            "|           2177.85|             54.0|         0|\n",
            "|          32816.17|            315.0|         0|\n",
            "|           10643.5|            945.0|         0|\n",
            "+------------------+-----------------+----------+\n",
            "only showing top 20 rows\n",
            "\n"
          ]
        }
      ],
      "source": [
        "# Cria um vetor assembler para combinar as colunas \"CustAccountBalance\" e \"TransactionAmount\" num único vetor\n",
        "vectorAssembler = VectorAssembler(inputCols=[\"CustAccountBalance\", \"TransactionAmount\"], outputCol=\"unscaled_features\")\n",
        "\n",
        "# Usa o vetor assembler para transformar o dataframe\n",
        "df_kmeans = vectorAssembler.transform(df)\n",
        "\n",
        "# Cria um objeto de scaling para standardizar os dados\n",
        "scaler = StandardScaler(inputCol=\"unscaled_features\", outputCol=\"features\", withStd=True, withMean=True)\n",
        "\n",
        "# Ajusta o scaler aos dados e transforma o dataframe\n",
        "scalerModel = scaler.fit(df_kmeans)\n",
        "df_kmeans = scalerModel.transform(df_kmeans)\n",
        "\n",
        "# Instancia o algoritmo K-means com o número de clusters pretendido\n",
        "kmeans = KMeans(k=3, seed=1)\n",
        "\n",
        "# Ajusta o modelo aos dados\n",
        "model = kmeans.fit(df_kmeans)\n",
        "\n",
        "# Faz a previsão dos clusters\n",
        "predictions = model.transform(df_kmeans)\n",
        "\n",
        "# Apresenta os resultados\n",
        "predictions.select(\"CustAccountBalance\", \"TransactionAmount\",\"prediction\").show()"
      ]
    },
    {
      "cell_type": "markdown",
      "source": [
        "Se as previsões dos clusters de um output de k-means têm valores de 0, isso pode significar que os dados associados a essas respetivas previsões não foram atribuídos a nenhum cluster. Isso acontece quando os dados não se encaixam em nenhum dos clusters criados pelo algoritmo, ou se o algoritmo não consegue encontrar nenhum cluster significativo nos dados.\n",
        "Por isso não conseguimos concluir que haja alguma relação significativa entre as colunas \"CustAccountBalance\" e \"TransactionAmount\" com o uso deste algoritmo."
      ],
      "metadata": {
        "id": "CDXAKZGfli9D"
      }
    },
    {
      "cell_type": "markdown",
      "source": [
        "**Algoritmo de Regressão Linear**"
      ],
      "metadata": {
        "id": "JbGDdMe5Nwm4"
      }
    },
    {
      "cell_type": "code",
      "execution_count": null,
      "metadata": {
        "id": "fZSZe34NcsW0"
      },
      "outputs": [],
      "source": [
        "# Cria o objeto VectorAssembler para agrupar as colunas numa única coluna de vetores\n",
        "assembler = VectorAssembler(inputCols=[\"CustAccountBalance\", \"TransactionAmount\"], outputCol=\"features2\")\n",
        "\n",
        "# Ajusta o assembler ao dataframe\n",
        "df_vec = assembler.transform(df)\n",
        "\n",
        "# Cria o objeto StandardScaler\n",
        "scaler = StandardScaler(inputCol=\"features2\", outputCol=\"scaledFeatures\", withStd=True, withMean=True)\n",
        "\n",
        "# Ajusta o scaler ao dataframe\n",
        "scaled_df = scaler.fit(df_vec).transform(df_vec)\n"
      ]
    },
    {
      "cell_type": "code",
      "execution_count": null,
      "metadata": {
        "id": "EhJJs3EwcsW0"
      },
      "outputs": [],
      "source": [
        "from pyspark.ml.regression import LinearRegression\n",
        "\n",
        "# Cria o objeto LinearRegression\n",
        "lr = LinearRegression(featuresCol=\"scaledFeatures\", labelCol=\"CustAccountBalance\", maxIter=10, regParam=0.3, elasticNetParam=0.8)\n",
        "\n",
        "# Aplica o método train-test split \n",
        "train_df, test_df = scaled_df.randomSplit([0.7, 0.3])\n",
        "\n",
        "# Treina o modelo\n",
        "model = lr.fit(train_df)\n",
        "\n",
        "# Testa o modelo\n",
        "predictions = model.transform(test_df)\n"
      ]
    },
    {
      "cell_type": "code",
      "execution_count": null,
      "metadata": {
        "colab": {
          "base_uri": "https://localhost:8080/"
        },
        "id": "gDWarbH5csW1",
        "outputId": "7dc78494-248d-4049-eef7-d892e27e0126"
      },
      "outputs": [
        {
          "output_type": "stream",
          "name": "stdout",
          "text": [
            "+------------------+\n",
            "|        prediction|\n",
            "+------------------+\n",
            "| 594924.6401793947|\n",
            "| 89396.05608246283|\n",
            "|162420.98298525836|\n",
            "| 29958.16141013382|\n",
            "|39973.835548023795|\n",
            "| 7198.698879605567|\n",
            "| 83446.28478144042|\n",
            "| 189796.2387801964|\n",
            "|0.6213080653687939|\n",
            "|6638.6087486946635|\n",
            "| 2010.760556972993|\n",
            "| 4253.959702644206|\n",
            "| 28444.90023477422|\n",
            "| 65078.34606460393|\n",
            "| 36853.90698084542|\n",
            "|180874.52323385657|\n",
            "| 34734.95852297945|\n",
            "| 92476.65653876337|\n",
            "|5414.6594811660325|\n",
            "| 52506.13182910584|\n",
            "+------------------+\n",
            "only showing top 20 rows\n",
            "\n"
          ]
        }
      ],
      "source": [
        "# Aplica o modelo aos dados de teste\n",
        "predictions = model.transform(test_df)\n",
        "\n",
        "# Apresenta as previsões\n",
        "predictions.select(\"prediction\").show()\n"
      ]
    },
    {
      "cell_type": "code",
      "execution_count": null,
      "metadata": {
        "colab": {
          "base_uri": "https://localhost:8080/"
        },
        "id": "0siYrBBvcsW1",
        "outputId": "9677780f-d657-4878-d2b8-bc5b07e3ab48"
      },
      "outputs": [
        {
          "output_type": "stream",
          "name": "stdout",
          "text": [
            "Root Mean Squared Error (RMSE) on test data = 0.336888\n"
          ]
        }
      ],
      "source": [
        "from pyspark.ml.evaluation import RegressionEvaluator\n",
        "\n",
        "# Cria o objeto RegressionEvaluator\n",
        "evaluator = RegressionEvaluator(labelCol=\"CustAccountBalance\", predictionCol=\"prediction\", metricName=\"rmse\")\n",
        "\n",
        "# Calcula o RMSE\n",
        "rmse = evaluator.evaluate(predictions)\n",
        "print(\"Root Mean Squared Error (RMSE) on test data = %g\" % rmse)\n"
      ]
    },
    {
      "cell_type": "code",
      "execution_count": null,
      "metadata": {
        "colab": {
          "base_uri": "https://localhost:8080/"
        },
        "id": "VEoG-5RkcsW2",
        "outputId": "60c3455f-b0aa-4aff-9a49-6304b88c8d5c"
      },
      "outputs": [
        {
          "output_type": "stream",
          "name": "stdout",
          "text": [
            "R-squared value: 0.9999999999998711\n"
          ]
        }
      ],
      "source": [
        "# Acede ao summary do modelo\n",
        "summary = model.summary\n",
        "\n",
        "# Obtém o R²\n",
        "r2 = summary.r2\n",
        "\n",
        "# Exibe o R²\n",
        "print(\"R-squared value:\", r2)\n"
      ]
    },
    {
      "cell_type": "code",
      "execution_count": null,
      "metadata": {
        "colab": {
          "base_uri": "https://localhost:8080/"
        },
        "id": "xMYQK37icsW2",
        "outputId": "3666cb6c-b7b4-4e73-b748-57170c897425"
      },
      "outputs": [
        {
          "output_type": "stream",
          "name": "stdout",
          "text": [
            "Mean Absolute Error (MAE) on test data = 0.0578793\n"
          ]
        }
      ],
      "source": [
        "from pyspark.ml.evaluation import RegressionEvaluator\n",
        "\n",
        "# Cria o objeto RegressionEvaluator\n",
        "evaluator = RegressionEvaluator(labelCol=\"CustAccountBalance\", predictionCol=\"prediction\", metricName=\"mae\")\n",
        "\n",
        "# Calcula o MAE\n",
        "mae = evaluator.evaluate(predictions)\n",
        "print(\"Mean Absolute Error (MAE) on test data = %g\" % mae)\n"
      ]
    },
    {
      "cell_type": "code",
      "execution_count": null,
      "metadata": {
        "colab": {
          "base_uri": "https://localhost:8080/"
        },
        "id": "kCAEdUQ5csW2",
        "outputId": "775e2fb2-d1f8-42f2-e729-c5a12f47c684"
      },
      "outputs": [
        {
          "output_type": "stream",
          "name": "stdout",
          "text": [
            "Mean Squared Error (MSE) on test data = 0.113494\n"
          ]
        }
      ],
      "source": [
        "# Cria o objeto RegressionEvaluator\n",
        "evaluator = RegressionEvaluator(labelCol=\"CustAccountBalance\", predictionCol=\"prediction\", metricName=\"mse\")\n",
        "\n",
        "# Calcula o MSE\n",
        "mse = evaluator.evaluate(predictions)\n",
        "print(\"Mean Squared Error (MSE) on test data = %g\" % mse)\n"
      ]
    },
    {
      "cell_type": "code",
      "execution_count": null,
      "metadata": {
        "colab": {
          "base_uri": "https://localhost:8080/",
          "height": 295
        },
        "id": "VywxKdSYcsW3",
        "outputId": "a6a93026-cd24-4fef-9898-1830e7b3531f"
      },
      "outputs": [
        {
          "output_type": "display_data",
          "data": {
            "text/plain": [
              "<Figure size 432x288 with 1 Axes>"
            ],
            "image/png": "[encoded data removed]"
          },
          "metadata": {
            "needs_background": "light"
          }
        }
      ],
      "source": [
        "import matplotlib.pyplot as plt\n",
        "\n",
        "# Extrai as colunas obtidas da previsão e a label do dataframe\n",
        "predictions_col = predictions.select(\"prediction\").toPandas()\n",
        "label_col = predictions.select(\"CustAccountBalance\").toPandas()\n",
        "\n",
        "# Constrói o gráfico das previsões em relação aos valores reais\n",
        "plt.scatter(label_col, predictions_col)\n",
        "plt.xlabel(\"CustAccountBalance\")\n",
        "plt.ylabel(\"TransactionAmount\")\n",
        "plt.title(\"Relação entre o saldo bancário e montante da transação\")\n",
        "plt.show()"
      ]
    },
    {
      "cell_type": "markdown",
      "source": [
        "Ao observar o gráfico é possível perceber que existe uma relação proporcional entre o saldo bancário dos clientes e os seus respetivos valores de transação. \n",
        "\n",
        "O que indica que quanto maior o saldo bancário, maior será a quantia de transação."
      ],
      "metadata": {
        "id": "iq_VAkluaVmq"
      }
    },
    {
      "cell_type": "markdown",
      "source": [
        "# **Conclusão**"
      ],
      "metadata": {
        "id": "Glgwd-HPqPV_"
      }
    },
    {
      "cell_type": "markdown",
      "source": [
        "No final deste projeto, observaram-se diferenças nos resultados dos modelos. O K-means não permitiu chegar a uma conclusão concreta, já a regressão linear aponta para uma forte relação proporcional entre o saldo bancário de um cliente e o valor da sua transação.\n",
        "Este trabalho permitiu consolidar os conceitos aprendidos nesta unidade curricular."
      ],
      "metadata": {
        "id": "ymRJp5q3yRww"
      }
    },
    {
      "cell_type": "markdown",
      "source": [
        "# **Bibliografia**\n",
        "\n"
      ],
      "metadata": {
        "id": "inhDUvnL0VV-"
      }
    },
    {
      "cell_type": "markdown",
      "source": [
        "\n",
        "*   [An introduction to clustering](https://www.analyticsvidhya.com/blog/2016/11/an-introduction-to-clustering-and-different-methods-of-clustering//)\n",
        "*   [Clustering](https://spark.apache.org/docs/latest/ml-clustering.html)\n",
        "\n",
        "\n",
        "*   [Unix Time Stamp](https://www.unixtimestamp.com/)\n",
        "*   [Linear Regression](https://towardsdatascience.com/introduction-to-machine-learning-algorithms-linear-regression-14c4e325882a)\n",
        "\n",
        "\n",
        "\n"
      ],
      "metadata": {
        "id": "HcHI1O8B0e7S"
      }
    }
  ],
  "metadata": {
    "kernelspec": {
      "display_name": "Python 3",
      "language": "python",
      "name": "python3"
    },
    "language_info": {
      "codemirror_mode": {
        "name": "ipython",
        "version": 3
      },
      "file_extension": ".py",
      "mimetype": "text/x-python",
      "name": "python",
      "nbconvert_exporter": "python",
      "pygments_lexer": "ipython3",
      "version": "3.8.5"
    },
    "colab": {
      "provenance": [],
      "include_colab_link": true
    }
  },
  "nbformat": 4,
  "nbformat_minor": 0
}