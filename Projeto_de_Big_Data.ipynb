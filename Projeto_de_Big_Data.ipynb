{
  "cells": [
    {
      "cell_type": "markdown",
      "metadata": {
        "id": "view-in-github",
        "colab_type": "text"
      },
      "source": [
        "<a href=\"https://colab.research.google.com/github/pedro00pt/Projeto-de-Big-Data/blob/main/Projeto_de_Big_Data.ipynb\" target=\"_parent\"><img src=\"https://colab.research.google.com/assets/colab-badge.svg\" alt=\"Open In Colab\"/></a>"
      ]
    },
    {
      "cell_type": "code",
      "execution_count": 1,
      "metadata": {
        "id": "SjWGyrd8csWQ"
      },
      "outputs": [],
      "source": [
        "#Projeto de Big Data\n",
        "\n",
        "#Realizado por:\n",
        "#Pedro Peixoto nº202000221\n",
        "#João Yanga nº202000167"
      ]
    },
    {
      "cell_type": "code",
      "execution_count": 2,
      "metadata": {
        "colab": {
          "base_uri": "https://localhost:8080/"
        },
        "id": "GBq8jZnqcsWX",
        "outputId": "2c324daf-2a19-4147-d6e0-8a4eb3595832"
      },
      "outputs": [
        {
          "output_type": "stream",
          "name": "stdout",
          "text": [
            "Looking in indexes: https://pypi.org/simple, https://us-python.pkg.dev/colab-wheels/public/simple/\n",
            "Collecting pyspark\n",
            "  Downloading pyspark-3.3.1.tar.gz (281.4 MB)\n",
            "\u001b[2K     \u001b[90m━━━━━━━━━━━━━━━━━━━━━━━━━━━━━━━━━━━━━━━\u001b[0m \u001b[32m281.4/281.4 MB\u001b[0m \u001b[31m3.8 MB/s\u001b[0m eta \u001b[36m0:00:00\u001b[0m\n",
            "\u001b[?25h  Preparing metadata (setup.py) ... \u001b[?25l\u001b[?25hdone\n",
            "Collecting py4j==0.10.9.5\n",
            "  Downloading py4j-0.10.9.5-py2.py3-none-any.whl (199 kB)\n",
            "\u001b[2K     \u001b[90m━━━━━━━━━━━━━━━━━━━━━━━━━━━━━━━━━━━━━━\u001b[0m \u001b[32m199.7/199.7 KB\u001b[0m \u001b[31m12.7 MB/s\u001b[0m eta \u001b[36m0:00:00\u001b[0m\n",
            "\u001b[?25hBuilding wheels for collected packages: pyspark\n",
            "  Building wheel for pyspark (setup.py) ... \u001b[?25l\u001b[?25hdone\n",
            "  Created wheel for pyspark: filename=pyspark-3.3.1-py2.py3-none-any.whl size=281845512 sha256=a272e429bc968bbdb3981fd17c3461ad83b5087d950474451c9bd952428bbdc8\n",
            "  Stored in directory: /root/.cache/pip/wheels/43/dc/11/ec201cd671da62fa9c5cc77078235e40722170ceba231d7598\n",
            "Successfully built pyspark\n",
            "Installing collected packages: py4j, pyspark\n",
            "Successfully installed py4j-0.10.9.5 pyspark-3.3.1\n",
            "Looking in indexes: https://pypi.org/simple, https://us-python.pkg.dev/colab-wheels/public/simple/\n",
            "Collecting findspark\n",
            "  Downloading findspark-2.0.1-py2.py3-none-any.whl (4.4 kB)\n",
            "Installing collected packages: findspark\n",
            "Successfully installed findspark-2.0.1\n"
          ]
        }
      ],
      "source": [
        "!pip install pyspark\n",
        "!pip install findspark"
      ]
    },
    {
      "cell_type": "code",
      "execution_count": 3,
      "metadata": {
        "id": "R-tH7vGKcsWa"
      },
      "outputs": [],
      "source": [
        "import pandas as pd\n",
        "import numpy as np\n",
        "# We can also make use of datatypes from \n",
        "# pyspark.sql.types\n",
        "from datetime import datetime\n",
        "from pyspark.sql.functions import col, udf, count, asc, desc\n",
        "from pyspark.sql.types import DoubleType, IntegerType, DateType, FloatType\n",
        "\n",
        "\n",
        "\n",
        "from pyspark.sql.functions import *\n",
        "from pyspark.sql.types import *\n",
        "from pyspark.sql.functions import col,isnan, when, count\n",
        "\n",
        "\n",
        "\n",
        "from sklearn.preprocessing import LabelEncoder, StandardScaler, MinMaxScaler\n",
        "from sklearn.cluster import KMeans\n",
        "from sklearn.neighbors import NearestNeighbors\n",
        "\n",
        "\n",
        "\n",
        "from pyspark.ml.feature import VectorAssembler\n",
        "from pyspark.ml.feature import StandardScaler\n",
        "from pyspark.mllib.clustering import KMeans\n",
        "\n",
        "\n",
        "\n",
        "from pyspark.ml.clustering import KMeans\n",
        "from pyspark.ml.evaluation import ClusteringEvaluator\n",
        "\n",
        "from pyspark.ml.feature import StandardScaler"
      ]
    },
    {
      "cell_type": "code",
      "execution_count": 4,
      "metadata": {
        "colab": {
          "base_uri": "https://localhost:8080/",
          "height": 219
        },
        "id": "r9lX9OHNcsWc",
        "outputId": "2ae4ec67-6898-4e2a-decf-7233d2094a86"
      },
      "outputs": [
        {
          "output_type": "execute_result",
          "data": {
            "text/plain": [
              "<pyspark.sql.session.SparkSession at 0x7f495f25b490>"
            ],
            "text/html": [
              "\n",
              "            <div>\n",
              "                <p><b>SparkSession - in-memory</b></p>\n",
              "                \n",
              "        <div>\n",
              "            <p><b>SparkContext</b></p>\n",
              "\n",
              "            <p><a href=\"http://8be946fc0b7a:4040\">Spark UI</a></p>\n",
              "\n",
              "            <dl>\n",
              "              <dt>Version</dt>\n",
              "                <dd><code>v3.3.1</code></dd>\n",
              "              <dt>Master</dt>\n",
              "                <dd><code>local[*]</code></dd>\n",
              "              <dt>AppName</dt>\n",
              "                <dd><code>Projeto de Big Data</code></dd>\n",
              "            </dl>\n",
              "        </div>\n",
              "        \n",
              "            </div>\n",
              "        "
            ]
          },
          "metadata": {},
          "execution_count": 4
        }
      ],
      "source": [
        "from pyspark.sql import SparkSession\n",
        "import findspark\n",
        "\n",
        "findspark.init()\n",
        "\n",
        "spark = SparkSession.builder.appName(\"Projeto de Big Data\")\\\n",
        "                    .config(\"spark.memory.offHeap.enabled\",\"true\")\\\n",
        "                    .config(\"spark.memory.offHeap.size\",\"10g\")\\\n",
        "                    .getOrCreate()\n",
        "\n",
        "\n",
        "# check spark configuration\n",
        "\n",
        "spark"
      ]
    },
    {
      "cell_type": "code",
      "execution_count": 6,
      "metadata": {
        "colab": {
          "base_uri": "https://localhost:8080/"
        },
        "id": "51MTGEQKcsWd",
        "outputId": "8c16955b-e0ca-4ea9-e3b4-311044972599"
      },
      "outputs": [
        {
          "output_type": "stream",
          "name": "stdout",
          "text": [
            "  % Total    % Received % Xferd  Average Speed   Time    Time     Time  Current\n",
            "                                 Dload  Upload   Total   Spent    Left  Speed\n",
            "100 66.8M  100 66.8M    0     0  21.4M      0  0:00:03  0:00:03 --:--:-- 21.4M\n"
          ]
        }
      ],
      "source": [
        "#modificação do csv original para conseguir ter dados em colunas diferentes\n",
        "\n",
        "!curl https://raw.githubusercontent.com/pedro00pt/Projeto-de-Big-Data/main/bank_transactions-colunas_alinhadas.csv >> bank_transactions-colunas_alinhadas.csv\n",
        "df = spark.read.csv('bank_transactions-colunas_alinhadas.csv',header=True,sep=\";\")"
      ]
    },
    {
      "cell_type": "code",
      "execution_count": 7,
      "metadata": {
        "colab": {
          "base_uri": "https://localhost:8080/"
        },
        "id": "ieymG8FscsWe",
        "outputId": "ddb8a4ea-996b-4372-89fd-443fcdea891e"
      },
      "outputs": [
        {
          "output_type": "execute_result",
          "data": {
            "text/plain": [
              "[Row(TransactionID='T1', CustomerID='C5841053', CustomerDOB='10/1/94', CustGender='F', CustLocation='JAMSHEDPUR', CustAccountBalance='17819.05', TransactionDate='02/08/2016', TransactionTime='143207', TransactionAmount (INR)='25'),\n",
              " Row(TransactionID='T2', CustomerID='C2142763', CustomerDOB='4/4/57', CustGender='M', CustLocation='JHAJJAR', CustAccountBalance='2270.69', TransactionDate='02/08/2016', TransactionTime='141858', TransactionAmount (INR)='27999'),\n",
              " Row(TransactionID='T3', CustomerID='C4417068', CustomerDOB='26/11/96', CustGender='F', CustLocation='MUMBAI', CustAccountBalance='17874.44', TransactionDate='02/08/2016', TransactionTime='142712', TransactionAmount (INR)='459'),\n",
              " Row(TransactionID='T4', CustomerID='C5342380', CustomerDOB='14/9/73', CustGender='F', CustLocation='MUMBAI', CustAccountBalance='866503.21', TransactionDate='02/08/2016', TransactionTime='142714', TransactionAmount (INR)='2060'),\n",
              " Row(TransactionID='T5', CustomerID='C9031234', CustomerDOB='24/3/88', CustGender='F', CustLocation='NAVI MUMBAI', CustAccountBalance='6714.43', TransactionDate='02/08/2016', TransactionTime='181156', TransactionAmount (INR)='1762.5'),\n",
              " Row(TransactionID='T6', CustomerID='C1536588', CustomerDOB='8/10/72', CustGender='F', CustLocation='ITANAGAR', CustAccountBalance='53609.2', TransactionDate='02/08/2016', TransactionTime='173940', TransactionAmount (INR)='676'),\n",
              " Row(TransactionID='T7', CustomerID='C7126560', CustomerDOB='26/1/92', CustGender='F', CustLocation='MUMBAI', CustAccountBalance='973.46', TransactionDate='02/08/2016', TransactionTime='173806', TransactionAmount (INR)='566'),\n",
              " Row(TransactionID='T8', CustomerID='C1220223', CustomerDOB='27/1/82', CustGender='M', CustLocation='MUMBAI', CustAccountBalance='95075.54', TransactionDate='02/08/2016', TransactionTime='170537', TransactionAmount (INR)='148'),\n",
              " Row(TransactionID='T9', CustomerID='C8536061', CustomerDOB='19/4/88', CustGender='F', CustLocation='GURGAON', CustAccountBalance='14906.96', TransactionDate='02/08/2016', TransactionTime='192825', TransactionAmount (INR)='833'),\n",
              " Row(TransactionID='T10', CustomerID='C6638934', CustomerDOB='22/6/84', CustGender='M', CustLocation='MUMBAI', CustAccountBalance='4279.22', TransactionDate='02/08/2016', TransactionTime='192446', TransactionAmount (INR)='289.11')]"
            ]
          },
          "metadata": {},
          "execution_count": 7
        }
      ],
      "source": [
        "df.head(10)"
      ]
    },
    {
      "cell_type": "code",
      "execution_count": 8,
      "metadata": {
        "colab": {
          "base_uri": "https://localhost:8080/"
        },
        "id": "kteZhI3ucsWf",
        "outputId": "390ae16f-beda-4336-bc42-52e6bd2720fe"
      },
      "outputs": [
        {
          "output_type": "stream",
          "name": "stdout",
          "text": [
            "+-------------+----------+-----------+----------+------------+------------------+---------------+---------------+-----------------------+\n",
            "|TransactionID|CustomerID|CustomerDOB|CustGender|CustLocation|CustAccountBalance|TransactionDate|TransactionTime|TransactionAmount (INR)|\n",
            "+-------------+----------+-----------+----------+------------+------------------+---------------+---------------+-----------------------+\n",
            "|T1           |C5841053  |10/1/94    |F         |JAMSHEDPUR  |17819.05          |02/08/2016     |143207         |25                     |\n",
            "|T2           |C2142763  |4/4/57     |M         |JHAJJAR     |2270.69           |02/08/2016     |141858         |27999                  |\n",
            "|T3           |C4417068  |26/11/96   |F         |MUMBAI      |17874.44          |02/08/2016     |142712         |459                    |\n",
            "|T4           |C5342380  |14/9/73    |F         |MUMBAI      |866503.21         |02/08/2016     |142714         |2060                   |\n",
            "|T5           |C9031234  |24/3/88    |F         |NAVI MUMBAI |6714.43           |02/08/2016     |181156         |1762.5                 |\n",
            "+-------------+----------+-----------+----------+------------+------------------+---------------+---------------+-----------------------+\n",
            "only showing top 5 rows\n",
            "\n"
          ]
        }
      ],
      "source": [
        "df.show(5,0)"
      ]
    },
    {
      "cell_type": "code",
      "execution_count": 9,
      "metadata": {
        "id": "m8A5UmoycsWg"
      },
      "outputs": [],
      "source": [
        "df = df \\\n",
        "    .withColumn('CustomerDOB', col('CustomerDOB').cast(DateType())) \\\n",
        "    .withColumn('CustAccountBalance', col('CustAccountBalance').cast(FloatType())) \\\n",
        "    .withColumn('TransactionDate', col('TransactionDate').cast(DateType())) \\\n",
        "    .withColumn('TransactionTime', col('TransactionTime').cast(IntegerType())) \\\n",
        "    .withColumn('TransactionAmount (INR)', col('TransactionAmount (INR)').cast(FloatType()))"
      ]
    },
    {
      "cell_type": "code",
      "execution_count": 10,
      "metadata": {
        "colab": {
          "base_uri": "https://localhost:8080/"
        },
        "id": "ebGjQR2FcsWh",
        "outputId": "834d1319-251e-4a2e-80a9-9733e1f9413b"
      },
      "outputs": [
        {
          "output_type": "execute_result",
          "data": {
            "text/plain": [
              "1048567"
            ]
          },
          "metadata": {},
          "execution_count": 10
        }
      ],
      "source": [
        "df.count()"
      ]
    },
    {
      "cell_type": "code",
      "execution_count": 11,
      "metadata": {
        "colab": {
          "base_uri": "https://localhost:8080/"
        },
        "id": "BEyCPqIucsWi",
        "outputId": "504d35c5-3564-4fcc-bec5-15e242d677a4"
      },
      "outputs": [
        {
          "output_type": "stream",
          "name": "stdout",
          "text": [
            "+-------------+----------+----------+------------+------------------+---------------+-----------------------+\n",
            "|TransactionID|CustomerID|CustGender|CustLocation|CustAccountBalance|TransactionTime|TransactionAmount (INR)|\n",
            "+-------------+----------+----------+------------+------------------+---------------+-----------------------+\n",
            "|            0|         0|      1100|         151|              2369|              0|                      0|\n",
            "+-------------+----------+----------+------------+------------------+---------------+-----------------------+\n",
            "\n"
          ]
        }
      ],
      "source": [
        "#para ver se tem nulls\n",
        "df_Columns=[\"TransactionID\",\"CustomerID\",\"CustGender\",\"CustLocation\",\"CustAccountBalance\",\"TransactionTime\",\"TransactionAmount (INR)\"]\n",
        "df.select([count(when(col(c).isNull(), c)).alias(c) for c in df_Columns]).show()"
      ]
    },
    {
      "cell_type": "code",
      "execution_count": 12,
      "metadata": {
        "colab": {
          "base_uri": "https://localhost:8080/"
        },
        "id": "5_IJAM8wcsWj",
        "outputId": "def5dcd5-f282-4b90-b3ec-7e169ea6d140"
      },
      "outputs": [
        {
          "output_type": "stream",
          "name": "stdout",
          "text": [
            "+-------------+----------+----------+------------+------------------+---------------+-----------------------+\n",
            "|TransactionID|CustomerID|CustGender|CustLocation|CustAccountBalance|TransactionTime|TransactionAmount (INR)|\n",
            "+-------------+----------+----------+------------+------------------+---------------+-----------------------+\n",
            "|            0|         0|         0|           0|                 0|              0|                      0|\n",
            "+-------------+----------+----------+------------+------------------+---------------+-----------------------+\n",
            "\n"
          ]
        }
      ],
      "source": [
        "#para ver se tem na's\n",
        "df_Columns=[\"TransactionID\",\"CustomerID\",\"CustGender\",\"CustLocation\",\"CustAccountBalance\",\"TransactionTime\",\"TransactionAmount (INR)\"]\n",
        "df.select([count(when(isnan(c), c)).alias(c) for c in df_Columns]).show()"
      ]
    },
    {
      "cell_type": "code",
      "execution_count": 13,
      "metadata": {
        "id": "J_ZFPk6WcsWk"
      },
      "outputs": [],
      "source": [
        "from pyspark.sql.functions import col\n",
        "\n",
        "df = df.filter(col(\"CustAccountBalance\").isNotNull())   #para retirar os nulls"
      ]
    },
    {
      "cell_type": "code",
      "execution_count": 14,
      "metadata": {
        "id": "igdPiAOicsWk"
      },
      "outputs": [],
      "source": [
        "from pyspark.sql.functions import col\n",
        "\n",
        "df = df.filter(col(\"CustLocation\").isNotNull())         #para retirar os nulls"
      ]
    },
    {
      "cell_type": "code",
      "execution_count": 15,
      "metadata": {
        "colab": {
          "base_uri": "https://localhost:8080/"
        },
        "id": "SSVS_QmYcsWl",
        "outputId": "1aeac28c-6606-4892-9ccc-f955a247dfbb"
      },
      "outputs": [
        {
          "output_type": "stream",
          "name": "stdout",
          "text": [
            "+-------+-------------+----------+----------+--------------------+------------------+------------------+-----------------------+\n",
            "|summary|TransactionID|CustomerID|CustGender|        CustLocation|CustAccountBalance|   TransactionTime|TransactionAmount (INR)|\n",
            "+-------+-------------+----------+----------+--------------------+------------------+------------------+-----------------------+\n",
            "|  count|      1046047|   1046047|   1044947|             1046047|           1046047|           1046047|                1046047|\n",
            "|   mean|         null|      null|      null|            400012.0|115406.95782476036|157094.47744795406|     1573.2621233532354|\n",
            "| stddev|         null|      null|      null|                 0.0|  846544.952151457|  51263.3503468519|      6570.077431588658|\n",
            "|    min|           T1|  C1010011|         F|(154) BHASKOLA FA...|               0.0|                 0|                    0.0|\n",
            "|    max|      T999999|  C9099956|         T|           ZUNHEBOTO|      1.15035496E8|            235959|              1560035.0|\n",
            "+-------+-------------+----------+----------+--------------------+------------------+------------------+-----------------------+\n",
            "\n"
          ]
        }
      ],
      "source": [
        "df.describe().show()"
      ]
    },
    {
      "cell_type": "code",
      "execution_count": 16,
      "metadata": {
        "colab": {
          "base_uri": "https://localhost:8080/"
        },
        "id": "-PY4zYvZcsWm",
        "outputId": "476ad10e-b79f-477c-dbed-9ab115bb0fe1"
      },
      "outputs": [
        {
          "output_type": "stream",
          "name": "stdout",
          "text": [
            "root\n",
            " |-- TransactionID: string (nullable = true)\n",
            " |-- CustomerID: string (nullable = true)\n",
            " |-- CustomerDOB: date (nullable = true)\n",
            " |-- CustGender: string (nullable = true)\n",
            " |-- CustLocation: string (nullable = true)\n",
            " |-- CustAccountBalance: float (nullable = true)\n",
            " |-- TransactionDate: date (nullable = true)\n",
            " |-- TransactionTime: integer (nullable = true)\n",
            " |-- TransactionAmount (INR): float (nullable = true)\n",
            "\n"
          ]
        }
      ],
      "source": [
        "df.printSchema()"
      ]
    },
    {
      "cell_type": "code",
      "execution_count": 17,
      "metadata": {
        "colab": {
          "base_uri": "https://localhost:8080/"
        },
        "id": "e_R3wE8acsWm",
        "outputId": "78db779c-177d-43a5-8079-9a5baeccb809"
      },
      "outputs": [
        {
          "output_type": "stream",
          "name": "stdout",
          "text": [
            "float\n"
          ]
        }
      ],
      "source": [
        "print(dict(df.dtypes)['CustAccountBalance'] )"
      ]
    },
    {
      "cell_type": "code",
      "execution_count": 18,
      "metadata": {
        "colab": {
          "base_uri": "https://localhost:8080/"
        },
        "id": "RwH0j5WccsWn",
        "outputId": "466ad24a-00fa-4744-db73-1dce9dfd746e"
      },
      "outputs": [
        {
          "output_type": "stream",
          "name": "stdout",
          "text": [
            "string\n"
          ]
        }
      ],
      "source": [
        "print(dict(df.dtypes)['TransactionID'] )"
      ]
    },
    {
      "cell_type": "code",
      "execution_count": 19,
      "metadata": {
        "colab": {
          "base_uri": "https://localhost:8080/"
        },
        "id": "w_5mLh6ucsWn",
        "outputId": "7b62a93f-fe0d-433e-c44b-a0e7eb5799d4"
      },
      "outputs": [
        {
          "output_type": "execute_result",
          "data": {
            "text/plain": [
              "882486"
            ]
          },
          "metadata": {},
          "execution_count": 19
        }
      ],
      "source": [
        "df.select('CustomerID').distinct().count()"
      ]
    },
    {
      "cell_type": "code",
      "execution_count": 20,
      "metadata": {
        "id": "-cMxgxEScsWo"
      },
      "outputs": [],
      "source": [
        "df_id_CustomerID = df.select('CustomerID')"
      ]
    },
    {
      "cell_type": "code",
      "execution_count": 21,
      "metadata": {
        "colab": {
          "base_uri": "https://localhost:8080/"
        },
        "id": "7cx6Q8lBcsWp",
        "outputId": "6c057e1e-b102-4fd7-f755-c09d79a400e5"
      },
      "outputs": [
        {
          "output_type": "stream",
          "name": "stdout",
          "text": [
            "+----------+\n",
            "|CustomerID|\n",
            "+----------+\n",
            "|  C5841053|\n",
            "|  C2142763|\n",
            "|  C4417068|\n",
            "+----------+\n",
            "only showing top 3 rows\n",
            "\n"
          ]
        }
      ],
      "source": [
        "df_id_CustomerID.show(3)"
      ]
    },
    {
      "cell_type": "code",
      "execution_count": 22,
      "metadata": {
        "colab": {
          "base_uri": "https://localhost:8080/"
        },
        "id": "bctWLCklcsWp",
        "outputId": "1d1520e6-5dc2-499e-b74f-0bb5381c982c"
      },
      "outputs": [
        {
          "output_type": "execute_result",
          "data": {
            "text/plain": [
              "['TransactionID',\n",
              " 'CustomerID',\n",
              " 'CustomerDOB',\n",
              " 'CustGender',\n",
              " 'CustLocation',\n",
              " 'CustAccountBalance',\n",
              " 'TransactionDate',\n",
              " 'TransactionTime',\n",
              " 'TransactionAmount (INR)']"
            ]
          },
          "metadata": {},
          "execution_count": 22
        }
      ],
      "source": [
        "df.columns"
      ]
    },
    {
      "cell_type": "code",
      "execution_count": 23,
      "metadata": {
        "id": "48kMUXUTcsWp"
      },
      "outputs": [],
      "source": [
        "df_id_CustGender = df.select('CustGender')"
      ]
    },
    {
      "cell_type": "code",
      "execution_count": 24,
      "metadata": {
        "colab": {
          "base_uri": "https://localhost:8080/"
        },
        "id": "3ivZ_HaPcsWq",
        "outputId": "1ec9cf53-75c0-4d2b-bce5-ae948d13727d"
      },
      "outputs": [
        {
          "output_type": "stream",
          "name": "stdout",
          "text": [
            "+----------+\n",
            "|CustGender|\n",
            "+----------+\n",
            "|         F|\n",
            "|         M|\n",
            "|         F|\n",
            "|         F|\n",
            "|         F|\n",
            "|         F|\n",
            "|         F|\n",
            "|         M|\n",
            "|         F|\n",
            "|         M|\n",
            "+----------+\n",
            "only showing top 10 rows\n",
            "\n"
          ]
        }
      ],
      "source": [
        "df_id_CustGender.show(10)"
      ]
    },
    {
      "cell_type": "code",
      "execution_count": 25,
      "metadata": {
        "colab": {
          "base_uri": "https://localhost:8080/"
        },
        "id": "eztpHWincsWq",
        "outputId": "2f490c95-9b05-4ed7-ca7d-bd88cb2b0e94"
      },
      "outputs": [
        {
          "output_type": "stream",
          "name": "stdout",
          "text": [
            "+-------------+----------+-----------+----------+------------+------------------+---------------+---------------+-----------------------+\n",
            "|TransactionID|CustomerID|CustomerDOB|CustGender|CustLocation|CustAccountBalance|TransactionDate|TransactionTime|TransactionAmount (INR)|\n",
            "+-------------+----------+-----------+----------+------------+------------------+---------------+---------------+-----------------------+\n",
            "|           T1|  C5841053|       null|         F|  JAMSHEDPUR|          17819.05|           null|         143207|                   25.0|\n",
            "|           T3|  C4417068|       null|         F|      MUMBAI|          17874.44|           null|         142712|                  459.0|\n",
            "|           T4|  C5342380|       null|         F|      MUMBAI|          866503.2|           null|         142714|                 2060.0|\n",
            "|           T5|  C9031234|       null|         F| NAVI MUMBAI|           6714.43|           null|         181156|                 1762.5|\n",
            "|           T6|  C1536588|       null|         F|    ITANAGAR|           53609.2|           null|         173940|                  676.0|\n",
            "|           T8|  C1220223|       null|         M|      MUMBAI|          95075.54|           null|         170537|                  148.0|\n",
            "|           T9|  C8536061|       null|         F|     GURGAON|          14906.96|           null|         192825|                  833.0|\n",
            "|          T11|  C5430833|       null|         M|      MOHALI|          48429.49|           null|         204133|                  259.0|\n",
            "|          T12|  C6939838|       null|         M|      GUNTUR|          14613.46|           null|         205108|                  202.0|\n",
            "|          T13|  C6339347|       null|         M|   AHMEDABAD|          32274.78|           null|         203834|                12300.0|\n",
            "+-------------+----------+-----------+----------+------------+------------------+---------------+---------------+-----------------------+\n",
            "only showing top 10 rows\n",
            "\n"
          ]
        }
      ],
      "source": [
        "new_df_CustAccountBalanceBiggerThan5000 = df.filter(df.CustAccountBalance > 5000)\n",
        "new_df_CustAccountBalanceBiggerThan5000.show(10)"
      ]
    },
    {
      "cell_type": "code",
      "execution_count": 26,
      "metadata": {
        "colab": {
          "base_uri": "https://localhost:8080/"
        },
        "id": "UGdFVXiycsWr",
        "outputId": "e81afc85-c544-4ba5-d2bb-fbc867cac09f"
      },
      "outputs": [
        {
          "output_type": "stream",
          "name": "stdout",
          "text": [
            "+-------------+----------+-----------+----------+------------+------------------+---------------+---------------+-----------------------+\n",
            "|TransactionID|CustomerID|CustomerDOB|CustGender|CustLocation|CustAccountBalance|TransactionDate|TransactionTime|TransactionAmount (INR)|\n",
            "+-------------+----------+-----------+----------+------------+------------------+---------------+---------------+-----------------------+\n",
            "|        T5126|  C1214190|       null|         F|        DURG|            401.44|           null|            400|                  110.0|\n",
            "|       T20397|  C3222875|       null|         M|  VIJAYAWADA|          16511.74|           null|             10|                  330.0|\n",
            "|       T21305|  C6228180|       null|         M|    DINDIGUL|             70.09|           null|            113|                   10.0|\n",
            "|       T35040|  C8916035|       null|         M|   BANGALORE|          19298.99|           null|            357|                1538.81|\n",
            "|       T35041|  C6432239|       null|         M|     HOOGHLY|         100242.39|           null|            333|                11994.0|\n",
            "|       T35042|  C6825027|       null|         M|      MEERUT|          20630.12|           null|            458|                4195.31|\n",
            "|       T35288|  C2519389|       null|         M|    LUDHIANA|         114200.69|           null|            101|                  245.0|\n",
            "|       T35289|  C4639926|       null|         M|     GURGAON|               0.0|           null|            321|                   57.0|\n",
            "|       T35290|  C6034517|       null|         F| NAVI MUMBAI|         125336.73|           null|              4|                   50.0|\n",
            "|       T35300|  C3424455|       null|         M|   NEW DELHI|           53674.1|           null|            222|                 6843.0|\n",
            "+-------------+----------+-----------+----------+------------+------------------+---------------+---------------+-----------------------+\n",
            "only showing top 10 rows\n",
            "\n"
          ]
        }
      ],
      "source": [
        "new_df_TransactionTimeLessThan500 = df.filter(df.TransactionTime < 500)\n",
        "new_df_TransactionTimeLessThan500.show(10)"
      ]
    },
    {
      "cell_type": "code",
      "execution_count": 27,
      "metadata": {
        "colab": {
          "base_uri": "https://localhost:8080/"
        },
        "id": "xyh92HJfcsWr",
        "outputId": "17e8443c-9233-4ea1-af37-4d0389664d8d"
      },
      "outputs": [
        {
          "output_type": "execute_result",
          "data": {
            "text/plain": [
              "4"
            ]
          },
          "metadata": {},
          "execution_count": 27
        }
      ],
      "source": [
        "df.select('CustGender').distinct().count()"
      ]
    },
    {
      "cell_type": "code",
      "execution_count": 28,
      "metadata": {
        "colab": {
          "base_uri": "https://localhost:8080/"
        },
        "id": "p0bwxH17csWs",
        "outputId": "91ea9042-d230-4e27-8103-817bdd00f659"
      },
      "outputs": [
        {
          "output_type": "stream",
          "name": "stdout",
          "text": [
            "+----------+------+\n",
            "|CustGender| count|\n",
            "+----------+------+\n",
            "|         F|281241|\n",
            "|      null|  1100|\n",
            "|         M|763705|\n",
            "|         T|     1|\n",
            "+----------+------+\n",
            "\n"
          ]
        }
      ],
      "source": [
        "new_df_PessoasPorSexo = df.groupby('CustGender')\n",
        "new_df_PessoasPorSexo.count().show(10)"
      ]
    },
    {
      "cell_type": "code",
      "execution_count": 29,
      "metadata": {
        "colab": {
          "base_uri": "https://localhost:8080/"
        },
        "id": "PhRpI6FrcsWs",
        "outputId": "15d1334d-ac10-4746-9433-0af2db9ef3d7"
      },
      "outputs": [
        {
          "output_type": "stream",
          "name": "stdout",
          "text": [
            "+--------------------+-----+\n",
            "|        CustLocation|count|\n",
            "+--------------------+-----+\n",
            "|             GWALIOR|  947|\n",
            "|      UTTAR DINAJPUR|   62|\n",
            "|             SANGRUR|  352|\n",
            "|  ACADEMY SAMASTIPUR|    5|\n",
            "|NO 3 NR LALLAN HO...|   57|\n",
            "|GATE DARIYAPUR AH...|    7|\n",
            "|ELPHINSTONE W MUMBAI|   12|\n",
            "|             SHIMOGA|  114|\n",
            "|          FLOOR PUNE|    2|\n",
            "|           TIRUVALLA|    8|\n",
            "|        SARAN CHAPRA|    3|\n",
            "|             MOHANIA|    2|\n",
            "|              TEEKOY|   10|\n",
            "|CUMBALLA HILL MUMBAI|    2|\n",
            "|            KANUBARI|   24|\n",
            "|          NALAPPURAM|    5|\n",
            "|B/H ATM UNION BAN...|    5|\n",
            "|  TIRUPATI NGR THANE|    2|\n",
            "|            K K DIST|   10|\n",
            "|              SUBBAL|    3|\n",
            "+--------------------+-----+\n",
            "only showing top 20 rows\n",
            "\n"
          ]
        }
      ],
      "source": [
        "new_df_CustLocation = df.groupby('CustLocation')\n",
        "new_df_CustLocation.count().show(20)"
      ]
    },
    {
      "cell_type": "code",
      "execution_count": 30,
      "metadata": {
        "colab": {
          "base_uri": "https://localhost:8080/"
        },
        "id": "OhcSmZrEcsWt",
        "outputId": "a7709239-df55-4791-e37a-87cb4fc2a259"
      },
      "outputs": [
        {
          "output_type": "stream",
          "name": "stdout",
          "text": [
            "+------------+------+\n",
            "|CustLocation| count|\n",
            "+------------+------+\n",
            "|      MUMBAI|101473|\n",
            "|   NEW DELHI| 83371|\n",
            "|   BANGALORE| 80264|\n",
            "|     GURGAON| 72788|\n",
            "|       DELHI| 69870|\n",
            "|       NOIDA| 32493|\n",
            "|     CHENNAI| 29749|\n",
            "|        PUNE| 25632|\n",
            "|   HYDERABAD| 22889|\n",
            "|       THANE| 21336|\n",
            "+------------+------+\n",
            "only showing top 10 rows\n",
            "\n"
          ]
        }
      ],
      "source": [
        "df.groupBy('CustLocation').agg(countDistinct('CustomerID').alias('count')).orderBy(desc('count')).show(10)"
      ]
    },
    {
      "cell_type": "code",
      "execution_count": 31,
      "metadata": {
        "colab": {
          "base_uri": "https://localhost:8080/"
        },
        "id": "dqB5dNuwcsWt",
        "outputId": "3d3eb535-16f8-44d7-b1b6-1200a8826165"
      },
      "outputs": [
        {
          "output_type": "stream",
          "name": "stdout",
          "text": [
            "+----------+----------+------------+------------------+\n",
            "|CustomerID|CustGender|CustLocation|CustAccountBalance|\n",
            "+----------+----------+------------+------------------+\n",
            "|  C3316830|         M|    SHILLONG|      1.15035496E8|\n",
            "|  C6416825|         M|    SHILLONG|      1.15035496E8|\n",
            "|  C4316889|         M|    SHILLONG|      1.15035496E8|\n",
            "|  C2216823|         M|    SHILLONG|      1.15035496E8|\n",
            "|  C5916881|         M|    SHILLONG|      1.15035496E8|\n",
            "|  C5116828|         M|    SHILLONG|      1.15035496E8|\n",
            "|  C2916887|         M|    SHILLONG|      1.15035496E8|\n",
            "|  C7716886|         M|    SHILLONG|      1.15035496E8|\n",
            "|  C2916865|         M|    SHILLONG|      1.15035496E8|\n",
            "|  C8116818|         M|    SHILLONG|      1.15035496E8|\n",
            "|  C5914453|         F|     GURGAON|       8.2244632E7|\n",
            "|  C2514473|         F|     GURGAON|       8.2244632E7|\n",
            "|  C4014424|         F|     GURGAON|       8.2244632E7|\n",
            "|  C6914429|         F|     GURGAON|       8.2244632E7|\n",
            "|  C3414471|         F|     GURGAON|       8.2244632E7|\n",
            "|  C7614475|         F|     GURGAON|       8.2244632E7|\n",
            "|  C6914463|         F|     GURGAON|       8.2244632E7|\n",
            "|  C7914467|         F|     GURGAON|       8.2244632E7|\n",
            "|  C3314425|         F|     GURGAON|       8.2244632E7|\n",
            "|  C5014451|         F|     GURGAON|       8.2244632E7|\n",
            "|  C2014414|         F|     GURGAON|       8.2244632E7|\n",
            "|  C3114478|         F|     GURGAON|       8.2244632E7|\n",
            "|  C1014488|         F|     GURGAON|       8.2244632E7|\n",
            "|  C7214475|         F|     GURGAON|       8.2244632E7|\n",
            "|  C3514467|         F|     GURGAON|       8.2244632E7|\n",
            "|  C2414426|         F|     GURGAON|       8.2244632E7|\n",
            "|  C8114469|         F|     GURGAON|       8.2244632E7|\n",
            "|  C2014414|         F|     GURGAON|       8.2244632E7|\n",
            "|  C2414467|         F|     GURGAON|       8.2244632E7|\n",
            "|  C6826860|         M|     TIRUPUR|       6.9799328E7|\n",
            "|  C8226856|         M|     TIRUPUR|       6.9799328E7|\n",
            "|  C8826859|         M|     TIRUPUR|       6.9799328E7|\n",
            "|  C8426831|         M|     TIRUPUR|       6.9799328E7|\n",
            "|  C8217728|         M|      MUMBAI|       6.1382212E7|\n",
            "|  C1316438|         M|   HYDERABAD|       5.5369688E7|\n",
            "|  C7216483|         M|   HYDERABAD|       5.5369688E7|\n",
            "|  C6716431|         M|   HYDERABAD|       5.5369688E7|\n",
            "|  C6216465|         M|   HYDERABAD|       5.5369688E7|\n",
            "|  C6616465|         M|   HYDERABAD|       5.5369688E7|\n",
            "|  C5416474|         M|   HYDERABAD|       5.5369688E7|\n",
            "|  C2116492|         M|   HYDERABAD|       5.5369688E7|\n",
            "|  C6016430|         M|   HYDERABAD|       5.5369688E7|\n",
            "|  C3916481|         M|   HYDERABAD|       5.5369688E7|\n",
            "|  C8316441|         M|   HYDERABAD|       5.5369688E7|\n",
            "|  C8616411|         M|   HYDERABAD|       5.5369688E7|\n",
            "|  C7216446|         M|   HYDERABAD|       5.5369688E7|\n",
            "|  C4232365|         M|     GURGAON|       5.0999668E7|\n",
            "|  C6932375|         M|     GURGAON|       5.0999668E7|\n",
            "|  C5332358|         M|     GURGAON|       5.0999668E7|\n",
            "|  C9032378|         M|     GURGAON|       5.0999668E7|\n",
            "|  C4432324|         M|     GURGAON|       5.0999668E7|\n",
            "|  C4332323|         M|     GURGAON|       5.0999668E7|\n",
            "|  C3032349|         M|     GURGAON|       5.0999668E7|\n",
            "|  C4832362|         M|     GURGAON|       5.0999668E7|\n",
            "|  C6132345|         M|     GURGAON|       5.0999668E7|\n",
            "|  C3632390|         M|     GURGAON|       5.0999668E7|\n",
            "|  C4632331|         M|     GURGAON|       5.0999668E7|\n",
            "|  C4532384|         M|     GURGAON|       5.0999668E7|\n",
            "|  C1432392|         M|     GURGAON|       5.0999668E7|\n",
            "|  C8867086|         F|   NEW DELHI|       5.0107964E7|\n",
            "|  C8338953|         M|     GURGAON|       4.3165556E7|\n",
            "|  C1080761|         M|    AGARTALA|       4.3099848E7|\n",
            "|  C2837473|         M|   NEW DELHI|       4.2331376E7|\n",
            "|  C3737475|         M|   NEW DELHI|       4.2331376E7|\n",
            "|  C8337479|         M|   NEW DELHI|       4.2331376E7|\n",
            "|  C8037475|         M|   NEW DELHI|       4.2331376E7|\n",
            "|  C9037462|         M|   NEW DELHI|       4.2331376E7|\n",
            "|  C8937471|         M|   NEW DELHI|       4.2331376E7|\n",
            "|  C2613340|         M|      MOHALI|       3.8321148E7|\n",
            "|  C3213356|         M|      MOHALI|       3.8321148E7|\n",
            "|  C3513362|         M|      MOHALI|       3.8321148E7|\n",
            "|  C6613372|         M|      MOHALI|       3.8321148E7|\n",
            "|  C1613358|         M|      MOHALI|       3.8321148E7|\n",
            "|  C2315672|         M|   NEW DELHI|       3.7254856E7|\n",
            "|  C4415630|         M|   NEW DELHI|       3.7254856E7|\n",
            "|  C6715618|         M|   NEW DELHI|       3.7254856E7|\n",
            "|  C7115650|         M|   NEW DELHI|       3.7254856E7|\n",
            "|  C8115641|         M|   NEW DELHI|       3.7254856E7|\n",
            "|  C4315643|         M|   NEW DELHI|       3.7254856E7|\n",
            "|  C5915655|         M|   NEW DELHI|       3.7254856E7|\n",
            "+----------+----------+------------+------------------+\n",
            "only showing top 80 rows\n",
            "\n"
          ]
        }
      ],
      "source": [
        "df.createOrReplaceTempView(\"Top10AccountBalance\")\n",
        "query = '''SELECT CustomerID, CustGender, CustLocation, CustAccountBalance FROM Top10AccountBalance ORDER BY CustAccountBalance DESC'''\n",
        "spark.sql(query).show(80)"
      ]
    },
    {
      "cell_type": "code",
      "execution_count": 32,
      "metadata": {
        "id": "wpBizrJzcsWu"
      },
      "outputs": [],
      "source": [
        "#alteração do nome da coluna: de TransactionAmount (INR) para TransactionAmount \n",
        "\n",
        "df = df.withColumnRenamed('TransactionAmount (INR)', 'TransactionAmount')"
      ]
    },
    {
      "cell_type": "code",
      "execution_count": 33,
      "metadata": {
        "colab": {
          "base_uri": "https://localhost:8080/"
        },
        "id": "98qNVPtJcsWu",
        "outputId": "85130155-e8ad-4d6a-f5da-d7e895b30a35"
      },
      "outputs": [
        {
          "output_type": "stream",
          "name": "stdout",
          "text": [
            "root\n",
            " |-- TransactionID: string (nullable = true)\n",
            " |-- CustomerID: string (nullable = true)\n",
            " |-- CustomerDOB: date (nullable = true)\n",
            " |-- CustGender: string (nullable = true)\n",
            " |-- CustLocation: string (nullable = true)\n",
            " |-- CustAccountBalance: float (nullable = true)\n",
            " |-- TransactionDate: date (nullable = true)\n",
            " |-- TransactionTime: integer (nullable = true)\n",
            " |-- TransactionAmount: float (nullable = true)\n",
            "\n"
          ]
        }
      ],
      "source": [
        "df.printSchema()"
      ]
    },
    {
      "cell_type": "code",
      "execution_count": 34,
      "metadata": {
        "colab": {
          "base_uri": "https://localhost:8080/",
          "height": 206
        },
        "id": "T6OZvEBFcsWv",
        "outputId": "0b87ed99-f7e7-40ba-d02d-db508129696b"
      },
      "outputs": [
        {
          "output_type": "execute_result",
          "data": {
            "text/plain": [
              "  summary TransactionID CustomerID CustGender              CustLocation  \\\n",
              "0   count       1046047    1046047    1044947                   1046047   \n",
              "1    mean          None       None       None                  400012.0   \n",
              "2  stddev          None       None       None                       0.0   \n",
              "3     min            T1   C1010011          F  (154) BHASKOLA FARIDABAD   \n",
              "4     max       T999999   C9099956          T                 ZUNHEBOTO   \n",
              "\n",
              "   CustAccountBalance     TransactionTime   TransactionAmount  \n",
              "0             1046047             1046047             1046047  \n",
              "1  115406.95782476036  157094.47744795406  1573.2621233532354  \n",
              "2    846544.952151457    51263.3503468519   6570.077431588658  \n",
              "3                 0.0                   0                 0.0  \n",
              "4        1.15035496E8              235959           1560035.0  "
            ],
            "text/html": [
              "\n",
              "  <div id=\"df-e53b7b78-220f-43c7-b9bf-aac7405c46db\">\n",
              "    <div class=\"colab-df-container\">\n",
              "      <div>\n",
              "<style scoped>\n",
              "    .dataframe tbody tr th:only-of-type {\n",
              "        vertical-align: middle;\n",
              "    }\n",
              "\n",
              "    .dataframe tbody tr th {\n",
              "        vertical-align: top;\n",
              "    }\n",
              "\n",
              "    .dataframe thead th {\n",
              "        text-align: right;\n",
              "    }\n",
              "</style>\n",
              "<table border=\"1\" class=\"dataframe\">\n",
              "  <thead>\n",
              "    <tr style=\"text-align: right;\">\n",
              "      <th></th>\n",
              "      <th>summary</th>\n",
              "      <th>TransactionID</th>\n",
              "      <th>CustomerID</th>\n",
              "      <th>CustGender</th>\n",
              "      <th>CustLocation</th>\n",
              "      <th>CustAccountBalance</th>\n",
              "      <th>TransactionTime</th>\n",
              "      <th>TransactionAmount</th>\n",
              "    </tr>\n",
              "  </thead>\n",
              "  <tbody>\n",
              "    <tr>\n",
              "      <th>0</th>\n",
              "      <td>count</td>\n",
              "      <td>1046047</td>\n",
              "      <td>1046047</td>\n",
              "      <td>1044947</td>\n",
              "      <td>1046047</td>\n",
              "      <td>1046047</td>\n",
              "      <td>1046047</td>\n",
              "      <td>1046047</td>\n",
              "    </tr>\n",
              "    <tr>\n",
              "      <th>1</th>\n",
              "      <td>mean</td>\n",
              "      <td>None</td>\n",
              "      <td>None</td>\n",
              "      <td>None</td>\n",
              "      <td>400012.0</td>\n",
              "      <td>115406.95782476036</td>\n",
              "      <td>157094.47744795406</td>\n",
              "      <td>1573.2621233532354</td>\n",
              "    </tr>\n",
              "    <tr>\n",
              "      <th>2</th>\n",
              "      <td>stddev</td>\n",
              "      <td>None</td>\n",
              "      <td>None</td>\n",
              "      <td>None</td>\n",
              "      <td>0.0</td>\n",
              "      <td>846544.952151457</td>\n",
              "      <td>51263.3503468519</td>\n",
              "      <td>6570.077431588658</td>\n",
              "    </tr>\n",
              "    <tr>\n",
              "      <th>3</th>\n",
              "      <td>min</td>\n",
              "      <td>T1</td>\n",
              "      <td>C1010011</td>\n",
              "      <td>F</td>\n",
              "      <td>(154) BHASKOLA FARIDABAD</td>\n",
              "      <td>0.0</td>\n",
              "      <td>0</td>\n",
              "      <td>0.0</td>\n",
              "    </tr>\n",
              "    <tr>\n",
              "      <th>4</th>\n",
              "      <td>max</td>\n",
              "      <td>T999999</td>\n",
              "      <td>C9099956</td>\n",
              "      <td>T</td>\n",
              "      <td>ZUNHEBOTO</td>\n",
              "      <td>1.15035496E8</td>\n",
              "      <td>235959</td>\n",
              "      <td>1560035.0</td>\n",
              "    </tr>\n",
              "  </tbody>\n",
              "</table>\n",
              "</div>\n",
              "      <button class=\"colab-df-convert\" onclick=\"convertToInteractive('df-e53b7b78-220f-43c7-b9bf-aac7405c46db')\"\n",
              "              title=\"Convert this dataframe to an interactive table.\"\n",
              "              style=\"display:none;\">\n",
              "        \n",
              "  <svg xmlns=\"http://www.w3.org/2000/svg\" height=\"24px\"viewBox=\"0 0 24 24\"\n",
              "       width=\"24px\">\n",
              "    <path d=\"M0 0h24v24H0V0z\" fill=\"none\"/>\n",
              "    <path d=\"M18.56 5.44l.94 2.06.94-2.06 2.06-.94-2.06-.94-.94-2.06-.94 2.06-2.06.94zm-11 1L8.5 8.5l.94-2.06 2.06-.94-2.06-.94L8.5 2.5l-.94 2.06-2.06.94zm10 10l.94 2.06.94-2.06 2.06-.94-2.06-.94-.94-2.06-.94 2.06-2.06.94z\"/><path d=\"M17.41 7.96l-1.37-1.37c-.4-.4-.92-.59-1.43-.59-.52 0-1.04.2-1.43.59L10.3 9.45l-7.72 7.72c-.78.78-.78 2.05 0 2.83L4 21.41c.39.39.9.59 1.41.59.51 0 1.02-.2 1.41-.59l7.78-7.78 2.81-2.81c.8-.78.8-2.07 0-2.86zM5.41 20L4 18.59l7.72-7.72 1.47 1.35L5.41 20z\"/>\n",
              "  </svg>\n",
              "      </button>\n",
              "      \n",
              "  <style>\n",
              "    .colab-df-container {\n",
              "      display:flex;\n",
              "      flex-wrap:wrap;\n",
              "      gap: 12px;\n",
              "    }\n",
              "\n",
              "    .colab-df-convert {\n",
              "      background-color: #E8F0FE;\n",
              "      border: none;\n",
              "      border-radius: 50%;\n",
              "      cursor: pointer;\n",
              "      display: none;\n",
              "      fill: #1967D2;\n",
              "      height: 32px;\n",
              "      padding: 0 0 0 0;\n",
              "      width: 32px;\n",
              "    }\n",
              "\n",
              "    .colab-df-convert:hover {\n",
              "      background-color: #E2EBFA;\n",
              "      box-shadow: 0px 1px 2px rgba(60, 64, 67, 0.3), 0px 1px 3px 1px rgba(60, 64, 67, 0.15);\n",
              "      fill: #174EA6;\n",
              "    }\n",
              "\n",
              "    [theme=dark] .colab-df-convert {\n",
              "      background-color: #3B4455;\n",
              "      fill: #D2E3FC;\n",
              "    }\n",
              "\n",
              "    [theme=dark] .colab-df-convert:hover {\n",
              "      background-color: #434B5C;\n",
              "      box-shadow: 0px 1px 3px 1px rgba(0, 0, 0, 0.15);\n",
              "      filter: drop-shadow(0px 1px 2px rgba(0, 0, 0, 0.3));\n",
              "      fill: #FFFFFF;\n",
              "    }\n",
              "  </style>\n",
              "\n",
              "      <script>\n",
              "        const buttonEl =\n",
              "          document.querySelector('#df-e53b7b78-220f-43c7-b9bf-aac7405c46db button.colab-df-convert');\n",
              "        buttonEl.style.display =\n",
              "          google.colab.kernel.accessAllowed ? 'block' : 'none';\n",
              "\n",
              "        async function convertToInteractive(key) {\n",
              "          const element = document.querySelector('#df-e53b7b78-220f-43c7-b9bf-aac7405c46db');\n",
              "          const dataTable =\n",
              "            await google.colab.kernel.invokeFunction('convertToInteractive',\n",
              "                                                     [key], {});\n",
              "          if (!dataTable) return;\n",
              "\n",
              "          const docLinkHtml = 'Like what you see? Visit the ' +\n",
              "            '<a target=\"_blank\" href=https://colab.research.google.com/notebooks/data_table.ipynb>data table notebook</a>'\n",
              "            + ' to learn more about interactive tables.';\n",
              "          element.innerHTML = '';\n",
              "          dataTable['output_type'] = 'display_data';\n",
              "          await google.colab.output.renderOutput(dataTable, element);\n",
              "          const docLink = document.createElement('div');\n",
              "          docLink.innerHTML = docLinkHtml;\n",
              "          element.appendChild(docLink);\n",
              "        }\n",
              "      </script>\n",
              "    </div>\n",
              "  </div>\n",
              "  "
            ]
          },
          "metadata": {},
          "execution_count": 34
        }
      ],
      "source": [
        "df.describe().toPandas()"
      ]
    },
    {
      "cell_type": "code",
      "execution_count": 35,
      "metadata": {
        "id": "vUqsgKficsWv"
      },
      "outputs": [],
      "source": [
        "#from pyspark.ml.feature import VectorAssembler\n",
        "#df.columns\n",
        "#assemble=VectorAssembler(inputCols=[\n",
        " #   'CustAccountBalance',\n",
        " #   'TransactionAmount'], outputCol='features')\n",
        "#assembled_data=assemble.transform(df)\n",
        "#assembled_data.show(2)"
      ]
    },
    {
      "cell_type": "code",
      "execution_count": 36,
      "metadata": {
        "scrolled": true,
        "id": "8G-Fn8-ScsWv"
      },
      "outputs": [],
      "source": [
        "#from pyspark.ml.feature import StandardScaler\n",
        "#scale=StandardScaler(inputCol='features',outputCol='standardized')\n",
        "#data_scale=scale.fit(assembled_data)\n",
        "#data_scale_output=data_scale.transform(assembled_data)\n",
        "#data_scale_output.show(2)"
      ]
    },
    {
      "cell_type": "code",
      "execution_count": 37,
      "metadata": {
        "id": "QWwdkg45csWw"
      },
      "outputs": [],
      "source": [
        "#from pyspark.ml.feature import Normalizer\n",
        "\n",
        "# Cria uma instância de Normalizer\n",
        "#normalizer = Normalizer(inputCol=\"vector_features\", outputCol=\"normalized_features\", p=2.0)\n",
        "\n",
        "# Aplica a normalização\n",
        "#normalized_df = normalizer.transform(df)"
      ]
    },
    {
      "cell_type": "code",
      "execution_count": 38,
      "metadata": {
        "colab": {
          "base_uri": "https://localhost:8080/"
        },
        "id": "JpULlVKGcsWx",
        "outputId": "5298de2e-d952-4829-d528-9522ef545ada"
      },
      "outputs": [
        {
          "output_type": "stream",
          "name": "stdout",
          "text": [
            "+------------------+-----------------+----------+\n",
            "|CustAccountBalance|TransactionAmount|prediction|\n",
            "+------------------+-----------------+----------+\n",
            "|          17819.05|             25.0|         0|\n",
            "|           2270.69|          27999.0|         0|\n",
            "|          17874.44|            459.0|         0|\n",
            "|          866503.2|           2060.0|         0|\n",
            "|           6714.43|           1762.5|         0|\n",
            "|           53609.2|            676.0|         0|\n",
            "|            973.46|            566.0|         0|\n",
            "|          95075.54|            148.0|         0|\n",
            "|          14906.96|            833.0|         0|\n",
            "|           4279.22|           289.11|         0|\n",
            "|          48429.49|            259.0|         0|\n",
            "|          14613.46|            202.0|         0|\n",
            "|          32274.78|          12300.0|         0|\n",
            "|          59950.44|             50.0|         0|\n",
            "|          10100.84|            338.0|         0|\n",
            "|           1283.12|            250.0|         0|\n",
            "|          77495.15|          1423.11|         0|\n",
            "|           2177.85|             54.0|         0|\n",
            "|          32816.17|            315.0|         0|\n",
            "|           10643.5|            945.0|         0|\n",
            "+------------------+-----------------+----------+\n",
            "only showing top 20 rows\n",
            "\n"
          ]
        }
      ],
      "source": [
        "from pyspark.ml.feature import StandardScaler\n",
        "from pyspark.ml.clustering import KMeans\n",
        "from pyspark.ml.feature import VectorAssembler\n",
        "\n",
        "# Cria um vetor assembler para combinar as colunas \"CustAccountBalance\" e \"TransactionAmount\" em um único vetor\n",
        "vectorAssembler = VectorAssembler(inputCols=[\"CustAccountBalance\", \"TransactionAmount\"], outputCol=\"unscaled_features\")\n",
        "\n",
        "# Utiliza o vetor assembler para transformar o DataFrame\n",
        "df_kmeans = vectorAssembler.transform(df)\n",
        "\n",
        "# Cria um objeto de escalonamento para standardizar os dados\n",
        "scaler = StandardScaler(inputCol=\"unscaled_features\", outputCol=\"features\", withStd=True, withMean=True)\n",
        "\n",
        "# Ajusta o escalonador aos dados e transforma o DataFrame\n",
        "scalerModel = scaler.fit(df_kmeans)\n",
        "df_kmeans = scalerModel.transform(df_kmeans)\n",
        "\n",
        "# Instancia o modelo KMeans com o número de clusters desejado\n",
        "kmeans = KMeans(k=3, seed=1)\n",
        "\n",
        "# Ajusta o modelo aos dados\n",
        "model = kmeans.fit(df_kmeans)\n",
        "\n",
        "# Faz a previsão dos clusters\n",
        "predictions = model.transform(df_kmeans)\n",
        "\n",
        "# Exibe os resultados\n",
        "predictions.select(\"CustAccountBalance\", \"TransactionAmount\",\"prediction\").show()"
      ]
    },
    {
      "cell_type": "code",
      "execution_count": null,
      "metadata": {
        "id": "rFWs_KB-csWx"
      },
      "outputs": [],
      "source": []
    },
    {
      "cell_type": "code",
      "execution_count": null,
      "metadata": {
        "id": "ywdNiIa5csWy"
      },
      "outputs": [],
      "source": []
    },
    {
      "cell_type": "code",
      "execution_count": null,
      "metadata": {
        "id": "QL_XDnUhcsWy"
      },
      "outputs": [],
      "source": []
    },
    {
      "cell_type": "code",
      "execution_count": null,
      "metadata": {
        "id": "UmpxIVd8csWy"
      },
      "outputs": [],
      "source": []
    },
    {
      "cell_type": "code",
      "execution_count": 39,
      "metadata": {
        "id": "BZL7HKskcsWy"
      },
      "outputs": [],
      "source": [
        "from pyspark.ml.feature import VectorAssembler\n",
        "from pyspark.ml.feature import StandardScaler\n",
        "from pyspark.ml.regression import LinearRegression\n",
        "\n",
        "# Criando o vetor de características\n",
        "assembler = VectorAssembler(inputCols=[\"CustAccountBalance\", \"TransactionAmount\"], outputCol=\"features\")\n",
        "df = assembler.transform(df)\n",
        "\n",
        "# Standardizando as colunas\n",
        "scaler = StandardScaler(inputCol=\"features\", outputCol=\"scaled_features\", withStd=True, withMean=True)\n",
        "scalerModel = scaler.fit(df)\n",
        "df = scalerModel.transform(df)\n",
        "\n",
        "# Criando o modelo de regressão linear\n",
        "lr = LinearRegression(featuresCol = \"scaled_features\", labelCol='TransactionAmount')\n",
        "lrModel = lr.fit(df)\n",
        "predictions = lrModel.transform(df)\n"
      ]
    },
    {
      "cell_type": "code",
      "execution_count": 40,
      "metadata": {
        "colab": {
          "base_uri": "https://localhost:8080/"
        },
        "id": "L--2sUtIcsWy",
        "outputId": "6ecc3150-3c0d-413e-8919-db05209ae5b6"
      },
      "outputs": [
        {
          "output_type": "stream",
          "name": "stdout",
          "text": [
            "RMSE: 7.934984892719922e-09\n",
            "R-squared: 1.0\n",
            "MAE: 2.1903826422089956e-09\n",
            "MSE: 6.29639852476934e-17\n"
          ]
        }
      ],
      "source": [
        "summary = lrModel.summary\n",
        "print(\"RMSE:\", summary.rootMeanSquaredError)\n",
        "print(\"R-squared:\", summary.r2)\n",
        "print(\"MAE:\", summary.meanAbsoluteError)\n",
        "print(\"MSE:\", summary.meanSquaredError)\n"
      ]
    },
    {
      "cell_type": "code",
      "execution_count": 41,
      "metadata": {
        "colab": {
          "base_uri": "https://localhost:8080/"
        },
        "id": "_GOuCmf7csWy",
        "outputId": "2e9b2477-bb69-4e55-d9b9-58890df1e2f3"
      },
      "outputs": [
        {
          "output_type": "stream",
          "name": "stdout",
          "text": [
            "+------------------+-----------------+\n",
            "|        prediction|TransactionAmount|\n",
            "+------------------+-----------------+\n",
            "|24.999999998189196|             25.0|\n",
            "|27999.000000032047|          27999.0|\n",
            "|458.99999999871443|            459.0|\n",
            "|2060.0000000001555|           2060.0|\n",
            "|1762.5000000002983|           1762.5|\n",
            "| 675.9999999989561|            676.0|\n",
            "| 565.9999999988537|            566.0|\n",
            "|147.99999999829265|            148.0|\n",
            "| 832.9999999991686|            833.0|\n",
            "|289.10998535007934|           289.11|\n",
            "|258.99999999845454|            259.0|\n",
            "| 201.9999999984052|            202.0|\n",
            "|12300.000000013035|          12300.0|\n",
            "| 49.99999999819488|             50.0|\n",
            "|337.99999999857255|            338.0|\n",
            "|249.99999999847114|            250.0|\n",
            "|1423.1099853514086|          1423.11|\n",
            "| 53.99999999823331|             54.0|\n",
            "|314.99999999853117|            315.0|\n",
            "| 944.9999999993066|            945.0|\n",
            "+------------------+-----------------+\n",
            "only showing top 20 rows\n",
            "\n"
          ]
        }
      ],
      "source": [
        "predictions.select(\"prediction\", \"TransactionAmount\").show()\n"
      ]
    },
    {
      "cell_type": "code",
      "execution_count": null,
      "metadata": {
        "id": "Sqbnxp5UcsWz"
      },
      "outputs": [],
      "source": []
    },
    {
      "cell_type": "code",
      "execution_count": null,
      "metadata": {
        "id": "wYZiSa0IcsWz"
      },
      "outputs": [],
      "source": []
    },
    {
      "cell_type": "code",
      "execution_count": null,
      "metadata": {
        "id": "C7ERtoLgcsWz"
      },
      "outputs": [],
      "source": []
    },
    {
      "cell_type": "code",
      "execution_count": 42,
      "metadata": {
        "colab": {
          "base_uri": "https://localhost:8080/"
        },
        "id": "e5vC1qYTcsWz",
        "outputId": "7e12468a-69b2-4e1e-deef-14cc12e2635f"
      },
      "outputs": [
        {
          "output_type": "stream",
          "name": "stdout",
          "text": [
            "Root Mean Squared Error (RMSE) on test data = 6642.47\n"
          ]
        }
      ],
      "source": [
        "from pyspark.ml.regression import LinearRegression\n",
        "from pyspark.ml.feature import VectorAssembler\n",
        "\n",
        "# Selecione as colunas \"CustAccountBalance\" e \"TransactionAmount\"\n",
        "# como variáveis independentes e dependentes, respectivamente\n",
        "assembler = VectorAssembler(inputCols=[\"CustAccountBalance\"], outputCol=\"features2\")\n",
        "data = assembler.transform(df)\n",
        "\n",
        "# Cria objeto de regressão linear\n",
        "lr = LinearRegression(featuresCol = 'features2', labelCol='TransactionAmount')\n",
        "\n",
        "# Divida os dados em conjunto de treinamento e teste\n",
        "train_data, test_data = data.randomSplit([0.7, 0.3])\n",
        "\n",
        "# Treine o modelo\n",
        "lr_model = lr.fit(train_data)\n",
        "\n",
        "# Faça previsões com o modelo treinado\n",
        "predictions = lr_model.transform(test_data)\n",
        "\n",
        "# Avalie o desempenho do modelo\n",
        "from pyspark.ml.evaluation import RegressionEvaluator\n",
        "\n",
        "evaluator = RegressionEvaluator(labelCol=\"TransactionAmount\", predictionCol=\"prediction\", metricName=\"rmse\")\n",
        "\n",
        "rmse = evaluator.evaluate(predictions)\n",
        "print(\"Root Mean Squared Error (RMSE) on test data = %g\" % rmse)"
      ]
    },
    {
      "cell_type": "code",
      "execution_count": 43,
      "metadata": {
        "colab": {
          "base_uri": "https://localhost:8080/"
        },
        "id": "3rlKHbJNcsWz",
        "outputId": "8e0aadc5-c351-4716-f100-dd1018cd6e3a"
      },
      "outputs": [
        {
          "output_type": "stream",
          "name": "stdout",
          "text": [
            "+------------------+\n",
            "|        prediction|\n",
            "+------------------+\n",
            "|1690.1055799665446|\n",
            "| 1834.931925138023|\n",
            "|1516.4964359557232|\n",
            "|1564.1965851779667|\n",
            "|1518.9904815055108|\n",
            "|1539.2493147689033|\n",
            "|1603.3050135290641|\n",
            "|1522.4786020496233|\n",
            "| 1547.842601623536|\n",
            "| 1786.234302487558|\n",
            "|1521.5164137844233|\n",
            "|1701.7298849312676|\n",
            "|1524.6391022692399|\n",
            "|1519.9456328473375|\n",
            "|1522.2197714037295|\n",
            "|1527.6326602029249|\n",
            "|1516.7921124527813|\n",
            "|1524.8807472367953|\n",
            "|1537.7285631928703|\n",
            "|1516.3357391683794|\n",
            "+------------------+\n",
            "only showing top 20 rows\n",
            "\n"
          ]
        }
      ],
      "source": [
        "predictions.select(\"prediction\").show()"
      ]
    },
    {
      "cell_type": "code",
      "execution_count": null,
      "metadata": {
        "id": "3Llv2z6XcsWz"
      },
      "outputs": [],
      "source": []
    },
    {
      "cell_type": "code",
      "execution_count": null,
      "metadata": {
        "id": "LqIn2A_jcsW0"
      },
      "outputs": [],
      "source": []
    },
    {
      "cell_type": "code",
      "execution_count": null,
      "metadata": {
        "id": "nn4oPkFdcsW0"
      },
      "outputs": [],
      "source": []
    },
    {
      "cell_type": "code",
      "execution_count": null,
      "metadata": {
        "id": "u1fGCUjKcsW0"
      },
      "outputs": [],
      "source": []
    },
    {
      "cell_type": "code",
      "execution_count": null,
      "metadata": {
        "id": "irzZxO06csW0"
      },
      "outputs": [],
      "source": []
    },
    {
      "cell_type": "code",
      "execution_count": null,
      "metadata": {
        "id": "Gm3PnWNRcsW0"
      },
      "outputs": [],
      "source": []
    },
    {
      "cell_type": "code",
      "execution_count": 44,
      "metadata": {
        "id": "fZSZe34NcsW0"
      },
      "outputs": [],
      "source": [
        "from pyspark.ml.feature import StandardScaler\n",
        "from pyspark.ml.feature import VectorAssembler\n",
        "\n",
        "# Cria o objeto VectorAssembler para combinar as colunas em uma única coluna de vetores\n",
        "assembler = VectorAssembler(inputCols=[\"CustAccountBalance\", \"TransactionAmount\"], outputCol=\"features3\")\n",
        "\n",
        "# Ajusta o assembler ao seu dataframe\n",
        "df_vec = assembler.transform(df)\n",
        "\n",
        "# Cria o objeto StandardScaler\n",
        "scaler = StandardScaler(inputCol=\"features3\", outputCol=\"scaledFeatures\", withStd=True, withMean=True)\n",
        "\n",
        "# Ajusta o scaler ao seu dataframe\n",
        "scaled_df = scaler.fit(df_vec).transform(df_vec)\n"
      ]
    },
    {
      "cell_type": "code",
      "execution_count": 45,
      "metadata": {
        "id": "EhJJs3EwcsW0"
      },
      "outputs": [],
      "source": [
        "from pyspark.ml.regression import LinearRegression\n",
        "\n",
        "# Cria o objeto LinearRegression\n",
        "lr = LinearRegression(featuresCol=\"scaledFeatures\", labelCol=\"CustAccountBalance\", maxIter=10, regParam=0.3, elasticNetParam=0.8)\n",
        "\n",
        "# Dividindo o dataframe em conjunto de treinamento e teste\n",
        "train_df, test_df = scaled_df.randomSplit([0.9, 0.1])\n",
        "\n",
        "# Treinando o modelo\n",
        "model = lr.fit(train_df)\n",
        "\n",
        "# Testando o modelo\n",
        "predictions = model.transform(test_df)\n"
      ]
    },
    {
      "cell_type": "code",
      "execution_count": 46,
      "metadata": {
        "colab": {
          "base_uri": "https://localhost:8080/"
        },
        "id": "gDWarbH5csW1",
        "outputId": "403692f3-bb01-4f75-dea7-c95ff13cd11a"
      },
      "outputs": [
        {
          "output_type": "stream",
          "name": "stdout",
          "text": [
            "+------------------+\n",
            "|        prediction|\n",
            "+------------------+\n",
            "| 4279.259825350862|\n",
            "| 41656.86612540817|\n",
            "|15532.635206930092|\n",
            "| 6768.788722741476|\n",
            "|3785.0698160320608|\n",
            "|  9956.52782036917|\n",
            "|  378134.531293772|\n",
            "|21.281128672795603|\n",
            "|12297.647102713876|\n",
            "|2052878.0590804748|\n",
            "|16436.125119120727|\n",
            "|  28444.9001336683|\n",
            "| 65078.34605456185|\n",
            "| 383.5009911892266|\n",
            "| 37702.51597302886|\n",
            "| 65972.04886086757|\n",
            "| 92476.65659682831|\n",
            "| 35604.45031494876|\n",
            "|342979.54383003537|\n",
            "|13384.446519848861|\n",
            "+------------------+\n",
            "only showing top 20 rows\n",
            "\n"
          ]
        }
      ],
      "source": [
        "# Aplicando o modelo aos dados de teste\n",
        "predictions = model.transform(test_df)\n",
        "\n",
        "# Visualizando as previsões\n",
        "predictions.select(\"prediction\").show()\n"
      ]
    },
    {
      "cell_type": "code",
      "execution_count": 47,
      "metadata": {
        "colab": {
          "base_uri": "https://localhost:8080/"
        },
        "id": "0siYrBBvcsW1",
        "outputId": "3b313326-5663-4587-89f1-e4e3920f0e39"
      },
      "outputs": [
        {
          "output_type": "stream",
          "name": "stdout",
          "text": [
            "Root Mean Squared Error (RMSE) on test data = 0.317558\n"
          ]
        }
      ],
      "source": [
        "from pyspark.ml.evaluation import RegressionEvaluator\n",
        "\n",
        "# Cria o objeto RegressionEvaluator\n",
        "evaluator = RegressionEvaluator(labelCol=\"CustAccountBalance\", predictionCol=\"prediction\", metricName=\"rmse\")\n",
        "\n",
        "# Calcular o RMSE\n",
        "rmse = evaluator.evaluate(predictions)\n",
        "print(\"Root Mean Squared Error (RMSE) on test data = %g\" % rmse)\n"
      ]
    },
    {
      "cell_type": "code",
      "execution_count": 48,
      "metadata": {
        "colab": {
          "base_uri": "https://localhost:8080/"
        },
        "id": "VEoG-5RkcsW2",
        "outputId": "0f1411e8-f658-4544-96f9-fdebdbea91cd"
      },
      "outputs": [
        {
          "output_type": "stream",
          "name": "stdout",
          "text": [
            "R-squared value: 0.9999999999998729\n"
          ]
        }
      ],
      "source": [
        "# Acessando o resumo do modelo\n",
        "summary = model.summary\n",
        "\n",
        "# Obtendo o R²\n",
        "r2 = summary.r2\n",
        "\n",
        "# Exibindo o R²\n",
        "print(\"R-squared value:\", r2)\n"
      ]
    },
    {
      "cell_type": "code",
      "execution_count": 49,
      "metadata": {
        "colab": {
          "base_uri": "https://localhost:8080/"
        },
        "id": "xMYQK37icsW2",
        "outputId": "df8d8a35-c20f-4dbc-b23f-585dcfbed4bd"
      },
      "outputs": [
        {
          "output_type": "stream",
          "name": "stdout",
          "text": [
            "Mean Absolute Error (MAE) on test data = 0.0564497\n"
          ]
        }
      ],
      "source": [
        "from pyspark.ml.evaluation import RegressionEvaluator\n",
        "\n",
        "# Cria o objeto RegressionEvaluator\n",
        "evaluator = RegressionEvaluator(labelCol=\"CustAccountBalance\", predictionCol=\"prediction\", metricName=\"mae\")\n",
        "\n",
        "# Calcular o MAE\n",
        "mae = evaluator.evaluate(predictions)\n",
        "print(\"Mean Absolute Error (MAE) on test data = %g\" % mae)\n"
      ]
    },
    {
      "cell_type": "code",
      "execution_count": 50,
      "metadata": {
        "colab": {
          "base_uri": "https://localhost:8080/"
        },
        "id": "kCAEdUQ5csW2",
        "outputId": "a703a2f8-5175-4aa5-cedf-f9d2b40edc3c"
      },
      "outputs": [
        {
          "output_type": "stream",
          "name": "stdout",
          "text": [
            "Mean Squared Error (MSE) on test data = 0.100843\n"
          ]
        }
      ],
      "source": [
        "# Cria o objeto RegressionEvaluator\n",
        "evaluator = RegressionEvaluator(labelCol=\"CustAccountBalance\", predictionCol=\"prediction\", metricName=\"mse\")\n",
        "\n",
        "# Calcular o MSE\n",
        "mse = evaluator.evaluate(predictions)\n",
        "print(\"Mean Squared Error (MSE) on test data = %g\" % mse)\n"
      ]
    },
    {
      "cell_type": "code",
      "execution_count": 51,
      "metadata": {
        "colab": {
          "base_uri": "https://localhost:8080/",
          "height": 295
        },
        "id": "VywxKdSYcsW3",
        "outputId": "2d0a6315-3cdc-4f3a-a475-9e2dfd794620"
      },
      "outputs": [
        {
          "output_type": "display_data",
          "data": {
            "text/plain": [
              "<Figure size 432x288 with 1 Axes>"
            ],
            "image/png": "[encoded data removed]"
          },
          "metadata": {
            "needs_background": "light"
          }
        }
      ],
      "source": [
        "import matplotlib.pyplot as plt\n",
        "\n",
        "# Extrair as colunas de previsão e rótulo do dataframe de previsões\n",
        "predictions_col = predictions.select(\"prediction\").toPandas()\n",
        "label_col = predictions.select(\"CustAccountBalance\").toPandas()\n",
        "\n",
        "# Plotar as previsões em relação aos valores reais\n",
        "plt.scatter(label_col, predictions_col)\n",
        "plt.xlabel(\"Valores Reais\")\n",
        "plt.ylabel(\"Previsões\")\n",
        "plt.title(\"Previsões de Regressão Linear\")\n",
        "plt.show()"
      ]
    },
    {
      "cell_type": "code",
      "execution_count": null,
      "metadata": {
        "id": "r1PKRsvUcsW3"
      },
      "outputs": [],
      "source": []
    }
  ],
  "metadata": {
    "kernelspec": {
      "display_name": "Python 3",
      "language": "python",
      "name": "python3"
    },
    "language_info": {
      "codemirror_mode": {
        "name": "ipython",
        "version": 3
      },
      "file_extension": ".py",
      "mimetype": "text/x-python",
      "name": "python",
      "nbconvert_exporter": "python",
      "pygments_lexer": "ipython3",
      "version": "3.8.5"
    },
    "colab": {
      "provenance": [],
      "include_colab_link": true
    }
  },
  "nbformat": 4,
  "nbformat_minor": 0
}