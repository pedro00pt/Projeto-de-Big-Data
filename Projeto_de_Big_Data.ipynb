{
  "cells": [
    {
      "cell_type": "markdown",
      "metadata": {
        "id": "view-in-github",
        "colab_type": "text"
      },
      "source": [
        "<a href=\"https://colab.research.google.com/github/pedro00pt/Projeto-de-Big-Data/blob/main/Projeto_de_Big_Data.ipynb\" target=\"_parent\"><img src=\"https://colab.research.google.com/assets/colab-badge.svg\" alt=\"Open In Colab\"/></a>"
      ]
    },
    {
      "cell_type": "markdown",
      "source": [
        "**Projeto de Big Data**\n",
        "\n",
        "**Realizado por:**\n",
        "**Pedro Peixoto nº202000221** **e**\n",
        "**João Yanga nº202000167**"
      ],
      "metadata": {
        "id": "cPVEL21nZjf5"
      }
    },
    {
      "cell_type": "markdown",
      "source": [
        "O código apresentado de seguida serve para instalar o pyspark."
      ],
      "metadata": {
        "id": "TO1InYyOZrne"
      }
    },
    {
      "cell_type": "code",
      "execution_count": 144,
      "metadata": {
        "colab": {
          "base_uri": "https://localhost:8080/"
        },
        "id": "GBq8jZnqcsWX",
        "outputId": "83821c71-e6fd-461b-97af-f9a486a97fb4"
      },
      "outputs": [
        {
          "output_type": "stream",
          "name": "stdout",
          "text": [
            "Looking in indexes: https://pypi.org/simple, https://us-python.pkg.dev/colab-wheels/public/simple/\n",
            "Requirement already satisfied: pyspark in /usr/local/lib/python3.8/dist-packages (3.3.1)\n",
            "Requirement already satisfied: py4j==0.10.9.5 in /usr/local/lib/python3.8/dist-packages (from pyspark) (0.10.9.5)\n",
            "Looking in indexes: https://pypi.org/simple, https://us-python.pkg.dev/colab-wheels/public/simple/\n",
            "Requirement already satisfied: findspark in /usr/local/lib/python3.8/dist-packages (2.0.1)\n"
          ]
        }
      ],
      "source": [
        "!pip install pyspark\n",
        "!pip install findspark"
      ]
    },
    {
      "cell_type": "markdown",
      "source": [
        "O código apresentado de seguida serve para importar as bibliotecas necessárias para o nosso programa."
      ],
      "metadata": {
        "id": "p4ZCnSQ3Z5xQ"
      }
    },
    {
      "cell_type": "code",
      "execution_count": 145,
      "metadata": {
        "id": "R-tH7vGKcsWa"
      },
      "outputs": [],
      "source": [
        "from pyspark.sql.functions import col, udf, count, asc, desc\n",
        "from pyspark.sql.types import DoubleType, IntegerType, DateType, FloatType\n",
        "from pyspark.sql.functions import *\n",
        "from pyspark.sql.types import *\n",
        "from pyspark.sql.functions import isnan, when, count\n",
        "from pyspark.ml.feature import VectorAssembler\n",
        "from pyspark.ml.feature import StandardScaler\n",
        "from pyspark.ml.clustering import KMeans\n",
        "from pyspark.ml.evaluation import ClusteringEvaluator"
      ]
    },
    {
      "cell_type": "markdown",
      "source": [
        "O código que aparece de seguida serve para inicializar uma SparkSession.\n",
        "Atribuiu-se o nome à nossa aplicação: Projeto de Big Data. "
      ],
      "metadata": {
        "id": "pRcZW4QYiY35"
      }
    },
    {
      "cell_type": "code",
      "execution_count": 146,
      "metadata": {
        "id": "r9lX9OHNcsWc",
        "colab": {
          "base_uri": "https://localhost:8080/",
          "height": 219
        },
        "outputId": "4e1662a0-0820-4ee8-f158-9432d6905913"
      },
      "outputs": [
        {
          "output_type": "execute_result",
          "data": {
            "text/plain": [
              "<pyspark.sql.session.SparkSession at 0x7f6a7af08ac0>"
            ],
            "text/html": [
              "\n",
              "            <div>\n",
              "                <p><b>SparkSession - in-memory</b></p>\n",
              "                \n",
              "        <div>\n",
              "            <p><b>SparkContext</b></p>\n",
              "\n",
              "            <p><a href=\"http://d77226fd0cdb:4040\">Spark UI</a></p>\n",
              "\n",
              "            <dl>\n",
              "              <dt>Version</dt>\n",
              "                <dd><code>v3.3.1</code></dd>\n",
              "              <dt>Master</dt>\n",
              "                <dd><code>local[*]</code></dd>\n",
              "              <dt>AppName</dt>\n",
              "                <dd><code>Projeto de Big Data</code></dd>\n",
              "            </dl>\n",
              "        </div>\n",
              "        \n",
              "            </div>\n",
              "        "
            ]
          },
          "metadata": {},
          "execution_count": 146
        }
      ],
      "source": [
        "from pyspark.sql import SparkSession\n",
        "import findspark\n",
        "\n",
        "findspark.init()\n",
        "\n",
        "spark = SparkSession.builder.appName(\"Projeto de Big Data\")\\\n",
        "                    .config(\"spark.memory.offHeap.enabled\",\"true\")\\\n",
        "                    .config(\"spark.memory.offHeap.size\",\"10g\")\\\n",
        "                    .getOrCreate()\n",
        "\n",
        "\n",
        "\n",
        "\n",
        "spark"
      ]
    },
    {
      "cell_type": "markdown",
      "source": [
        "De seguida, foi lido o ficheiro csv que continha os dados do dataset escolhido."
      ],
      "metadata": {
        "id": "0H5TINP4kzUq"
      }
    },
    {
      "cell_type": "code",
      "execution_count": 147,
      "metadata": {
        "colab": {
          "base_uri": "https://localhost:8080/"
        },
        "id": "51MTGEQKcsWd",
        "outputId": "b0dd6a7f-c6c0-42ca-87cb-65440e92f759"
      },
      "outputs": [
        {
          "output_type": "stream",
          "name": "stdout",
          "text": [
            "  % Total    % Received % Xferd  Average Speed   Time    Time     Time  Current\n",
            "                                 Dload  Upload   Total   Spent    Left  Speed\n",
            "100 66.8M  100 66.8M    0     0   167M      0 --:--:-- --:--:-- --:--:--  167M\n"
          ]
        }
      ],
      "source": [
        "!curl https://raw.githubusercontent.com/pedro00pt/Projeto-de-Big-Data/main/bank_transactions-colunas_alinhadas.csv >> bank_transactions-colunas_alinhadas.csv\n",
        "df = spark.read.csv('bank_transactions-colunas_alinhadas.csv',header=True,sep=\";\")"
      ]
    },
    {
      "cell_type": "markdown",
      "source": [
        "Retorna as 10 primeiras linhas do dataframe:"
      ],
      "metadata": {
        "id": "Kk1SIvCQlgj-"
      }
    },
    {
      "cell_type": "code",
      "execution_count": 148,
      "metadata": {
        "colab": {
          "base_uri": "https://localhost:8080/"
        },
        "id": "ieymG8FscsWe",
        "outputId": "7251d66e-1ecb-475a-c7af-964f52de0f77"
      },
      "outputs": [
        {
          "output_type": "execute_result",
          "data": {
            "text/plain": [
              "[Row(TransactionID='T1', CustomerID='C5841053', CustomerDOB='10/1/94', CustGender='F', CustLocation='JAMSHEDPUR', CustAccountBalance='17819.05', TransactionDate='02/08/2016', TransactionTime='143207', TransactionAmount (INR)='25'),\n",
              " Row(TransactionID='T2', CustomerID='C2142763', CustomerDOB='4/4/57', CustGender='M', CustLocation='JHAJJAR', CustAccountBalance='2270.69', TransactionDate='02/08/2016', TransactionTime='141858', TransactionAmount (INR)='27999'),\n",
              " Row(TransactionID='T3', CustomerID='C4417068', CustomerDOB='26/11/96', CustGender='F', CustLocation='MUMBAI', CustAccountBalance='17874.44', TransactionDate='02/08/2016', TransactionTime='142712', TransactionAmount (INR)='459'),\n",
              " Row(TransactionID='T4', CustomerID='C5342380', CustomerDOB='14/9/73', CustGender='F', CustLocation='MUMBAI', CustAccountBalance='866503.21', TransactionDate='02/08/2016', TransactionTime='142714', TransactionAmount (INR)='2060'),\n",
              " Row(TransactionID='T5', CustomerID='C9031234', CustomerDOB='24/3/88', CustGender='F', CustLocation='NAVI MUMBAI', CustAccountBalance='6714.43', TransactionDate='02/08/2016', TransactionTime='181156', TransactionAmount (INR)='1762.5'),\n",
              " Row(TransactionID='T6', CustomerID='C1536588', CustomerDOB='8/10/72', CustGender='F', CustLocation='ITANAGAR', CustAccountBalance='53609.2', TransactionDate='02/08/2016', TransactionTime='173940', TransactionAmount (INR)='676'),\n",
              " Row(TransactionID='T7', CustomerID='C7126560', CustomerDOB='26/1/92', CustGender='F', CustLocation='MUMBAI', CustAccountBalance='973.46', TransactionDate='02/08/2016', TransactionTime='173806', TransactionAmount (INR)='566'),\n",
              " Row(TransactionID='T8', CustomerID='C1220223', CustomerDOB='27/1/82', CustGender='M', CustLocation='MUMBAI', CustAccountBalance='95075.54', TransactionDate='02/08/2016', TransactionTime='170537', TransactionAmount (INR)='148'),\n",
              " Row(TransactionID='T9', CustomerID='C8536061', CustomerDOB='19/4/88', CustGender='F', CustLocation='GURGAON', CustAccountBalance='14906.96', TransactionDate='02/08/2016', TransactionTime='192825', TransactionAmount (INR)='833'),\n",
              " Row(TransactionID='T10', CustomerID='C6638934', CustomerDOB='22/6/84', CustGender='M', CustLocation='MUMBAI', CustAccountBalance='4279.22', TransactionDate='02/08/2016', TransactionTime='192446', TransactionAmount (INR)='289.11')]"
            ]
          },
          "metadata": {},
          "execution_count": 148
        }
      ],
      "source": [
        "df.head(10)"
      ]
    },
    {
      "cell_type": "markdown",
      "source": [
        "Mostra as 5 primeiras linhas do dataframe no formato de uma tabela com linhas e colunas:"
      ],
      "metadata": {
        "id": "fCIdNYKymN8h"
      }
    },
    {
      "cell_type": "code",
      "execution_count": 149,
      "metadata": {
        "colab": {
          "base_uri": "https://localhost:8080/"
        },
        "id": "kteZhI3ucsWf",
        "outputId": "98dce41e-7802-46e7-c42b-3d9121a46571"
      },
      "outputs": [
        {
          "output_type": "stream",
          "name": "stdout",
          "text": [
            "+-------------+----------+-----------+----------+------------+------------------+---------------+---------------+-----------------------+\n",
            "|TransactionID|CustomerID|CustomerDOB|CustGender|CustLocation|CustAccountBalance|TransactionDate|TransactionTime|TransactionAmount (INR)|\n",
            "+-------------+----------+-----------+----------+------------+------------------+---------------+---------------+-----------------------+\n",
            "|T1           |C5841053  |10/1/94    |F         |JAMSHEDPUR  |17819.05          |02/08/2016     |143207         |25                     |\n",
            "|T2           |C2142763  |4/4/57     |M         |JHAJJAR     |2270.69           |02/08/2016     |141858         |27999                  |\n",
            "|T3           |C4417068  |26/11/96   |F         |MUMBAI      |17874.44          |02/08/2016     |142712         |459                    |\n",
            "|T4           |C5342380  |14/9/73    |F         |MUMBAI      |866503.21         |02/08/2016     |142714         |2060                   |\n",
            "|T5           |C9031234  |24/3/88    |F         |NAVI MUMBAI |6714.43           |02/08/2016     |181156         |1762.5                 |\n",
            "+-------------+----------+-----------+----------+------------+------------------+---------------+---------------+-----------------------+\n",
            "only showing top 5 rows\n",
            "\n"
          ]
        }
      ],
      "source": [
        "df.show(5,0)"
      ]
    },
    {
      "cell_type": "markdown",
      "source": [
        "# **Exploração e Tratamento de dados**"
      ],
      "metadata": {
        "id": "o0dGyEwWlo4P"
      }
    },
    {
      "cell_type": "markdown",
      "source": [
        "Informações gerais do dataframe:\n",
        "*   Número de linhas\n",
        "*   Número de TransactionID's distintos\n",
        "*   Número de CustomerID's distintos\n",
        "\n",
        "Verificou-se que várias colunas eram do tipo string quando não o deveriam ser, visto que tratam-se de dados bancários como o saldo da conta e o montante de transação. Fizeram-se então as devidas alterações dos tipos de dados.\n",
        "Viu-se de seguida se as colunas do dataframe contêm valores nulos e na's."
      ],
      "metadata": {
        "id": "-1Rp68eRnVCm"
      }
    },
    {
      "cell_type": "code",
      "source": [
        "df.count()"
      ],
      "metadata": {
        "colab": {
          "base_uri": "https://localhost:8080/"
        },
        "id": "XwdJSo2-rnHr",
        "outputId": "5c33282a-d6bc-4a34-d080-0bc2e9bf73f5"
      },
      "execution_count": 150,
      "outputs": [
        {
          "output_type": "execute_result",
          "data": {
            "text/plain": [
              "5242839"
            ]
          },
          "metadata": {},
          "execution_count": 150
        }
      ]
    },
    {
      "cell_type": "code",
      "source": [
        "df.select('TransactionID').distinct().count()"
      ],
      "metadata": {
        "colab": {
          "base_uri": "https://localhost:8080/"
        },
        "id": "TD-EebE1rxVg",
        "outputId": "0c442751-10c4-4f33-be65-7616d7b16464"
      },
      "execution_count": 151,
      "outputs": [
        {
          "output_type": "execute_result",
          "data": {
            "text/plain": [
              "1048568"
            ]
          },
          "metadata": {},
          "execution_count": 151
        }
      ]
    },
    {
      "cell_type": "code",
      "source": [
        "df.select('CustomerID').distinct().count()"
      ],
      "metadata": {
        "colab": {
          "base_uri": "https://localhost:8080/"
        },
        "id": "l0dbhfFMrxen",
        "outputId": "10f16f81-03ec-4234-c5eb-4a6b7905cb94"
      },
      "execution_count": 152,
      "outputs": [
        {
          "output_type": "execute_result",
          "data": {
            "text/plain": [
              "884266"
            ]
          },
          "metadata": {},
          "execution_count": 152
        }
      ]
    },
    {
      "cell_type": "code",
      "execution_count": 153,
      "metadata": {
        "id": "m8A5UmoycsWg"
      },
      "outputs": [],
      "source": [
        "df = df \\\n",
        "    .withColumn('CustomerDOB', col('CustomerDOB').cast(DateType())) \\\n",
        "    .withColumn('CustAccountBalance', col('CustAccountBalance').cast(FloatType())) \\\n",
        "    .withColumn('TransactionDate', col('TransactionDate').cast(DateType())) \\\n",
        "    .withColumn('TransactionTime', col('TransactionTime').cast(IntegerType())) \\\n",
        "    .withColumn('TransactionAmount (INR)', col('TransactionAmount (INR)').cast(FloatType()))"
      ]
    },
    {
      "cell_type": "code",
      "execution_count": 155,
      "metadata": {
        "colab": {
          "base_uri": "https://localhost:8080/"
        },
        "id": "BEyCPqIucsWi",
        "outputId": "95e12e9f-81ab-43d6-e734-a27bd97340da"
      },
      "outputs": [
        {
          "output_type": "stream",
          "name": "stdout",
          "text": [
            "+-------------+----------+----------+------------+------------------+---------------+-----------------------+\n",
            "|TransactionID|CustomerID|CustGender|CustLocation|CustAccountBalance|TransactionTime|TransactionAmount (INR)|\n",
            "+-------------+----------+----------+------------+------------------+---------------+-----------------------+\n",
            "|            0|         0|      5500|         755|             11849|              4|                      4|\n",
            "+-------------+----------+----------+------------+------------------+---------------+-----------------------+\n",
            "\n"
          ]
        }
      ],
      "source": [
        "df_Columns=[\"TransactionID\",\"CustomerID\",\"CustGender\",\"CustLocation\",\"CustAccountBalance\",\"TransactionTime\",\"TransactionAmount (INR)\"]\n",
        "df.select([count(when(col(c).isNull(), c)).alias(c) for c in df_Columns]).show()"
      ]
    },
    {
      "cell_type": "code",
      "execution_count": 156,
      "metadata": {
        "colab": {
          "base_uri": "https://localhost:8080/"
        },
        "id": "5_IJAM8wcsWj",
        "outputId": "fa5cdc9b-c04e-4c4d-e8f7-14b7822c6a51"
      },
      "outputs": [
        {
          "output_type": "stream",
          "name": "stdout",
          "text": [
            "+-------------+----------+----------+------------+------------------+---------------+-----------------------+\n",
            "|TransactionID|CustomerID|CustGender|CustLocation|CustAccountBalance|TransactionTime|TransactionAmount (INR)|\n",
            "+-------------+----------+----------+------------+------------------+---------------+-----------------------+\n",
            "|            0|         0|         0|           0|                 0|              0|                      0|\n",
            "+-------------+----------+----------+------------+------------------+---------------+-----------------------+\n",
            "\n"
          ]
        }
      ],
      "source": [
        "df_Columns=[\"TransactionID\",\"CustomerID\",\"CustGender\",\"CustLocation\",\"CustAccountBalance\",\"TransactionTime\",\"TransactionAmount (INR)\"]\n",
        "df.select([count(when(isnan(c), c)).alias(c) for c in df_Columns]).show()"
      ]
    },
    {
      "cell_type": "markdown",
      "source": [
        "Foram retirados os valores nulos das colunas CustAccountBalance e TransactionAmount (INR)."
      ],
      "metadata": {
        "id": "hD20Ne7-s06h"
      }
    },
    {
      "cell_type": "code",
      "execution_count": 157,
      "metadata": {
        "id": "J_ZFPk6WcsWk"
      },
      "outputs": [],
      "source": [
        "from pyspark.sql.functions import col\n",
        "\n",
        "df = df.filter(col(\"CustAccountBalance\").isNotNull())"
      ]
    },
    {
      "cell_type": "code",
      "execution_count": 158,
      "metadata": {
        "id": "igdPiAOicsWk"
      },
      "outputs": [],
      "source": [
        "from pyspark.sql.functions import col\n",
        "\n",
        "df = df.filter(col(\"TransactionAmount (INR)\").isNotNull())"
      ]
    },
    {
      "cell_type": "code",
      "execution_count": 159,
      "metadata": {
        "id": "SSVS_QmYcsWl",
        "colab": {
          "base_uri": "https://localhost:8080/"
        },
        "outputId": "ce974c36-6ac7-4476-a4f4-b9cf1a3ebe1a"
      },
      "outputs": [
        {
          "output_type": "stream",
          "name": "stdout",
          "text": [
            "+-------+-------------+----------+----------+--------------------+------------------+------------------+-----------------------+\n",
            "|summary|TransactionID|CustomerID|CustGender|        CustLocation|CustAccountBalance|   TransactionTime|TransactionAmount (INR)|\n",
            "+-------+-------------+----------+----------+--------------------+------------------+------------------+-----------------------+\n",
            "|  count|      5230990|   5230990|   5225490|             5230235|           5230990|           5230990|                5230990|\n",
            "|   mean|         null|      null|      null|            400012.0|115403.54003532637|157093.97752911015|     1573.2668660781376|\n",
            "| stddev|         null|      null|      null|                 0.0| 846485.0576792513|51262.197489018334|      6569.712619439309|\n",
            "|    min|           T1|  C1010011|         F|(154) BHASKOLA FA...|               0.0|                 0|                    0.0|\n",
            "|    max|      T999999|  C9099956|         T|           ZUNHEBOTO|      1.15035496E8|            235959|              1560035.0|\n",
            "+-------+-------------+----------+----------+--------------------+------------------+------------------+-----------------------+\n",
            "\n"
          ]
        }
      ],
      "source": [
        "df.describe().show()"
      ]
    },
    {
      "cell_type": "code",
      "execution_count": 160,
      "metadata": {
        "colab": {
          "base_uri": "https://localhost:8080/"
        },
        "id": "-PY4zYvZcsWm",
        "outputId": "164ea5d1-5495-4d27-e37d-01f1f9147aa8"
      },
      "outputs": [
        {
          "output_type": "stream",
          "name": "stdout",
          "text": [
            "root\n",
            " |-- TransactionID: string (nullable = true)\n",
            " |-- CustomerID: string (nullable = true)\n",
            " |-- CustomerDOB: date (nullable = true)\n",
            " |-- CustGender: string (nullable = true)\n",
            " |-- CustLocation: string (nullable = true)\n",
            " |-- CustAccountBalance: float (nullable = true)\n",
            " |-- TransactionDate: date (nullable = true)\n",
            " |-- TransactionTime: integer (nullable = true)\n",
            " |-- TransactionAmount (INR): float (nullable = true)\n",
            "\n"
          ]
        }
      ],
      "source": [
        "df.printSchema()"
      ]
    },
    {
      "cell_type": "code",
      "execution_count": 161,
      "metadata": {
        "colab": {
          "base_uri": "https://localhost:8080/"
        },
        "id": "e_R3wE8acsWm",
        "outputId": "ddeb389b-1789-4cfe-a000-3a3867739a57"
      },
      "outputs": [
        {
          "output_type": "stream",
          "name": "stdout",
          "text": [
            "float\n"
          ]
        }
      ],
      "source": [
        "print(dict(df.dtypes)['CustAccountBalance'] )"
      ]
    },
    {
      "cell_type": "code",
      "execution_count": 162,
      "metadata": {
        "colab": {
          "base_uri": "https://localhost:8080/"
        },
        "id": "RwH0j5WccsWn",
        "outputId": "6deeb6c5-d54a-4d75-81db-c57a88c1ecaf"
      },
      "outputs": [
        {
          "output_type": "stream",
          "name": "stdout",
          "text": [
            "string\n"
          ]
        }
      ],
      "source": [
        "print(dict(df.dtypes)['TransactionID'] )"
      ]
    },
    {
      "cell_type": "code",
      "execution_count": 163,
      "metadata": {
        "id": "-cMxgxEScsWo"
      },
      "outputs": [],
      "source": [
        "df_id_CustomerID = df.select('CustomerID')"
      ]
    },
    {
      "cell_type": "code",
      "execution_count": 164,
      "metadata": {
        "colab": {
          "base_uri": "https://localhost:8080/"
        },
        "id": "7cx6Q8lBcsWp",
        "outputId": "77c6e03c-372f-4771-8fdb-7da8dd69b389"
      },
      "outputs": [
        {
          "output_type": "stream",
          "name": "stdout",
          "text": [
            "+----------+\n",
            "|CustomerID|\n",
            "+----------+\n",
            "|  C5841053|\n",
            "|  C2142763|\n",
            "|  C4417068|\n",
            "+----------+\n",
            "only showing top 3 rows\n",
            "\n"
          ]
        }
      ],
      "source": [
        "df_id_CustomerID.show(3)"
      ]
    },
    {
      "cell_type": "code",
      "execution_count": 165,
      "metadata": {
        "colab": {
          "base_uri": "https://localhost:8080/"
        },
        "id": "bctWLCklcsWp",
        "outputId": "96cd07e5-81e9-4d8f-8dc3-167aaaa4574a"
      },
      "outputs": [
        {
          "output_type": "execute_result",
          "data": {
            "text/plain": [
              "['TransactionID',\n",
              " 'CustomerID',\n",
              " 'CustomerDOB',\n",
              " 'CustGender',\n",
              " 'CustLocation',\n",
              " 'CustAccountBalance',\n",
              " 'TransactionDate',\n",
              " 'TransactionTime',\n",
              " 'TransactionAmount (INR)']"
            ]
          },
          "metadata": {},
          "execution_count": 165
        }
      ],
      "source": [
        "df.columns"
      ]
    },
    {
      "cell_type": "code",
      "execution_count": 166,
      "metadata": {
        "id": "48kMUXUTcsWp"
      },
      "outputs": [],
      "source": [
        "df_id_CustGender = df.select('CustGender')"
      ]
    },
    {
      "cell_type": "code",
      "execution_count": 167,
      "metadata": {
        "colab": {
          "base_uri": "https://localhost:8080/"
        },
        "id": "3ivZ_HaPcsWq",
        "outputId": "cd4923be-0984-45a1-c44b-86c2b21430cf"
      },
      "outputs": [
        {
          "output_type": "stream",
          "name": "stdout",
          "text": [
            "+----------+\n",
            "|CustGender|\n",
            "+----------+\n",
            "|         F|\n",
            "|         M|\n",
            "|         F|\n",
            "|         F|\n",
            "|         F|\n",
            "|         F|\n",
            "|         F|\n",
            "|         M|\n",
            "|         F|\n",
            "|         M|\n",
            "+----------+\n",
            "only showing top 10 rows\n",
            "\n"
          ]
        }
      ],
      "source": [
        "df_id_CustGender.show(10)"
      ]
    },
    {
      "cell_type": "code",
      "execution_count": 168,
      "metadata": {
        "colab": {
          "base_uri": "https://localhost:8080/"
        },
        "id": "eztpHWincsWq",
        "outputId": "0b2fdc9b-968f-404e-f9a8-934db4b082a8"
      },
      "outputs": [
        {
          "output_type": "stream",
          "name": "stdout",
          "text": [
            "+-------------+----------+-----------+----------+------------+------------------+---------------+---------------+-----------------------+\n",
            "|TransactionID|CustomerID|CustomerDOB|CustGender|CustLocation|CustAccountBalance|TransactionDate|TransactionTime|TransactionAmount (INR)|\n",
            "+-------------+----------+-----------+----------+------------+------------------+---------------+---------------+-----------------------+\n",
            "|           T1|  C5841053|       null|         F|  JAMSHEDPUR|          17819.05|           null|         143207|                   25.0|\n",
            "|           T3|  C4417068|       null|         F|      MUMBAI|          17874.44|           null|         142712|                  459.0|\n",
            "|           T4|  C5342380|       null|         F|      MUMBAI|          866503.2|           null|         142714|                 2060.0|\n",
            "|           T5|  C9031234|       null|         F| NAVI MUMBAI|           6714.43|           null|         181156|                 1762.5|\n",
            "|           T6|  C1536588|       null|         F|    ITANAGAR|           53609.2|           null|         173940|                  676.0|\n",
            "|           T8|  C1220223|       null|         M|      MUMBAI|          95075.54|           null|         170537|                  148.0|\n",
            "|           T9|  C8536061|       null|         F|     GURGAON|          14906.96|           null|         192825|                  833.0|\n",
            "|          T11|  C5430833|       null|         M|      MOHALI|          48429.49|           null|         204133|                  259.0|\n",
            "|          T12|  C6939838|       null|         M|      GUNTUR|          14613.46|           null|         205108|                  202.0|\n",
            "|          T13|  C6339347|       null|         M|   AHMEDABAD|          32274.78|           null|         203834|                12300.0|\n",
            "+-------------+----------+-----------+----------+------------+------------------+---------------+---------------+-----------------------+\n",
            "only showing top 10 rows\n",
            "\n"
          ]
        }
      ],
      "source": [
        "new_df_CustAccountBalanceBiggerThan5000 = df.filter(df.CustAccountBalance > 5000)\n",
        "new_df_CustAccountBalanceBiggerThan5000.show(10)"
      ]
    },
    {
      "cell_type": "code",
      "execution_count": 169,
      "metadata": {
        "colab": {
          "base_uri": "https://localhost:8080/"
        },
        "id": "UGdFVXiycsWr",
        "outputId": "42d46b27-9c3c-4d9e-cb79-8bb2b967e489"
      },
      "outputs": [
        {
          "output_type": "stream",
          "name": "stdout",
          "text": [
            "+-------------+----------+-----------+----------+------------+------------------+---------------+---------------+-----------------------+\n",
            "|TransactionID|CustomerID|CustomerDOB|CustGender|CustLocation|CustAccountBalance|TransactionDate|TransactionTime|TransactionAmount (INR)|\n",
            "+-------------+----------+-----------+----------+------------+------------------+---------------+---------------+-----------------------+\n",
            "|        T5126|  C1214190|       null|         F|        DURG|            401.44|           null|            400|                  110.0|\n",
            "|       T20397|  C3222875|       null|         M|  VIJAYAWADA|          16511.74|           null|             10|                  330.0|\n",
            "|       T21305|  C6228180|       null|         M|    DINDIGUL|             70.09|           null|            113|                   10.0|\n",
            "|       T35040|  C8916035|       null|         M|   BANGALORE|          19298.99|           null|            357|                1538.81|\n",
            "|       T35041|  C6432239|       null|         M|     HOOGHLY|         100242.39|           null|            333|                11994.0|\n",
            "|       T35042|  C6825027|       null|         M|      MEERUT|          20630.12|           null|            458|                4195.31|\n",
            "|       T35288|  C2519389|       null|         M|    LUDHIANA|         114200.69|           null|            101|                  245.0|\n",
            "|       T35289|  C4639926|       null|         M|     GURGAON|               0.0|           null|            321|                   57.0|\n",
            "|       T35290|  C6034517|       null|         F| NAVI MUMBAI|         125336.73|           null|              4|                   50.0|\n",
            "|       T35300|  C3424455|       null|         M|   NEW DELHI|           53674.1|           null|            222|                 6843.0|\n",
            "+-------------+----------+-----------+----------+------------+------------------+---------------+---------------+-----------------------+\n",
            "only showing top 10 rows\n",
            "\n"
          ]
        }
      ],
      "source": [
        "new_df_TransactionTimeLessThan500 = df.filter(df.TransactionTime < 500)\n",
        "new_df_TransactionTimeLessThan500.show(10)"
      ]
    },
    {
      "cell_type": "code",
      "execution_count": 170,
      "metadata": {
        "colab": {
          "base_uri": "https://localhost:8080/"
        },
        "id": "xyh92HJfcsWr",
        "outputId": "6c2342b4-9a0d-4cdc-a22e-094904c5f2a4"
      },
      "outputs": [
        {
          "output_type": "execute_result",
          "data": {
            "text/plain": [
              "4"
            ]
          },
          "metadata": {},
          "execution_count": 170
        }
      ],
      "source": [
        "df.select('CustGender').distinct().count()"
      ]
    },
    {
      "cell_type": "code",
      "execution_count": 171,
      "metadata": {
        "colab": {
          "base_uri": "https://localhost:8080/"
        },
        "id": "p0bwxH17csWs",
        "outputId": "f936f68e-4823-4281-f6ea-dded028adb4f"
      },
      "outputs": [
        {
          "output_type": "stream",
          "name": "stdout",
          "text": [
            "+----------+-------+\n",
            "|CustGender|  count|\n",
            "+----------+-------+\n",
            "|         F|1406360|\n",
            "|      null|   5500|\n",
            "|         T|      5|\n",
            "|         M|3819125|\n",
            "+----------+-------+\n",
            "\n"
          ]
        }
      ],
      "source": [
        "new_df_PessoasPorSexo = df.groupby('CustGender')\n",
        "new_df_PessoasPorSexo.count().show(10)"
      ]
    },
    {
      "cell_type": "code",
      "execution_count": 173,
      "metadata": {
        "colab": {
          "base_uri": "https://localhost:8080/"
        },
        "id": "PhRpI6FrcsWs",
        "outputId": "1c569fcf-e2d5-4c9c-89eb-1e821dcbb8e0"
      },
      "outputs": [
        {
          "output_type": "stream",
          "name": "stdout",
          "text": [
            "+--------------------+-----+\n",
            "|        CustLocation|count|\n",
            "+--------------------+-----+\n",
            "|             GWALIOR| 4735|\n",
            "|      UTTAR DINAJPUR|  310|\n",
            "|             SANGRUR| 1760|\n",
            "|  ACADEMY SAMASTIPUR|   25|\n",
            "|NO 3 NR LALLAN HO...|  285|\n",
            "|GATE DARIYAPUR AH...|   35|\n",
            "|ELPHINSTONE W MUMBAI|   60|\n",
            "|             SHIMOGA|  570|\n",
            "|          FLOOR PUNE|   10|\n",
            "|           TIRUVALLA|   40|\n",
            "|        SARAN CHAPRA|   15|\n",
            "|             MOHANIA|   10|\n",
            "|              TEEKOY|   50|\n",
            "|CUMBALLA HILL MUMBAI|   10|\n",
            "|            KANUBARI|  120|\n",
            "|          NALAPPURAM|   25|\n",
            "|B/H ATM UNION BAN...|   25|\n",
            "|  TIRUPATI NGR THANE|   10|\n",
            "|            K K DIST|   50|\n",
            "|              SUBBAL|   15|\n",
            "+--------------------+-----+\n",
            "only showing top 20 rows\n",
            "\n"
          ]
        }
      ],
      "source": [
        "new_df_CustLocation = df.groupby('CustLocation')\n",
        "new_df_CustLocation.count().show(20)"
      ]
    },
    {
      "cell_type": "code",
      "execution_count": 174,
      "metadata": {
        "colab": {
          "base_uri": "https://localhost:8080/"
        },
        "id": "OhcSmZrEcsWt",
        "outputId": "02645315-12cc-409b-b331-71ff404923d2"
      },
      "outputs": [
        {
          "output_type": "stream",
          "name": "stdout",
          "text": [
            "+------------+------+\n",
            "|CustLocation| count|\n",
            "+------------+------+\n",
            "|      MUMBAI|101473|\n",
            "|   NEW DELHI| 83371|\n",
            "|   BANGALORE| 80264|\n",
            "|     GURGAON| 72788|\n",
            "|       DELHI| 69870|\n",
            "|       NOIDA| 32493|\n",
            "|     CHENNAI| 29749|\n",
            "|        PUNE| 25632|\n",
            "|   HYDERABAD| 22889|\n",
            "|       THANE| 21336|\n",
            "+------------+------+\n",
            "only showing top 10 rows\n",
            "\n"
          ]
        }
      ],
      "source": [
        "df.groupBy('CustLocation').agg(countDistinct('CustomerID').alias('count')).orderBy(desc('count')).show(10)"
      ]
    },
    {
      "cell_type": "code",
      "execution_count": 175,
      "metadata": {
        "colab": {
          "base_uri": "https://localhost:8080/"
        },
        "id": "dqB5dNuwcsWt",
        "outputId": "6539a3ae-4e0e-4a03-9084-27967e2e3ac2"
      },
      "outputs": [
        {
          "output_type": "stream",
          "name": "stdout",
          "text": [
            "+----------+----------+------------+------------------+\n",
            "|CustomerID|CustGender|CustLocation|CustAccountBalance|\n",
            "+----------+----------+------------+------------------+\n",
            "|  C4316889|         M|    SHILLONG|      1.15035496E8|\n",
            "|  C2916865|         M|    SHILLONG|      1.15035496E8|\n",
            "|  C8116818|         M|    SHILLONG|      1.15035496E8|\n",
            "|  C2216823|         M|    SHILLONG|      1.15035496E8|\n",
            "|  C2916887|         M|    SHILLONG|      1.15035496E8|\n",
            "|  C2916887|         M|    SHILLONG|      1.15035496E8|\n",
            "|  C7716886|         M|    SHILLONG|      1.15035496E8|\n",
            "|  C3316830|         M|    SHILLONG|      1.15035496E8|\n",
            "|  C6416825|         M|    SHILLONG|      1.15035496E8|\n",
            "|  C5916881|         M|    SHILLONG|      1.15035496E8|\n",
            "|  C2916865|         M|    SHILLONG|      1.15035496E8|\n",
            "|  C6416825|         M|    SHILLONG|      1.15035496E8|\n",
            "|  C2216823|         M|    SHILLONG|      1.15035496E8|\n",
            "|  C4316889|         M|    SHILLONG|      1.15035496E8|\n",
            "|  C2216823|         M|    SHILLONG|      1.15035496E8|\n",
            "|  C2916865|         M|    SHILLONG|      1.15035496E8|\n",
            "|  C4316889|         M|    SHILLONG|      1.15035496E8|\n",
            "|  C5116828|         M|    SHILLONG|      1.15035496E8|\n",
            "|  C3316830|         M|    SHILLONG|      1.15035496E8|\n",
            "|  C2916887|         M|    SHILLONG|      1.15035496E8|\n",
            "|  C8116818|         M|    SHILLONG|      1.15035496E8|\n",
            "|  C2916865|         M|    SHILLONG|      1.15035496E8|\n",
            "|  C3316830|         M|    SHILLONG|      1.15035496E8|\n",
            "|  C6416825|         M|    SHILLONG|      1.15035496E8|\n",
            "|  C8116818|         M|    SHILLONG|      1.15035496E8|\n",
            "|  C6416825|         M|    SHILLONG|      1.15035496E8|\n",
            "|  C5916881|         M|    SHILLONG|      1.15035496E8|\n",
            "|  C2216823|         M|    SHILLONG|      1.15035496E8|\n",
            "|  C7716886|         M|    SHILLONG|      1.15035496E8|\n",
            "|  C4316889|         M|    SHILLONG|      1.15035496E8|\n",
            "|  C2916887|         M|    SHILLONG|      1.15035496E8|\n",
            "|  C5116828|         M|    SHILLONG|      1.15035496E8|\n",
            "|  C8116818|         M|    SHILLONG|      1.15035496E8|\n",
            "|  C2916865|         M|    SHILLONG|      1.15035496E8|\n",
            "|  C5916881|         M|    SHILLONG|      1.15035496E8|\n",
            "|  C7716886|         M|    SHILLONG|      1.15035496E8|\n",
            "|  C4316889|         M|    SHILLONG|      1.15035496E8|\n",
            "|  C3316830|         M|    SHILLONG|      1.15035496E8|\n",
            "|  C5116828|         M|    SHILLONG|      1.15035496E8|\n",
            "|  C2916887|         M|    SHILLONG|      1.15035496E8|\n",
            "|  C5116828|         M|    SHILLONG|      1.15035496E8|\n",
            "|  C8116818|         M|    SHILLONG|      1.15035496E8|\n",
            "|  C3316830|         M|    SHILLONG|      1.15035496E8|\n",
            "|  C7716886|         M|    SHILLONG|      1.15035496E8|\n",
            "|  C2216823|         M|    SHILLONG|      1.15035496E8|\n",
            "|  C5916881|         M|    SHILLONG|      1.15035496E8|\n",
            "|  C5916881|         M|    SHILLONG|      1.15035496E8|\n",
            "|  C5116828|         M|    SHILLONG|      1.15035496E8|\n",
            "|  C7716886|         M|    SHILLONG|      1.15035496E8|\n",
            "|  C6416825|         M|    SHILLONG|      1.15035496E8|\n",
            "|  C2014414|         F|     GURGAON|       8.2244632E7|\n",
            "|  C2414426|         F|     GURGAON|       8.2244632E7|\n",
            "|  C2414467|         F|     GURGAON|       8.2244632E7|\n",
            "|  C2014414|         F|     GURGAON|       8.2244632E7|\n",
            "|  C5014451|         F|     GURGAON|       8.2244632E7|\n",
            "|  C2414426|         F|     GURGAON|       8.2244632E7|\n",
            "|  C7914467|         F|     GURGAON|       8.2244632E7|\n",
            "|  C2414426|         F|     GURGAON|       8.2244632E7|\n",
            "|  C2014414|         F|     GURGAON|       8.2244632E7|\n",
            "|  C3314425|         F|     GURGAON|       8.2244632E7|\n",
            "|  C7214475|         F|     GURGAON|       8.2244632E7|\n",
            "|  C5014451|         F|     GURGAON|       8.2244632E7|\n",
            "|  C3314425|         F|     GURGAON|       8.2244632E7|\n",
            "|  C5014451|         F|     GURGAON|       8.2244632E7|\n",
            "|  C7914467|         F|     GURGAON|       8.2244632E7|\n",
            "|  C2514473|         F|     GURGAON|       8.2244632E7|\n",
            "|  C3114478|         F|     GURGAON|       8.2244632E7|\n",
            "|  C1014488|         F|     GURGAON|       8.2244632E7|\n",
            "|  C2514473|         F|     GURGAON|       8.2244632E7|\n",
            "|  C5914453|         F|     GURGAON|       8.2244632E7|\n",
            "|  C2014414|         F|     GURGAON|       8.2244632E7|\n",
            "|  C2014414|         F|     GURGAON|       8.2244632E7|\n",
            "|  C3114478|         F|     GURGAON|       8.2244632E7|\n",
            "|  C1014488|         F|     GURGAON|       8.2244632E7|\n",
            "|  C7214475|         F|     GURGAON|       8.2244632E7|\n",
            "|  C3514467|         F|     GURGAON|       8.2244632E7|\n",
            "|  C1014488|         F|     GURGAON|       8.2244632E7|\n",
            "|  C2014414|         F|     GURGAON|       8.2244632E7|\n",
            "|  C1014488|         F|     GURGAON|       8.2244632E7|\n",
            "|  C3514467|         F|     GURGAON|       8.2244632E7|\n",
            "+----------+----------+------------+------------------+\n",
            "only showing top 80 rows\n",
            "\n"
          ]
        }
      ],
      "source": [
        "df.createOrReplaceTempView(\"Top80AccountBalance\")\n",
        "query = '''SELECT CustomerID, CustGender, CustLocation, CustAccountBalance FROM Top80AccountBalance ORDER BY CustAccountBalance DESC'''\n",
        "spark.sql(query).show(80)"
      ]
    },
    {
      "cell_type": "code",
      "source": [
        "top10 = df.groupBy(\"CustLocation\").agg(avg(\"CustAccountBalance\")) \\\n",
        "          .orderBy(avg(\"CustAccountBalance\"), ascending=False) \\\n",
        "          .limit(10)\n",
        "top10.createOrReplaceTempView(\"temp_view\")\n",
        "top10.show()"
      ],
      "metadata": {
        "colab": {
          "base_uri": "https://localhost:8080/"
        },
        "id": "2yT4lBCoHJNT",
        "outputId": "135e280d-ac5f-4da1-d103-468f29f3f1e9"
      },
      "execution_count": 176,
      "outputs": [
        {
          "output_type": "stream",
          "name": "stdout",
          "text": [
            "+--------------------+-----------------------+\n",
            "|        CustLocation|avg(CustAccountBalance)|\n",
            "+--------------------+-----------------------+\n",
            "|  PO BOX 28483 DUBAI|             2.169666E7|\n",
            "|              RENTON|            2.0773104E7|\n",
            "|   SULTANATE OF OMAN|            1.6599123E7|\n",
            "|MERCEDES SHOWROOM...|              7567497.5|\n",
            "|            SHILLONG|      7240424.006631125|\n",
            "|              AHMADI|              7090440.5|\n",
            "|SOMAJIGUDA HYDERABAD|              6503694.0|\n",
            "|       BORIVALI WEST|              6011185.5|\n",
            "|              SAKAKA|              5441524.5|\n",
            "|(W) NEAR RAMDEV M...|              5208462.5|\n",
            "+--------------------+-----------------------+\n",
            "\n"
          ]
        }
      ]
    },
    {
      "cell_type": "code",
      "execution_count": 177,
      "metadata": {
        "id": "wpBizrJzcsWu"
      },
      "outputs": [],
      "source": [
        "#alteração do nome da coluna: de TransactionAmount (INR) para TransactionAmount \n",
        "\n",
        "df = df.withColumnRenamed('TransactionAmount (INR)', 'TransactionAmount')"
      ]
    },
    {
      "cell_type": "code",
      "execution_count": 178,
      "metadata": {
        "colab": {
          "base_uri": "https://localhost:8080/"
        },
        "id": "98qNVPtJcsWu",
        "outputId": "9d782b5b-5726-4e9e-a1a3-314ba2b82b6f"
      },
      "outputs": [
        {
          "output_type": "stream",
          "name": "stdout",
          "text": [
            "root\n",
            " |-- TransactionID: string (nullable = true)\n",
            " |-- CustomerID: string (nullable = true)\n",
            " |-- CustomerDOB: date (nullable = true)\n",
            " |-- CustGender: string (nullable = true)\n",
            " |-- CustLocation: string (nullable = true)\n",
            " |-- CustAccountBalance: float (nullable = true)\n",
            " |-- TransactionDate: date (nullable = true)\n",
            " |-- TransactionTime: integer (nullable = true)\n",
            " |-- TransactionAmount: float (nullable = true)\n",
            "\n"
          ]
        }
      ],
      "source": [
        "df.printSchema()"
      ]
    },
    {
      "cell_type": "code",
      "source": [
        "new_df_TransactionAmountLessThan1000 = df.filter(df.TransactionAmount < 1000)\n",
        "new_df_TransactionAmountLessThan1000.show(10)"
      ],
      "metadata": {
        "colab": {
          "base_uri": "https://localhost:8080/"
        },
        "id": "fz_m2EBwphJX",
        "outputId": "05b70fe6-a385-4834-9e4e-a6012ed75e9c"
      },
      "execution_count": 179,
      "outputs": [
        {
          "output_type": "stream",
          "name": "stdout",
          "text": [
            "+-------------+----------+-----------+----------+------------+------------------+---------------+---------------+-----------------+\n",
            "|TransactionID|CustomerID|CustomerDOB|CustGender|CustLocation|CustAccountBalance|TransactionDate|TransactionTime|TransactionAmount|\n",
            "+-------------+----------+-----------+----------+------------+------------------+---------------+---------------+-----------------+\n",
            "|           T1|  C5841053|       null|         F|  JAMSHEDPUR|          17819.05|           null|         143207|             25.0|\n",
            "|           T3|  C4417068|       null|         F|      MUMBAI|          17874.44|           null|         142712|            459.0|\n",
            "|           T6|  C1536588|       null|         F|    ITANAGAR|           53609.2|           null|         173940|            676.0|\n",
            "|           T7|  C7126560|       null|         F|      MUMBAI|            973.46|           null|         173806|            566.0|\n",
            "|           T8|  C1220223|       null|         M|      MUMBAI|          95075.54|           null|         170537|            148.0|\n",
            "|           T9|  C8536061|       null|         F|     GURGAON|          14906.96|           null|         192825|            833.0|\n",
            "|          T10|  C6638934|       null|         M|      MUMBAI|           4279.22|           null|         192446|           289.11|\n",
            "|          T11|  C5430833|       null|         M|      MOHALI|          48429.49|           null|         204133|            259.0|\n",
            "|          T12|  C6939838|       null|         M|      GUNTUR|          14613.46|           null|         205108|            202.0|\n",
            "|          T14|  C8327851|       null|         F|       THANE|          59950.44|           null|          84706|             50.0|\n",
            "+-------------+----------+-----------+----------+------------+------------------+---------------+---------------+-----------------+\n",
            "only showing top 10 rows\n",
            "\n"
          ]
        }
      ]
    },
    {
      "cell_type": "code",
      "source": [
        "df.createOrReplaceTempView(\"Top50TransactionAmount\")\n",
        "query = '''SELECT CustomerID, CustGender, CustLocation, CustAccountBalance, TransactionAmount FROM Top50TransactionAmount ORDER BY TransactionAmount DESC'''\n",
        "spark.sql(query).show(50)"
      ],
      "metadata": {
        "colab": {
          "base_uri": "https://localhost:8080/"
        },
        "id": "9P3pXdCdm92X",
        "outputId": "7688ae45-7a24-48b5-f5e0-7317f7cd44b7"
      },
      "execution_count": 180,
      "outputs": [
        {
          "output_type": "stream",
          "name": "stdout",
          "text": [
            "+----------+----------+-----------------+------------------+-----------------+\n",
            "|CustomerID|CustGender|     CustLocation|CustAccountBalance|TransactionAmount|\n",
            "+----------+----------+-----------------+------------------+-----------------+\n",
            "|  C7319271|         M|          GURGAON|          42487.89|        1560035.0|\n",
            "|  C7319271|         M|          GURGAON|          42487.89|        1560035.0|\n",
            "|  C7319271|         M|          GURGAON|          42487.89|        1560035.0|\n",
            "|  C7319271|         M|          GURGAON|          42487.89|        1560035.0|\n",
            "|  C7319271|         M|          GURGAON|          42487.89|        1560035.0|\n",
            "|  C6677159|         F|             PUNE|          98660.33|        1380002.9|\n",
            "|  C6677159|         F|             PUNE|          98660.33|        1380002.9|\n",
            "|  C6677159|         F|             PUNE|          98660.33|        1380002.9|\n",
            "|  C6677159|         F|             PUNE|          98660.33|        1380002.9|\n",
            "|  C6677159|         F|             PUNE|          98660.33|        1380002.9|\n",
            "|  C4141768|         M|        NEW DELHI|           83608.1|        991132.25|\n",
            "|  C4141768|         M|        NEW DELHI|           83608.1|        991132.25|\n",
            "|  C4141768|         M|        NEW DELHI|           83608.1|        991132.25|\n",
            "|  C4141768|         M|        NEW DELHI|           83608.1|        991132.25|\n",
            "|  C4141768|         M|        NEW DELHI|           83608.1|        991132.25|\n",
            "|  C8217728|         M|           MUMBAI|       6.1382212E7|         724122.0|\n",
            "|  C8217728|         M|           MUMBAI|       6.1382212E7|         724122.0|\n",
            "|  C8217728|         M|           MUMBAI|       6.1382212E7|         724122.0|\n",
            "|  C8217728|         M|           MUMBAI|       6.1382212E7|         724122.0|\n",
            "|  C8217728|         M|           MUMBAI|       6.1382212E7|         724122.0|\n",
            "|  C1830891|         F|          KOLKATA|          14177.65|         720001.2|\n",
            "|  C1830891|         F|          KOLKATA|          14177.65|         720001.2|\n",
            "|  C1830891|         F|          KOLKATA|          14177.65|         720001.2|\n",
            "|  C1830891|         F|          KOLKATA|          14177.65|         720001.2|\n",
            "|  C1830891|         F|          KOLKATA|          14177.65|         720001.2|\n",
            "|  C6549785|         F|            NOIDA|          29198.46|         600008.3|\n",
            "|  C6549785|         F|            NOIDA|          29198.46|         600008.3|\n",
            "|  C6549785|         F|            NOIDA|          29198.46|         600008.3|\n",
            "|  C6549785|         F|            NOIDA|          29198.46|         600008.3|\n",
            "|  C6549785|         F|            NOIDA|          29198.46|         600008.3|\n",
            "|  C5036642|         M|        NEW DELHI|          136294.6|        600003.44|\n",
            "|  C5036642|         M|        NEW DELHI|          136294.6|        600003.44|\n",
            "|  C5036642|         M|        NEW DELHI|          136294.6|        600003.44|\n",
            "|  C5036642|         M|        NEW DELHI|          136294.6|        600003.44|\n",
            "|  C5036642|         M|        NEW DELHI|          136294.6|        600003.44|\n",
            "|  C4328064|         F|            DELHI|          38735.17|        569500.25|\n",
            "|  C4328064|         F|            DELHI|          38735.17|        569500.25|\n",
            "|  C4328064|         F|            DELHI|          38735.17|        569500.25|\n",
            "|  C4328064|         F|            DELHI|          38735.17|        569500.25|\n",
            "|  C4328064|         F|            DELHI|          38735.17|        569500.25|\n",
            "|  C1425138|         M|           MUMBAI|           9324.35|         561001.0|\n",
            "|  C1425138|         M|           MUMBAI|           9324.35|         561001.0|\n",
            "|  C1425138|         M|           MUMBAI|           9324.35|         561001.0|\n",
            "|  C1425138|         M|           MUMBAI|           9324.35|         561001.0|\n",
            "|  C1425138|         M|           MUMBAI|           9324.35|         561001.0|\n",
            "|  C5833636|         M|PALAKKARAI TRICHY|         143883.69|        557000.75|\n",
            "|  C5833636|         M|PALAKKARAI TRICHY|         143883.69|        557000.75|\n",
            "|  C5833636|         M|PALAKKARAI TRICHY|         143883.69|        557000.75|\n",
            "|  C5833636|         M|PALAKKARAI TRICHY|         143883.69|        557000.75|\n",
            "|  C5833636|         M|PALAKKARAI TRICHY|         143883.69|        557000.75|\n",
            "+----------+----------+-----------------+------------------+-----------------+\n",
            "only showing top 50 rows\n",
            "\n"
          ]
        }
      ]
    },
    {
      "cell_type": "code",
      "execution_count": 181,
      "metadata": {
        "colab": {
          "base_uri": "https://localhost:8080/",
          "height": 206
        },
        "id": "T6OZvEBFcsWv",
        "outputId": "6e582bb5-5787-4174-a01d-2d4f87602875"
      },
      "outputs": [
        {
          "output_type": "execute_result",
          "data": {
            "text/plain": [
              "  summary TransactionID CustomerID CustGender              CustLocation  \\\n",
              "0   count       5230990    5230990    5225490                   5230235   \n",
              "1    mean          None       None       None                  400012.0   \n",
              "2  stddev          None       None       None                       0.0   \n",
              "3     min            T1   C1010011          F  (154) BHASKOLA FARIDABAD   \n",
              "4     max       T999999   C9099956          T                 ZUNHEBOTO   \n",
              "\n",
              "   CustAccountBalance     TransactionTime   TransactionAmount  \n",
              "0             5230990             5230990             5230990  \n",
              "1  115403.54003532637  157093.97752911015  1573.2668660781376  \n",
              "2   846485.0576792513  51262.197489018334   6569.712619439309  \n",
              "3                 0.0                   0                 0.0  \n",
              "4        1.15035496E8              235959           1560035.0  "
            ],
            "text/html": [
              "\n",
              "  <div id=\"df-20381a9f-fab1-41d9-9c61-cb4356e9976d\">\n",
              "    <div class=\"colab-df-container\">\n",
              "      <div>\n",
              "<style scoped>\n",
              "    .dataframe tbody tr th:only-of-type {\n",
              "        vertical-align: middle;\n",
              "    }\n",
              "\n",
              "    .dataframe tbody tr th {\n",
              "        vertical-align: top;\n",
              "    }\n",
              "\n",
              "    .dataframe thead th {\n",
              "        text-align: right;\n",
              "    }\n",
              "</style>\n",
              "<table border=\"1\" class=\"dataframe\">\n",
              "  <thead>\n",
              "    <tr style=\"text-align: right;\">\n",
              "      <th></th>\n",
              "      <th>summary</th>\n",
              "      <th>TransactionID</th>\n",
              "      <th>CustomerID</th>\n",
              "      <th>CustGender</th>\n",
              "      <th>CustLocation</th>\n",
              "      <th>CustAccountBalance</th>\n",
              "      <th>TransactionTime</th>\n",
              "      <th>TransactionAmount</th>\n",
              "    </tr>\n",
              "  </thead>\n",
              "  <tbody>\n",
              "    <tr>\n",
              "      <th>0</th>\n",
              "      <td>count</td>\n",
              "      <td>5230990</td>\n",
              "      <td>5230990</td>\n",
              "      <td>5225490</td>\n",
              "      <td>5230235</td>\n",
              "      <td>5230990</td>\n",
              "      <td>5230990</td>\n",
              "      <td>5230990</td>\n",
              "    </tr>\n",
              "    <tr>\n",
              "      <th>1</th>\n",
              "      <td>mean</td>\n",
              "      <td>None</td>\n",
              "      <td>None</td>\n",
              "      <td>None</td>\n",
              "      <td>400012.0</td>\n",
              "      <td>115403.54003532637</td>\n",
              "      <td>157093.97752911015</td>\n",
              "      <td>1573.2668660781376</td>\n",
              "    </tr>\n",
              "    <tr>\n",
              "      <th>2</th>\n",
              "      <td>stddev</td>\n",
              "      <td>None</td>\n",
              "      <td>None</td>\n",
              "      <td>None</td>\n",
              "      <td>0.0</td>\n",
              "      <td>846485.0576792513</td>\n",
              "      <td>51262.197489018334</td>\n",
              "      <td>6569.712619439309</td>\n",
              "    </tr>\n",
              "    <tr>\n",
              "      <th>3</th>\n",
              "      <td>min</td>\n",
              "      <td>T1</td>\n",
              "      <td>C1010011</td>\n",
              "      <td>F</td>\n",
              "      <td>(154) BHASKOLA FARIDABAD</td>\n",
              "      <td>0.0</td>\n",
              "      <td>0</td>\n",
              "      <td>0.0</td>\n",
              "    </tr>\n",
              "    <tr>\n",
              "      <th>4</th>\n",
              "      <td>max</td>\n",
              "      <td>T999999</td>\n",
              "      <td>C9099956</td>\n",
              "      <td>T</td>\n",
              "      <td>ZUNHEBOTO</td>\n",
              "      <td>1.15035496E8</td>\n",
              "      <td>235959</td>\n",
              "      <td>1560035.0</td>\n",
              "    </tr>\n",
              "  </tbody>\n",
              "</table>\n",
              "</div>\n",
              "      <button class=\"colab-df-convert\" onclick=\"convertToInteractive('df-20381a9f-fab1-41d9-9c61-cb4356e9976d')\"\n",
              "              title=\"Convert this dataframe to an interactive table.\"\n",
              "              style=\"display:none;\">\n",
              "        \n",
              "  <svg xmlns=\"http://www.w3.org/2000/svg\" height=\"24px\"viewBox=\"0 0 24 24\"\n",
              "       width=\"24px\">\n",
              "    <path d=\"M0 0h24v24H0V0z\" fill=\"none\"/>\n",
              "    <path d=\"M18.56 5.44l.94 2.06.94-2.06 2.06-.94-2.06-.94-.94-2.06-.94 2.06-2.06.94zm-11 1L8.5 8.5l.94-2.06 2.06-.94-2.06-.94L8.5 2.5l-.94 2.06-2.06.94zm10 10l.94 2.06.94-2.06 2.06-.94-2.06-.94-.94-2.06-.94 2.06-2.06.94z\"/><path d=\"M17.41 7.96l-1.37-1.37c-.4-.4-.92-.59-1.43-.59-.52 0-1.04.2-1.43.59L10.3 9.45l-7.72 7.72c-.78.78-.78 2.05 0 2.83L4 21.41c.39.39.9.59 1.41.59.51 0 1.02-.2 1.41-.59l7.78-7.78 2.81-2.81c.8-.78.8-2.07 0-2.86zM5.41 20L4 18.59l7.72-7.72 1.47 1.35L5.41 20z\"/>\n",
              "  </svg>\n",
              "      </button>\n",
              "      \n",
              "  <style>\n",
              "    .colab-df-container {\n",
              "      display:flex;\n",
              "      flex-wrap:wrap;\n",
              "      gap: 12px;\n",
              "    }\n",
              "\n",
              "    .colab-df-convert {\n",
              "      background-color: #E8F0FE;\n",
              "      border: none;\n",
              "      border-radius: 50%;\n",
              "      cursor: pointer;\n",
              "      display: none;\n",
              "      fill: #1967D2;\n",
              "      height: 32px;\n",
              "      padding: 0 0 0 0;\n",
              "      width: 32px;\n",
              "    }\n",
              "\n",
              "    .colab-df-convert:hover {\n",
              "      background-color: #E2EBFA;\n",
              "      box-shadow: 0px 1px 2px rgba(60, 64, 67, 0.3), 0px 1px 3px 1px rgba(60, 64, 67, 0.15);\n",
              "      fill: #174EA6;\n",
              "    }\n",
              "\n",
              "    [theme=dark] .colab-df-convert {\n",
              "      background-color: #3B4455;\n",
              "      fill: #D2E3FC;\n",
              "    }\n",
              "\n",
              "    [theme=dark] .colab-df-convert:hover {\n",
              "      background-color: #434B5C;\n",
              "      box-shadow: 0px 1px 3px 1px rgba(0, 0, 0, 0.15);\n",
              "      filter: drop-shadow(0px 1px 2px rgba(0, 0, 0, 0.3));\n",
              "      fill: #FFFFFF;\n",
              "    }\n",
              "  </style>\n",
              "\n",
              "      <script>\n",
              "        const buttonEl =\n",
              "          document.querySelector('#df-20381a9f-fab1-41d9-9c61-cb4356e9976d button.colab-df-convert');\n",
              "        buttonEl.style.display =\n",
              "          google.colab.kernel.accessAllowed ? 'block' : 'none';\n",
              "\n",
              "        async function convertToInteractive(key) {\n",
              "          const element = document.querySelector('#df-20381a9f-fab1-41d9-9c61-cb4356e9976d');\n",
              "          const dataTable =\n",
              "            await google.colab.kernel.invokeFunction('convertToInteractive',\n",
              "                                                     [key], {});\n",
              "          if (!dataTable) return;\n",
              "\n",
              "          const docLinkHtml = 'Like what you see? Visit the ' +\n",
              "            '<a target=\"_blank\" href=https://colab.research.google.com/notebooks/data_table.ipynb>data table notebook</a>'\n",
              "            + ' to learn more about interactive tables.';\n",
              "          element.innerHTML = '';\n",
              "          dataTable['output_type'] = 'display_data';\n",
              "          await google.colab.output.renderOutput(dataTable, element);\n",
              "          const docLink = document.createElement('div');\n",
              "          docLink.innerHTML = docLinkHtml;\n",
              "          element.appendChild(docLink);\n",
              "        }\n",
              "      </script>\n",
              "    </div>\n",
              "  </div>\n",
              "  "
            ]
          },
          "metadata": {},
          "execution_count": 181
        }
      ],
      "source": [
        "df.describe().toPandas()"
      ]
    },
    {
      "cell_type": "markdown",
      "source": [
        "Gráfico circular relativo ao sexo dos clientes:"
      ],
      "metadata": {
        "id": "wAV0iYCOqiHS"
      }
    },
    {
      "cell_type": "code",
      "source": [
        "from pyspark.sql.functions import col\n",
        "import matplotlib.pyplot as plt\n",
        "\n",
        "# Agrupando as contagens de gênero\n",
        "gender_counts = df.groupBy(\"CustGender\").count()\n",
        "\n",
        "# Extraindo os dados como listas\n",
        "genders = gender_counts.select(\"CustGender\").rdd.flatMap(lambda x: x).collect()\n",
        "counts = gender_counts.select(\"count\").rdd.flatMap(lambda x: x).collect()\n",
        "\n",
        "# Criando o gráfico circular\n",
        "plt.pie(counts, labels=genders, autopct='%1.1f%%')\n",
        "plt.axis('equal')\n",
        "plt.show()\n"
      ],
      "metadata": {
        "colab": {
          "base_uri": "https://localhost:8080/",
          "height": 251
        },
        "id": "hPfqvFMGmfGJ",
        "outputId": "c3546061-f628-4d26-fb9f-cb9a929bab7f"
      },
      "execution_count": 182,
      "outputs": [
        {
          "output_type": "display_data",
          "data": {
            "text/plain": [
              "<Figure size 432x288 with 1 Axes>"
            ],
            "image/png": "[encoded data removed]"
          },
          "metadata": {}
        }
      ]
    },
    {
      "cell_type": "markdown",
      "source": [
        "Os valores que perfazem 0.1% são nulos. 73% dos clientes do banco são do sexo masculino, 26.9% são do sexo feminino. A letra T no gráfico é relativo aos clientes do banco que não se identificam com nenhum dos dois géneros mencionados acima."
      ],
      "metadata": {
        "id": "RHFnptAaMbWM"
      }
    },
    {
      "cell_type": "markdown",
      "source": [
        "**Algoritmo de K-means**"
      ],
      "metadata": {
        "id": "QpC1NOWFWcYJ"
      }
    },
    {
      "cell_type": "code",
      "execution_count": 183,
      "metadata": {
        "colab": {
          "base_uri": "https://localhost:8080/"
        },
        "id": "JpULlVKGcsWx",
        "outputId": "9a819909-79f7-4b77-fd96-b59f709f6090"
      },
      "outputs": [
        {
          "output_type": "stream",
          "name": "stdout",
          "text": [
            "+------------------+-----------------+----------+\n",
            "|CustAccountBalance|TransactionAmount|prediction|\n",
            "+------------------+-----------------+----------+\n",
            "|          17819.05|             25.0|         0|\n",
            "|           2270.69|          27999.0|         0|\n",
            "|          17874.44|            459.0|         0|\n",
            "|          866503.2|           2060.0|         0|\n",
            "|           6714.43|           1762.5|         0|\n",
            "|           53609.2|            676.0|         0|\n",
            "|            973.46|            566.0|         0|\n",
            "|          95075.54|            148.0|         0|\n",
            "|          14906.96|            833.0|         0|\n",
            "|           4279.22|           289.11|         0|\n",
            "|          48429.49|            259.0|         0|\n",
            "|          14613.46|            202.0|         0|\n",
            "|          32274.78|          12300.0|         0|\n",
            "|          59950.44|             50.0|         0|\n",
            "|          10100.84|            338.0|         0|\n",
            "|           1283.12|            250.0|         0|\n",
            "|          77495.15|          1423.11|         0|\n",
            "|           2177.85|             54.0|         0|\n",
            "|          32816.17|            315.0|         0|\n",
            "|           10643.5|            945.0|         0|\n",
            "+------------------+-----------------+----------+\n",
            "only showing top 20 rows\n",
            "\n"
          ]
        }
      ],
      "source": [
        "# Cria um vetor assembler para combinar as colunas \"CustAccountBalance\" e \"TransactionAmount\" em um único vetor\n",
        "vectorAssembler = VectorAssembler(inputCols=[\"CustAccountBalance\", \"TransactionAmount\"], outputCol=\"unscaled_features\")\n",
        "\n",
        "# Utiliza o vetor assembler para transformar o DataFrame\n",
        "df_kmeans = vectorAssembler.transform(df)\n",
        "\n",
        "# Cria um objeto de escalonamento para standardizar os dados\n",
        "scaler = StandardScaler(inputCol=\"unscaled_features\", outputCol=\"features\", withStd=True, withMean=True)\n",
        "\n",
        "# Ajusta o escalonador aos dados e transforma o DataFrame\n",
        "scalerModel = scaler.fit(df_kmeans)\n",
        "df_kmeans = scalerModel.transform(df_kmeans)\n",
        "\n",
        "# Instancia o modelo KMeans com o número de clusters desejado\n",
        "kmeans = KMeans(k=3, seed=1)\n",
        "\n",
        "# Ajusta o modelo aos dados\n",
        "model = kmeans.fit(df_kmeans)\n",
        "\n",
        "# Faz a previsão dos clusters\n",
        "predictions = model.transform(df_kmeans)\n",
        "\n",
        "# Exibe os resultados\n",
        "predictions.select(\"CustAccountBalance\", \"TransactionAmount\",\"prediction\").show()"
      ]
    },
    {
      "cell_type": "markdown",
      "source": [
        "Se as previsões de clusters de um output de k-means têm valores de 0, isso pode indicar que os dados associados a essas previsões não foram atribuídos a nenhum cluster. Isso pode acontecer se os dados não se encaixarem em nenhum dos clusters criados pelo algoritmo, ou se o algoritmo não conseguiu encontrar nenhum cluster significativo nos dados."
      ],
      "metadata": {
        "id": "CDXAKZGfli9D"
      }
    },
    {
      "cell_type": "markdown",
      "source": [
        "**Algoritmo de Regressão Linear**"
      ],
      "metadata": {
        "id": "JbGDdMe5Nwm4"
      }
    },
    {
      "cell_type": "code",
      "execution_count": 184,
      "metadata": {
        "id": "fZSZe34NcsW0"
      },
      "outputs": [],
      "source": [
        "# Cria o objeto VectorAssembler para combinar as colunas em uma única coluna de vetores\n",
        "assembler = VectorAssembler(inputCols=[\"CustAccountBalance\", \"TransactionAmount\"], outputCol=\"features2\")\n",
        "\n",
        "# Ajusta o assembler ao seu dataframe\n",
        "df_vec = assembler.transform(df)\n",
        "\n",
        "# Cria o objeto StandardScaler\n",
        "scaler = StandardScaler(inputCol=\"features2\", outputCol=\"scaledFeatures\", withStd=True, withMean=True)\n",
        "\n",
        "# Ajusta o scaler ao seu dataframe\n",
        "scaled_df = scaler.fit(df_vec).transform(df_vec)\n"
      ]
    },
    {
      "cell_type": "code",
      "execution_count": 185,
      "metadata": {
        "id": "EhJJs3EwcsW0"
      },
      "outputs": [],
      "source": [
        "from pyspark.ml.regression import LinearRegression\n",
        "\n",
        "# Cria o objeto LinearRegression\n",
        "lr = LinearRegression(featuresCol=\"scaledFeatures\", labelCol=\"CustAccountBalance\", maxIter=10, regParam=0.3, elasticNetParam=0.8)\n",
        "\n",
        "# Dividindo o dataframe em conjunto de treinamento e teste\n",
        "train_df, test_df = scaled_df.randomSplit([0.9, 0.1])\n",
        "\n",
        "# Treinando o modelo\n",
        "model = lr.fit(train_df)\n",
        "\n",
        "# Testando o modelo\n",
        "predictions = model.transform(test_df)\n"
      ]
    },
    {
      "cell_type": "code",
      "execution_count": 186,
      "metadata": {
        "colab": {
          "base_uri": "https://localhost:8080/"
        },
        "id": "gDWarbH5csW1",
        "outputId": "66983bf7-f17c-4a0f-825b-488cdbc22663"
      },
      "outputs": [
        {
          "output_type": "stream",
          "name": "stdout",
          "text": [
            "+------------------+\n",
            "|        prediction|\n",
            "+------------------+\n",
            "| 57477.30969112188|\n",
            "|29521.630212340053|\n",
            "|184938.77202648125|\n",
            "| 9257.717520452788|\n",
            "| 5.651134143059608|\n",
            "|  324498.706607711|\n",
            "| 223030.4771856923|\n",
            "|  7309.02876260296|\n",
            "|2282.6902239255724|\n",
            "| 328.3010286564968|\n",
            "| 36566.10621455732|\n",
            "| 6132.768928375997|\n",
            "|  937077.331794988|\n",
            "|  89396.0561152909|\n",
            "| 25803.52216392866|\n",
            "| 50156.15214699719|\n",
            "| 209789.9037848137|\n",
            "| 118701.8269092469|\n",
            "|18.701129200853757|\n",
            "|1031.8907434421417|\n",
            "+------------------+\n",
            "only showing top 20 rows\n",
            "\n"
          ]
        }
      ],
      "source": [
        "# Aplicando o modelo aos dados de teste\n",
        "predictions = model.transform(test_df)\n",
        "\n",
        "# Visualizando as previsões\n",
        "predictions.select(\"prediction\").show()\n"
      ]
    },
    {
      "cell_type": "code",
      "execution_count": 189,
      "metadata": {
        "colab": {
          "base_uri": "https://localhost:8080/"
        },
        "id": "0siYrBBvcsW1",
        "outputId": "98fe8a91-18b8-4442-f881-5f7b6a7413df"
      },
      "outputs": [
        {
          "output_type": "stream",
          "name": "stdout",
          "text": [
            "Root Mean Squared Error (RMSE) on test data = 0.318969\n"
          ]
        }
      ],
      "source": [
        "from pyspark.ml.evaluation import RegressionEvaluator\n",
        "\n",
        "# Cria o objeto RegressionEvaluator\n",
        "evaluator = RegressionEvaluator(labelCol=\"CustAccountBalance\", predictionCol=\"prediction\", metricName=\"rmse\")\n",
        "\n",
        "# Calcular o RMSE\n",
        "rmse = evaluator.evaluate(predictions)\n",
        "print(\"Root Mean Squared Error (RMSE) on test data = %g\" % rmse)\n"
      ]
    },
    {
      "cell_type": "code",
      "execution_count": 190,
      "metadata": {
        "colab": {
          "base_uri": "https://localhost:8080/"
        },
        "id": "VEoG-5RkcsW2",
        "outputId": "d930af53-beaa-42e2-e003-c3f681ab3354"
      },
      "outputs": [
        {
          "output_type": "stream",
          "name": "stdout",
          "text": [
            "R-squared value: 0.9999999999998727\n"
          ]
        }
      ],
      "source": [
        "# Acessando o resumo do modelo\n",
        "summary = model.summary\n",
        "\n",
        "# Obtendo o R²\n",
        "r2 = summary.r2\n",
        "\n",
        "# Exibindo o R²\n",
        "print(\"R-squared value:\", r2)\n"
      ]
    },
    {
      "cell_type": "code",
      "execution_count": 191,
      "metadata": {
        "colab": {
          "base_uri": "https://localhost:8080/"
        },
        "id": "xMYQK37icsW2",
        "outputId": "ea6d965d-8831-4511-977f-8bf16868f6b1"
      },
      "outputs": [
        {
          "output_type": "stream",
          "name": "stdout",
          "text": [
            "Mean Absolute Error (MAE) on test data = 0.0566807\n"
          ]
        }
      ],
      "source": [
        "from pyspark.ml.evaluation import RegressionEvaluator\n",
        "\n",
        "# Cria o objeto RegressionEvaluator\n",
        "evaluator = RegressionEvaluator(labelCol=\"CustAccountBalance\", predictionCol=\"prediction\", metricName=\"mae\")\n",
        "\n",
        "# Calcular o MAE\n",
        "mae = evaluator.evaluate(predictions)\n",
        "print(\"Mean Absolute Error (MAE) on test data = %g\" % mae)\n"
      ]
    },
    {
      "cell_type": "code",
      "execution_count": 192,
      "metadata": {
        "colab": {
          "base_uri": "https://localhost:8080/"
        },
        "id": "kCAEdUQ5csW2",
        "outputId": "2d52dfc9-6aae-4f54-e2ac-5a563aff662d"
      },
      "outputs": [
        {
          "output_type": "stream",
          "name": "stdout",
          "text": [
            "Mean Squared Error (MSE) on test data = 0.101741\n"
          ]
        }
      ],
      "source": [
        "# Cria o objeto RegressionEvaluator\n",
        "evaluator = RegressionEvaluator(labelCol=\"CustAccountBalance\", predictionCol=\"prediction\", metricName=\"mse\")\n",
        "\n",
        "# Calcular o MSE\n",
        "mse = evaluator.evaluate(predictions)\n",
        "print(\"Mean Squared Error (MSE) on test data = %g\" % mse)\n"
      ]
    },
    {
      "cell_type": "code",
      "execution_count": 193,
      "metadata": {
        "colab": {
          "base_uri": "https://localhost:8080/",
          "height": 295
        },
        "id": "VywxKdSYcsW3",
        "outputId": "ec119a79-62f0-4cca-ce93-7e7fd87af04c"
      },
      "outputs": [
        {
          "output_type": "display_data",
          "data": {
            "text/plain": [
              "<Figure size 432x288 with 1 Axes>"
            ],
            "image/png": "[encoded data removed]"
          },
          "metadata": {
            "needs_background": "light"
          }
        }
      ],
      "source": [
        "import matplotlib.pyplot as plt\n",
        "\n",
        "# Extrair as colunas de previsão e rótulo do dataframe de previsões\n",
        "predictions_col = predictions.select(\"prediction\").toPandas()\n",
        "label_col = predictions.select(\"CustAccountBalance\").toPandas()\n",
        "\n",
        "# Plotar as previsões em relação aos valores reais\n",
        "plt.scatter(label_col, predictions_col)\n",
        "plt.xlabel(\"Valores Reais\")\n",
        "plt.ylabel(\"Previsões\")\n",
        "plt.title(\"Previsões de Regressão Linear\")\n",
        "plt.show()"
      ]
    },
    {
      "cell_type": "code",
      "execution_count": null,
      "metadata": {
        "id": "r1PKRsvUcsW3"
      },
      "outputs": [],
      "source": []
    }
  ],
  "metadata": {
    "kernelspec": {
      "display_name": "Python 3",
      "language": "python",
      "name": "python3"
    },
    "language_info": {
      "codemirror_mode": {
        "name": "ipython",
        "version": 3
      },
      "file_extension": ".py",
      "mimetype": "text/x-python",
      "name": "python",
      "nbconvert_exporter": "python",
      "pygments_lexer": "ipython3",
      "version": "3.8.5"
    },
    "colab": {
      "provenance": [],
      "include_colab_link": true
    }
  },
  "nbformat": 4,
  "nbformat_minor": 0
}